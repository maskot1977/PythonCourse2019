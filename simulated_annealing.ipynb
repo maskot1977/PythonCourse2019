{
  "nbformat": 4,
  "nbformat_minor": 0,
  "metadata": {
    "colab": {
      "name": "simulated_annealing",
      "provenance": [],
      "collapsed_sections": [],
      "authorship_tag": "ABX9TyP68PKbKA5h/66q8Ehp5kdx",
      "include_colab_link": true
    },
    "kernelspec": {
      "name": "python3",
      "display_name": "Python 3"
    }
  },
  "cells": [
    {
      "cell_type": "markdown",
      "metadata": {
        "id": "view-in-github",
        "colab_type": "text"
      },
      "source": [
        "<a href=\"https://colab.research.google.com/github/maskot1977/PythonCourse2019/blob/master/simulated_annealing.ipynb\" target=\"_parent\"><img src=\"https://colab.research.google.com/assets/colab-badge.svg\" alt=\"Open In Colab\"/></a>"
      ]
    },
    {
      "cell_type": "markdown",
      "metadata": {
        "id": "o0uqG73vqbOf",
        "colab_type": "text"
      },
      "source": [
        "# 日本の県庁所在地データ"
      ]
    },
    {
      "cell_type": "code",
      "metadata": {
        "id": "N4dnO4WK2UMh",
        "colab_type": "code",
        "colab": {
          "base_uri": "https://localhost:8080/",
          "height": 35
        },
        "outputId": "70bb3543-0147-43bb-dc10-40bd1b7c483b"
      },
      "source": [
        "import urllib.request\n",
        "url = 'https://raw.githubusercontent.com/maskot1977/ipython_notebook/master/toydata/location.txt'\n",
        "urllib.request.urlretrieve(url, 'location.txt') # データのダウンロード"
      ],
      "execution_count": 1,
      "outputs": [
        {
          "output_type": "execute_result",
          "data": {
            "text/plain": [
              "('location.txt', <http.client.HTTPMessage at 0x7f9f4e7685c0>)"
            ]
          },
          "metadata": {
            "tags": []
          },
          "execution_count": 1
        }
      ]
    },
    {
      "cell_type": "code",
      "metadata": {
        "id": "aUDa-E5J2Ypu",
        "colab_type": "code",
        "colab": {
          "base_uri": "https://localhost:8080/",
          "height": 1000
        },
        "outputId": "c722d581-7b66-4597-b552-e1024b3d6919"
      },
      "source": [
        "import pandas as pd\n",
        "japan = pd.read_csv('location.txt')\n",
        "japan"
      ],
      "execution_count": 2,
      "outputs": [
        {
          "output_type": "execute_result",
          "data": {
            "text/html": [
              "<div>\n",
              "<style scoped>\n",
              "    .dataframe tbody tr th:only-of-type {\n",
              "        vertical-align: middle;\n",
              "    }\n",
              "\n",
              "    .dataframe tbody tr th {\n",
              "        vertical-align: top;\n",
              "    }\n",
              "\n",
              "    .dataframe thead th {\n",
              "        text-align: right;\n",
              "    }\n",
              "</style>\n",
              "<table border=\"1\" class=\"dataframe\">\n",
              "  <thead>\n",
              "    <tr style=\"text-align: right;\">\n",
              "      <th></th>\n",
              "      <th>Town</th>\n",
              "      <th>Longitude</th>\n",
              "      <th>Latitude</th>\n",
              "    </tr>\n",
              "  </thead>\n",
              "  <tbody>\n",
              "    <tr>\n",
              "      <th>0</th>\n",
              "      <td>Sapporo</td>\n",
              "      <td>43.06417</td>\n",
              "      <td>141.34694</td>\n",
              "    </tr>\n",
              "    <tr>\n",
              "      <th>1</th>\n",
              "      <td>Aomori</td>\n",
              "      <td>40.82444</td>\n",
              "      <td>140.74000</td>\n",
              "    </tr>\n",
              "    <tr>\n",
              "      <th>2</th>\n",
              "      <td>Morioka</td>\n",
              "      <td>39.70361</td>\n",
              "      <td>141.15250</td>\n",
              "    </tr>\n",
              "    <tr>\n",
              "      <th>3</th>\n",
              "      <td>Sendai</td>\n",
              "      <td>38.26889</td>\n",
              "      <td>140.87194</td>\n",
              "    </tr>\n",
              "    <tr>\n",
              "      <th>4</th>\n",
              "      <td>Akita</td>\n",
              "      <td>39.71861</td>\n",
              "      <td>140.10250</td>\n",
              "    </tr>\n",
              "    <tr>\n",
              "      <th>5</th>\n",
              "      <td>Yamagata</td>\n",
              "      <td>38.24056</td>\n",
              "      <td>140.36333</td>\n",
              "    </tr>\n",
              "    <tr>\n",
              "      <th>6</th>\n",
              "      <td>Fukushima</td>\n",
              "      <td>37.75000</td>\n",
              "      <td>140.46778</td>\n",
              "    </tr>\n",
              "    <tr>\n",
              "      <th>7</th>\n",
              "      <td>Mito</td>\n",
              "      <td>36.34139</td>\n",
              "      <td>140.44667</td>\n",
              "    </tr>\n",
              "    <tr>\n",
              "      <th>8</th>\n",
              "      <td>Utsunomiya</td>\n",
              "      <td>36.56583</td>\n",
              "      <td>139.88361</td>\n",
              "    </tr>\n",
              "    <tr>\n",
              "      <th>9</th>\n",
              "      <td>Maebashi</td>\n",
              "      <td>36.39111</td>\n",
              "      <td>139.06083</td>\n",
              "    </tr>\n",
              "    <tr>\n",
              "      <th>10</th>\n",
              "      <td>Saitama</td>\n",
              "      <td>35.85694</td>\n",
              "      <td>139.64889</td>\n",
              "    </tr>\n",
              "    <tr>\n",
              "      <th>11</th>\n",
              "      <td>Chiba</td>\n",
              "      <td>35.60472</td>\n",
              "      <td>140.12333</td>\n",
              "    </tr>\n",
              "    <tr>\n",
              "      <th>12</th>\n",
              "      <td>Tokyo</td>\n",
              "      <td>35.68944</td>\n",
              "      <td>139.69167</td>\n",
              "    </tr>\n",
              "    <tr>\n",
              "      <th>13</th>\n",
              "      <td>Yokohama</td>\n",
              "      <td>35.44778</td>\n",
              "      <td>139.64250</td>\n",
              "    </tr>\n",
              "    <tr>\n",
              "      <th>14</th>\n",
              "      <td>Niigata</td>\n",
              "      <td>37.90222</td>\n",
              "      <td>139.02361</td>\n",
              "    </tr>\n",
              "    <tr>\n",
              "      <th>15</th>\n",
              "      <td>Toyama</td>\n",
              "      <td>36.69528</td>\n",
              "      <td>137.21139</td>\n",
              "    </tr>\n",
              "    <tr>\n",
              "      <th>16</th>\n",
              "      <td>Kanazawa</td>\n",
              "      <td>36.59444</td>\n",
              "      <td>136.62556</td>\n",
              "    </tr>\n",
              "    <tr>\n",
              "      <th>17</th>\n",
              "      <td>Fukui</td>\n",
              "      <td>36.06528</td>\n",
              "      <td>136.22194</td>\n",
              "    </tr>\n",
              "    <tr>\n",
              "      <th>18</th>\n",
              "      <td>Kofu</td>\n",
              "      <td>35.66389</td>\n",
              "      <td>138.56833</td>\n",
              "    </tr>\n",
              "    <tr>\n",
              "      <th>19</th>\n",
              "      <td>Nagano</td>\n",
              "      <td>36.65139</td>\n",
              "      <td>138.18111</td>\n",
              "    </tr>\n",
              "    <tr>\n",
              "      <th>20</th>\n",
              "      <td>Gifu</td>\n",
              "      <td>35.39111</td>\n",
              "      <td>136.72222</td>\n",
              "    </tr>\n",
              "    <tr>\n",
              "      <th>21</th>\n",
              "      <td>Shizuoka</td>\n",
              "      <td>34.97694</td>\n",
              "      <td>138.38306</td>\n",
              "    </tr>\n",
              "    <tr>\n",
              "      <th>22</th>\n",
              "      <td>Nagoya</td>\n",
              "      <td>35.18028</td>\n",
              "      <td>136.90667</td>\n",
              "    </tr>\n",
              "    <tr>\n",
              "      <th>23</th>\n",
              "      <td>Tsu</td>\n",
              "      <td>34.73028</td>\n",
              "      <td>136.50861</td>\n",
              "    </tr>\n",
              "    <tr>\n",
              "      <th>24</th>\n",
              "      <td>Otsu</td>\n",
              "      <td>35.00444</td>\n",
              "      <td>135.86833</td>\n",
              "    </tr>\n",
              "    <tr>\n",
              "      <th>25</th>\n",
              "      <td>Kyoto</td>\n",
              "      <td>35.02139</td>\n",
              "      <td>135.75556</td>\n",
              "    </tr>\n",
              "    <tr>\n",
              "      <th>26</th>\n",
              "      <td>Osaka</td>\n",
              "      <td>34.68639</td>\n",
              "      <td>135.52000</td>\n",
              "    </tr>\n",
              "    <tr>\n",
              "      <th>27</th>\n",
              "      <td>Kobe</td>\n",
              "      <td>34.69139</td>\n",
              "      <td>135.18306</td>\n",
              "    </tr>\n",
              "    <tr>\n",
              "      <th>28</th>\n",
              "      <td>Nara</td>\n",
              "      <td>34.68528</td>\n",
              "      <td>135.83278</td>\n",
              "    </tr>\n",
              "    <tr>\n",
              "      <th>29</th>\n",
              "      <td>Wakayama</td>\n",
              "      <td>34.22611</td>\n",
              "      <td>135.16750</td>\n",
              "    </tr>\n",
              "    <tr>\n",
              "      <th>30</th>\n",
              "      <td>Tottori</td>\n",
              "      <td>35.50361</td>\n",
              "      <td>134.23833</td>\n",
              "    </tr>\n",
              "    <tr>\n",
              "      <th>31</th>\n",
              "      <td>Matsue</td>\n",
              "      <td>35.47222</td>\n",
              "      <td>133.05056</td>\n",
              "    </tr>\n",
              "    <tr>\n",
              "      <th>32</th>\n",
              "      <td>Okayama</td>\n",
              "      <td>34.66167</td>\n",
              "      <td>133.93500</td>\n",
              "    </tr>\n",
              "    <tr>\n",
              "      <th>33</th>\n",
              "      <td>Hiroshima</td>\n",
              "      <td>34.39639</td>\n",
              "      <td>132.45944</td>\n",
              "    </tr>\n",
              "    <tr>\n",
              "      <th>34</th>\n",
              "      <td>Yamaguchi</td>\n",
              "      <td>34.18583</td>\n",
              "      <td>131.47139</td>\n",
              "    </tr>\n",
              "    <tr>\n",
              "      <th>35</th>\n",
              "      <td>Tokushima</td>\n",
              "      <td>34.06583</td>\n",
              "      <td>134.55944</td>\n",
              "    </tr>\n",
              "    <tr>\n",
              "      <th>36</th>\n",
              "      <td>Takamatsu</td>\n",
              "      <td>34.34028</td>\n",
              "      <td>134.04333</td>\n",
              "    </tr>\n",
              "    <tr>\n",
              "      <th>37</th>\n",
              "      <td>Matsuyama</td>\n",
              "      <td>33.84167</td>\n",
              "      <td>132.76611</td>\n",
              "    </tr>\n",
              "    <tr>\n",
              "      <th>38</th>\n",
              "      <td>Kochi</td>\n",
              "      <td>33.55972</td>\n",
              "      <td>133.53111</td>\n",
              "    </tr>\n",
              "    <tr>\n",
              "      <th>39</th>\n",
              "      <td>Fukuoka</td>\n",
              "      <td>33.60639</td>\n",
              "      <td>130.41806</td>\n",
              "    </tr>\n",
              "    <tr>\n",
              "      <th>40</th>\n",
              "      <td>Saga</td>\n",
              "      <td>33.24944</td>\n",
              "      <td>130.29889</td>\n",
              "    </tr>\n",
              "    <tr>\n",
              "      <th>41</th>\n",
              "      <td>Nagasaki</td>\n",
              "      <td>32.74472</td>\n",
              "      <td>129.87361</td>\n",
              "    </tr>\n",
              "    <tr>\n",
              "      <th>42</th>\n",
              "      <td>Kumamoto</td>\n",
              "      <td>32.78972</td>\n",
              "      <td>130.74167</td>\n",
              "    </tr>\n",
              "    <tr>\n",
              "      <th>43</th>\n",
              "      <td>Oita</td>\n",
              "      <td>33.23806</td>\n",
              "      <td>131.61250</td>\n",
              "    </tr>\n",
              "    <tr>\n",
              "      <th>44</th>\n",
              "      <td>Miyazaki</td>\n",
              "      <td>31.91111</td>\n",
              "      <td>131.42389</td>\n",
              "    </tr>\n",
              "    <tr>\n",
              "      <th>45</th>\n",
              "      <td>Kagoshima</td>\n",
              "      <td>31.56028</td>\n",
              "      <td>130.55806</td>\n",
              "    </tr>\n",
              "    <tr>\n",
              "      <th>46</th>\n",
              "      <td>Naha</td>\n",
              "      <td>26.21250</td>\n",
              "      <td>127.68111</td>\n",
              "    </tr>\n",
              "  </tbody>\n",
              "</table>\n",
              "</div>"
            ],
            "text/plain": [
              "          Town  Longitude   Latitude\n",
              "0      Sapporo   43.06417  141.34694\n",
              "1       Aomori   40.82444  140.74000\n",
              "2      Morioka   39.70361  141.15250\n",
              "3       Sendai   38.26889  140.87194\n",
              "4        Akita   39.71861  140.10250\n",
              "5     Yamagata   38.24056  140.36333\n",
              "6    Fukushima   37.75000  140.46778\n",
              "7         Mito   36.34139  140.44667\n",
              "8   Utsunomiya   36.56583  139.88361\n",
              "9     Maebashi   36.39111  139.06083\n",
              "10     Saitama   35.85694  139.64889\n",
              "11       Chiba   35.60472  140.12333\n",
              "12       Tokyo   35.68944  139.69167\n",
              "13    Yokohama   35.44778  139.64250\n",
              "14     Niigata   37.90222  139.02361\n",
              "15      Toyama   36.69528  137.21139\n",
              "16    Kanazawa   36.59444  136.62556\n",
              "17       Fukui   36.06528  136.22194\n",
              "18        Kofu   35.66389  138.56833\n",
              "19      Nagano   36.65139  138.18111\n",
              "20        Gifu   35.39111  136.72222\n",
              "21    Shizuoka   34.97694  138.38306\n",
              "22      Nagoya   35.18028  136.90667\n",
              "23         Tsu   34.73028  136.50861\n",
              "24        Otsu   35.00444  135.86833\n",
              "25       Kyoto   35.02139  135.75556\n",
              "26       Osaka   34.68639  135.52000\n",
              "27        Kobe   34.69139  135.18306\n",
              "28        Nara   34.68528  135.83278\n",
              "29    Wakayama   34.22611  135.16750\n",
              "30     Tottori   35.50361  134.23833\n",
              "31      Matsue   35.47222  133.05056\n",
              "32     Okayama   34.66167  133.93500\n",
              "33   Hiroshima   34.39639  132.45944\n",
              "34   Yamaguchi   34.18583  131.47139\n",
              "35   Tokushima   34.06583  134.55944\n",
              "36   Takamatsu   34.34028  134.04333\n",
              "37   Matsuyama   33.84167  132.76611\n",
              "38       Kochi   33.55972  133.53111\n",
              "39     Fukuoka   33.60639  130.41806\n",
              "40        Saga   33.24944  130.29889\n",
              "41    Nagasaki   32.74472  129.87361\n",
              "42    Kumamoto   32.78972  130.74167\n",
              "43        Oita   33.23806  131.61250\n",
              "44    Miyazaki   31.91111  131.42389\n",
              "45   Kagoshima   31.56028  130.55806\n",
              "46        Naha   26.21250  127.68111"
            ]
          },
          "metadata": {
            "tags": []
          },
          "execution_count": 2
        }
      ]
    },
    {
      "cell_type": "code",
      "metadata": {
        "id": "N1A06Azj2cBP",
        "colab_type": "code",
        "colab": {
          "base_uri": "https://localhost:8080/",
          "height": 483
        },
        "outputId": "b48d7f52-2414-49fb-b6e7-4794eb381ec9"
      },
      "source": [
        "%matplotlib inline\n",
        "import matplotlib.pyplot as plt\n",
        "plt.figure(figsize=(10, 8))\n",
        "plt.scatter(japan['Latitude'], japan['Longitude'])\n",
        "for city, x, y in zip(japan['Town'], japan['Latitude'], japan['Longitude']):\n",
        "    plt.text(x, y, city, alpha=0.5, size=12)\n",
        "plt.grid()"
      ],
      "execution_count": 3,
      "outputs": [
        {
          "output_type": "display_data",
          "data": {
            "image/png": "[encoded data removed]",
            "text/plain": [
              "<Figure size 720x576 with 1 Axes>"
            ]
          },
          "metadata": {
            "tags": []
          }
        }
      ]
    },
    {
      "cell_type": "code",
      "metadata": {
        "id": "6A6TqlHN2qJP",
        "colab_type": "code",
        "colab": {}
      },
      "source": [
        "import numpy as np\n",
        "from scipy.spatial import distance\n",
        "\n",
        "mat = japan[['Latitude', 'Longitude']].values\n",
        "dist_mat = distance.cdist(mat, mat, metric='euclidean') # ユークリッド距離"
      ],
      "execution_count": 0,
      "outputs": []
    },
    {
      "cell_type": "code",
      "metadata": {
        "id": "H4_onR9-2xTz",
        "colab_type": "code",
        "colab": {}
      },
      "source": [
        "import random\n",
        "init_state = list(japan['Town'])\n",
        "random.shuffle(init_state)"
      ],
      "execution_count": 0,
      "outputs": []
    },
    {
      "cell_type": "code",
      "metadata": {
        "id": "14s23Xxv25t8",
        "colab_type": "code",
        "colab": {
          "base_uri": "https://localhost:8080/",
          "height": 106
        },
        "outputId": "a59b4216-aeb9-45d1-9aec-c240b017a835"
      },
      "source": [
        "!pip install simanneal"
      ],
      "execution_count": 9,
      "outputs": [
        {
          "output_type": "stream",
          "text": [
            "Collecting simanneal\n",
            "  Downloading https://files.pythonhosted.org/packages/8b/cd/1b1f58a8e3fc041e352fb0ac2e4018f8f5be1f5fdde9996f157f0eb6d3cf/simanneal-0.5.0-py2.py3-none-any.whl\n",
            "Installing collected packages: simanneal\n",
            "Successfully installed simanneal-0.5.0\n"
          ],
          "name": "stdout"
        }
      ]
    },
    {
      "cell_type": "code",
      "metadata": {
        "id": "nrKitipx3CvB",
        "colab_type": "code",
        "colab": {}
      },
      "source": [
        "from simanneal import Annealer\n",
        "class TravellingSalesmanProblem(Annealer):\n",
        "\n",
        "    \"\"\"Test annealer with a travelling salesman problem.\n",
        "    \"\"\"\n",
        "\n",
        "    # pass extra data (the distance matrix) into the constructor\n",
        "    def __init__(self, state, distance_matrix):\n",
        "        self.distance_matrix = distance_matrix\n",
        "        super(TravellingSalesmanProblem, self).__init__(state)  # important!\n",
        "\n",
        "    def move(self):\n",
        "        \"\"\"Swaps two cities in the route.\"\"\"\n",
        "        # no efficiency gain, just proof of concept\n",
        "        # demonstrates returning the delta energy (optional)\n",
        "        initial_energy = self.energy()\n",
        "\n",
        "        a = random.randint(0, len(self.state) - 1)\n",
        "        b = random.randint(0, len(self.state) - 1)\n",
        "        self.state[a], self.state[b] = self.state[b], self.state[a]\n",
        "\n",
        "        return self.energy() - initial_energy\n",
        "\n",
        "    def energy(self):\n",
        "        \"\"\"Calculates the length of the route.\"\"\"\n",
        "        e = 0\n",
        "        for i in range(len(self.state)):\n",
        "            e += self.distance_matrix[self.state[i-1]][self.state[i]]\n",
        "        return e"
      ],
      "execution_count": 0,
      "outputs": []
    },
    {
      "cell_type": "code",
      "metadata": {
        "id": "S1sIFbDC39X4",
        "colab_type": "code",
        "colab": {}
      },
      "source": [
        "distance_matrix = {}\n",
        "for i, town in enumerate(japan['Town']):\n",
        "    if town not in distance_matrix.keys():\n",
        "        distance_matrix[town] = {}\n",
        "    for j, town2 in enumerate(japan['Town']):\n",
        "        distance_matrix[town][town2] = dist_mat[i][j]"
      ],
      "execution_count": 0,
      "outputs": []
    },
    {
      "cell_type": "code",
      "metadata": {
        "id": "-1Fme90b3Q8W",
        "colab_type": "code",
        "colab": {}
      },
      "source": [
        "tsp = TravellingSalesmanProblem(init_state, distance_matrix)"
      ],
      "execution_count": 0,
      "outputs": []
    },
    {
      "cell_type": "code",
      "metadata": {
        "id": "-p1TMsTP3eD1",
        "colab_type": "code",
        "colab": {
          "base_uri": "https://localhost:8080/",
          "height": 35
        },
        "outputId": "266e36dd-ddd3-4f29-dc0d-898594fdc1f3"
      },
      "source": [
        "tsp.set_schedule(tsp.auto(minutes=0.2))"
      ],
      "execution_count": 18,
      "outputs": [
        {
          "output_type": "stream",
          "text": [
            " Temperature        Energy    Accept   Improve     Elapsed   Remaining\n"
          ],
          "name": "stderr"
        }
      ]
    },
    {
      "cell_type": "code",
      "metadata": {
        "id": "OHetMmDg3iW2",
        "colab_type": "code",
        "colab": {
          "base_uri": "https://localhost:8080/",
          "height": 35
        },
        "outputId": "d83aeff4-4ec8-4c7f-8cbf-ba113376f282"
      },
      "source": [
        "tsp.copy_strategy = \"slice\"\n",
        "state, e = tsp.anneal()"
      ],
      "execution_count": 20,
      "outputs": [
        {
          "output_type": "stream",
          "text": [
            " Temperature        Energy    Accept   Improve     Elapsed   Remaining\n"
          ],
          "name": "stderr"
        }
      ]
    },
    {
      "cell_type": "code",
      "metadata": {
        "id": "LdKItNGq4nHg",
        "colab_type": "code",
        "colab": {
          "base_uri": "https://localhost:8080/",
          "height": 829
        },
        "outputId": "4120c3db-109a-4e09-aa6f-6656f1318952"
      },
      "source": [
        "state"
      ],
      "execution_count": 21,
      "outputs": [
        {
          "output_type": "execute_result",
          "data": {
            "text/plain": [
              "['Otsu',\n",
              " 'Kyoto',\n",
              " 'Nara',\n",
              " 'Osaka',\n",
              " 'Kobe',\n",
              " 'Tottori',\n",
              " 'Matsue',\n",
              " 'Hiroshima',\n",
              " 'Yamaguchi',\n",
              " 'Fukuoka',\n",
              " 'Saga',\n",
              " 'Nagasaki',\n",
              " 'Naha',\n",
              " 'Kagoshima',\n",
              " 'Miyazaki',\n",
              " 'Kumamoto',\n",
              " 'Oita',\n",
              " 'Matsuyama',\n",
              " 'Kochi',\n",
              " 'Okayama',\n",
              " 'Takamatsu',\n",
              " 'Tokushima',\n",
              " 'Wakayama',\n",
              " 'Tsu',\n",
              " 'Gifu',\n",
              " 'Nagoya',\n",
              " 'Shizuoka',\n",
              " 'Kofu',\n",
              " 'Maebashi',\n",
              " 'Niigata',\n",
              " 'Akita',\n",
              " 'Aomori',\n",
              " 'Sapporo',\n",
              " 'Morioka',\n",
              " 'Sendai',\n",
              " 'Yamagata',\n",
              " 'Fukushima',\n",
              " 'Utsunomiya',\n",
              " 'Mito',\n",
              " 'Chiba',\n",
              " 'Yokohama',\n",
              " 'Tokyo',\n",
              " 'Saitama',\n",
              " 'Nagano',\n",
              " 'Toyama',\n",
              " 'Kanazawa',\n",
              " 'Fukui']"
            ]
          },
          "metadata": {
            "tags": []
          },
          "execution_count": 21
        }
      ]
    },
    {
      "cell_type": "code",
      "metadata": {
        "id": "g8G-PJyi4qS1",
        "colab_type": "code",
        "colab": {
          "base_uri": "https://localhost:8080/",
          "height": 89
        },
        "outputId": "b7d13f20-8186-4b42-b5dc-7f8d9af67919"
      },
      "source": [
        "while state[0] != 'Tokyo':\n",
        "        state = state[1:] + state[:1]  # rotate NYC to start\n",
        "\n",
        "print()\n",
        "print(\"%i mile route:\" % e)\n",
        "print(\" ➞  \".join(state))"
      ],
      "execution_count": 24,
      "outputs": [
        {
          "output_type": "stream",
          "text": [
            "\n",
            "56 mile route:\n",
            "Tokyo ➞  Saitama ➞  Nagano ➞  Toyama ➞  Kanazawa ➞  Fukui ➞  Otsu ➞  Kyoto ➞  Nara ➞  Osaka ➞  Kobe ➞  Tottori ➞  Matsue ➞  Hiroshima ➞  Yamaguchi ➞  Fukuoka ➞  Saga ➞  Nagasaki ➞  Naha ➞  Kagoshima ➞  Miyazaki ➞  Kumamoto ➞  Oita ➞  Matsuyama ➞  Kochi ➞  Okayama ➞  Takamatsu ➞  Tokushima ➞  Wakayama ➞  Tsu ➞  Gifu ➞  Nagoya ➞  Shizuoka ➞  Kofu ➞  Maebashi ➞  Niigata ➞  Akita ➞  Aomori ➞  Sapporo ➞  Morioka ➞  Sendai ➞  Yamagata ➞  Fukushima ➞  Utsunomiya ➞  Mito ➞  Chiba ➞  Yokohama\n"
          ],
          "name": "stdout"
        }
      ]
    },
    {
      "cell_type": "code",
      "metadata": {
        "id": "aFxVkGZ54wvi",
        "colab_type": "code",
        "colab": {
          "base_uri": "https://localhost:8080/",
          "height": 592
        },
        "outputId": "0dab43e7-67b7-4e04-930e-70939bc96642"
      },
      "source": [
        "plt.figure(figsize=(10, 10))\n",
        "Xs = []\n",
        "Ys = []\n",
        "for i in range(len(state)):\n",
        "    Xs.append(list(japan[japan['Town'] == state[i]].iloc[:, 2])[0])\n",
        "    Ys.append(list(japan[japan['Town'] == state[i]].iloc[:, 1])[0])\n",
        "\n",
        "plt.plot(Xs, Ys)\n",
        "for city, x, y in zip(japan['Town'], japan['Latitude'], japan['Longitude']):\n",
        "    plt.text(x, y, city, alpha=0.5, size=12)"
      ],
      "execution_count": 48,
      "outputs": [
        {
          "output_type": "display_data",
          "data": {
            "image/png": "[encoded data removed]",
            "text/plain": [
              "<Figure size 720x720 with 1 Axes>"
            ]
          },
          "metadata": {
            "tags": []
          }
        }
      ]
    },
    {
      "cell_type": "code",
      "metadata": {
        "id": "WU_vOM4u5UK3",
        "colab_type": "code",
        "colab": {
          "base_uri": "https://localhost:8080/",
          "height": 35
        },
        "outputId": "749b88f0-17c8-489b-9819-c530d985d7a0"
      },
      "source": [
        "list(japan[japan['Town'] == state[i]].iloc[:, 2])[0]"
      ],
      "execution_count": 44,
      "outputs": [
        {
          "output_type": "execute_result",
          "data": {
            "text/plain": [
              "139.6425"
            ]
          },
          "metadata": {
            "tags": []
          },
          "execution_count": 44
        }
      ]
    },
    {
      "cell_type": "markdown",
      "metadata": {
        "id": "DO0ytLAUqWCy",
        "colab_type": "text"
      },
      "source": [
        ""
      ]
    },
    {
      "cell_type": "code",
      "metadata": {
        "id": "5eEJGCAb6VHd",
        "colab_type": "code",
        "colab": {}
      },
      "source": [
        ""
      ],
      "execution_count": 0,
      "outputs": []
    }
  ]
}