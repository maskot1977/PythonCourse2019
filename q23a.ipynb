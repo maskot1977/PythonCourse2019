{
  "nbformat": 4,
  "nbformat_minor": 0,
  "metadata": {
    "colab": {
      "name": "q23a",
      "provenance": [],
      "collapsed_sections": [],
      "include_colab_link": true
    },
    "kernelspec": {
      "name": "python3",
      "display_name": "Python 3"
    }
  },
  "cells": [
    {
      "cell_type": "markdown",
      "metadata": {
        "id": "view-in-github",
        "colab_type": "text"
      },
      "source": [
        "<a href=\"https://colab.research.google.com/github/maskot1977/PythonCourse2019/blob/master/q23a.ipynb\" target=\"_parent\"><img src=\"https://colab.research.google.com/assets/colab-badge.svg\" alt=\"Open In Colab\"/></a>"
      ]
    },
    {
      "cell_type": "code",
      "metadata": {
        "id": "BouW3J8_Nhpx",
        "colab_type": "code",
        "colab": {}
      },
      "source": [
        "def question23(a, k):\n",
        "    lb = -1 # lower bound\n",
        "    ub = len(a) # upper bound\n",
        "    while (ub - lb) > 1:\n",
        "        mid = round((lb + ub) / 2)\n",
        "        if a[mid] >= k:\n",
        "            ub = mid\n",
        "        else:\n",
        "            lb = mid\n",
        "    return ub"
      ],
      "execution_count": 0,
      "outputs": []
    },
    {
      "cell_type": "code",
      "metadata": {
        "id": "JjKB-txsOCK5",
        "colab_type": "code",
        "outputId": "b40e28d3-8fba-4ee1-f7fd-f87e0a6d9c19",
        "colab": {
          "base_uri": "https://localhost:8080/",
          "height": 34
        }
      },
      "source": [
        "n =  8\n",
        "a =  [3, 4, 4, 4, 7, 9, 10, 10]\n",
        "k =  8\n",
        "\n",
        "question23(a, k)"
      ],
      "execution_count": 2,
      "outputs": [
        {
          "output_type": "execute_result",
          "data": {
            "text/plain": [
              "5"
            ]
          },
          "metadata": {
            "tags": []
          },
          "execution_count": 2
        }
      ]
    },
    {
      "cell_type": "code",
      "metadata": {
        "id": "CjpYUFC3OERO",
        "colab_type": "code",
        "outputId": "80701f3f-7b04-4ad1-daff-52351b39f6ad",
        "colab": {
          "base_uri": "https://localhost:8080/",
          "height": 34
        }
      },
      "source": [
        "n =  8\n",
        "a =  [3, 4, 4, 4, 7, 9, 10, 10]\n",
        "k =  4\n",
        "\n",
        "question23(a, k)"
      ],
      "execution_count": 3,
      "outputs": [
        {
          "output_type": "execute_result",
          "data": {
            "text/plain": [
              "1"
            ]
          },
          "metadata": {
            "tags": []
          },
          "execution_count": 3
        }
      ]
    },
    {
      "cell_type": "code",
      "metadata": {
        "id": "X9lWgkQIOZS0",
        "colab_type": "code",
        "outputId": "b95e5f12-cb69-4dfe-8864-6d3999602642",
        "colab": {
          "base_uri": "https://localhost:8080/",
          "height": 34
        }
      },
      "source": [
        "n =  8\n",
        "a =  [3, 4, 4, 4, 7, 9, 10, 10]\n",
        "k =  0\n",
        "\n",
        "question23(a, k)"
      ],
      "execution_count": 4,
      "outputs": [
        {
          "output_type": "execute_result",
          "data": {
            "text/plain": [
              "0"
            ]
          },
          "metadata": {
            "tags": []
          },
          "execution_count": 4
        }
      ]
    },
    {
      "cell_type": "code",
      "metadata": {
        "id": "dyXVHw_QRnz8",
        "colab_type": "code",
        "outputId": "edd6ca6d-5a5d-46fa-bd55-762ce5d9388a",
        "colab": {
          "base_uri": "https://localhost:8080/",
          "height": 34
        }
      },
      "source": [
        "n =  8\n",
        "a =  [3, 4, 4, 4, 7, 9, 10, 10]\n",
        "k =  20\n",
        "\n",
        "question23(a, k)"
      ],
      "execution_count": 5,
      "outputs": [
        {
          "output_type": "execute_result",
          "data": {
            "text/plain": [
              "8"
            ]
          },
          "metadata": {
            "tags": []
          },
          "execution_count": 5
        }
      ]
    }
  ]
}