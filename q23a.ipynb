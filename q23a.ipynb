{
  "nbformat": 4,
  "nbformat_minor": 0,
  "metadata": {
    "colab": {
      "name": "q23a",
      "provenance": [],
      "collapsed_sections": [],
      "include_colab_link": true
    },
    "kernelspec": {
      "name": "python3",
      "display_name": "Python 3"
    }
  },
  "cells": [
    {
      "cell_type": "markdown",
      "metadata": {
        "id": "view-in-github",
        "colab_type": "text"
      },
      "source": [
        "<a href=\"https://colab.research.google.com/github/maskot1977/PythonCourse2019/blob/master/q23a.ipynb\" target=\"_parent\"><img src=\"https://colab.research.google.com/assets/colab-badge.svg\" alt=\"Open In Colab\"/></a>"
      ]
    },
    {
      "cell_type": "code",
      "metadata": {
        "id": "ZAuCM_mfNYoA",
        "colab_type": "code",
        "colab": {}
      },
      "source": [
        "n = 5\n",
        "a = [2, 3, 3, 5, 6]\n",
        "k = 3"
      ],
      "execution_count": 0,
      "outputs": []
    },
    {
      "cell_type": "code",
      "metadata": {
        "id": "BouW3J8_Nhpx",
        "colab_type": "code",
        "colab": {}
      },
      "source": [
        "def bin_search(a, k):\n",
        "    lb = -1 # lower bound\n",
        "    ub = len(a) # upper bound\n",
        "    while (ub - lb) > 1:\n",
        "        mid = round((lb + ub) / 2)\n",
        "        if a[mid] >= k:\n",
        "            ub = mid\n",
        "        else:\n",
        "            lb = mid\n",
        "    return ub"
      ],
      "execution_count": 0,
      "outputs": []
    },
    {
      "cell_type": "code",
      "metadata": {
        "id": "JjKB-txsOCK5",
        "colab_type": "code",
        "outputId": "804ecf6d-a0a8-4d80-b595-e253f7ec34d7",
        "colab": {
          "base_uri": "https://localhost:8080/",
          "height": 34
        }
      },
      "source": [
        "bin_search(a, k)"
      ],
      "execution_count": 0,
      "outputs": [
        {
          "output_type": "execute_result",
          "data": {
            "text/plain": [
              "1"
            ]
          },
          "metadata": {
            "tags": []
          },
          "execution_count": 41
        }
      ]
    },
    {
      "cell_type": "code",
      "metadata": {
        "id": "CjpYUFC3OERO",
        "colab_type": "code",
        "outputId": "a2e54519-dc22-4832-c8f7-1b95f594e68e",
        "colab": {
          "base_uri": "https://localhost:8080/",
          "height": 86
        }
      },
      "source": [
        "import random\n",
        "n = 8\n",
        "a = sorted([random.randint(1, 10) for _ in range(n)])\n",
        "k = random.randint(1, 10)\n",
        "\n",
        "print(\"n = \", n)\n",
        "print(\"a = \", a)\n",
        "print(\"k = \", k)\n",
        "\n",
        "bin_search(a, k)"
      ],
      "execution_count": 0,
      "outputs": [
        {
          "output_type": "stream",
          "text": [
            "n =  8\n",
            "a =  [3, 4, 4, 4, 7, 9, 10, 10]\n",
            "k =  8\n"
          ],
          "name": "stdout"
        },
        {
          "output_type": "execute_result",
          "data": {
            "text/plain": [
              "5"
            ]
          },
          "metadata": {
            "tags": []
          },
          "execution_count": 50
        }
      ]
    },
    {
      "cell_type": "code",
      "metadata": {
        "id": "X9lWgkQIOZS0",
        "colab_type": "code",
        "outputId": "77f682a5-d7eb-47fa-e32c-d66a50a15abe",
        "colab": {
          "base_uri": "https://localhost:8080/",
          "height": 34
        }
      },
      "source": [
        "n =  8\n",
        "a =  [3, 4, 4, 4, 7, 9, 10, 10]\n",
        "k =  8\n",
        "\n",
        "bin_search(a, k)"
      ],
      "execution_count": 0,
      "outputs": [
        {
          "output_type": "execute_result",
          "data": {
            "text/plain": [
              "5"
            ]
          },
          "metadata": {
            "tags": []
          },
          "execution_count": 51
        }
      ]
    },
    {
      "cell_type": "code",
      "metadata": {
        "id": "dyXVHw_QRnz8",
        "colab_type": "code",
        "outputId": "f15c6b70-00c3-42e7-a2e9-de786cf93014",
        "colab": {
          "base_uri": "https://localhost:8080/",
          "height": 34
        }
      },
      "source": [
        "n =  8\n",
        "a =  [3, 4, 4, 4, 7, 9, 10, 10]\n",
        "k =  4\n",
        "\n",
        "bin_search(a, k)"
      ],
      "execution_count": 0,
      "outputs": [
        {
          "output_type": "execute_result",
          "data": {
            "text/plain": [
              "1"
            ]
          },
          "metadata": {
            "tags": []
          },
          "execution_count": 52
        }
      ]
    },
    {
      "cell_type": "code",
      "metadata": {
        "id": "s3c_lkMpR_Rh",
        "colab_type": "code",
        "outputId": "710857c9-4776-44ef-a17a-905bf482d1c9",
        "colab": {
          "base_uri": "https://localhost:8080/",
          "height": 34
        }
      },
      "source": [
        "n =  8\n",
        "a =  [3, 4, 4, 4, 7, 9, 10, 10]\n",
        "k =  0\n",
        "\n",
        "bin_search(a, k)"
      ],
      "execution_count": 0,
      "outputs": [
        {
          "output_type": "execute_result",
          "data": {
            "text/plain": [
              "0"
            ]
          },
          "metadata": {
            "tags": []
          },
          "execution_count": 53
        }
      ]
    },
    {
      "cell_type": "code",
      "metadata": {
        "id": "33LqNCk-SBxF",
        "colab_type": "code",
        "outputId": "ad415e3b-f24f-46a9-8281-66a3738c5807",
        "colab": {
          "base_uri": "https://localhost:8080/",
          "height": 34
        }
      },
      "source": [
        "n =  8\n",
        "a =  [3, 4, 4, 4, 7, 9, 10, 10]\n",
        "k =  20\n",
        "\n",
        "bin_search(a, k)"
      ],
      "execution_count": 0,
      "outputs": [
        {
          "output_type": "execute_result",
          "data": {
            "text/plain": [
              "8"
            ]
          },
          "metadata": {
            "tags": []
          },
          "execution_count": 54
        }
      ]
    },
    {
      "cell_type": "code",
      "metadata": {
        "id": "Y1RaCwP1SFa0",
        "colab_type": "code",
        "colab": {}
      },
      "source": [
        ""
      ],
      "execution_count": 0,
      "outputs": []
    },
    {
      "cell_type": "code",
      "metadata": {
        "id": "hKwPRTm0Wnjy",
        "colab_type": "code",
        "colab": {}
      },
      "source": [
        ""
      ],
      "execution_count": 0,
      "outputs": []
    },
    {
      "cell_type": "code",
      "metadata": {
        "id": "N8ytvSNQWnnh",
        "colab_type": "code",
        "colab": {}
      },
      "source": [
        "n = 4\n",
        "k = 11\n",
        "L = [8.02, 7.43, 4.57, 5.39]"
      ],
      "execution_count": 0,
      "outputs": []
    },
    {
      "cell_type": "code",
      "metadata": {
        "id": "zFXWWh80W3Cm",
        "colab_type": "code",
        "colab": {}
      },
      "source": [
        "def get_num(x, k, L):\n",
        "    num = 0\n",
        "    for l in L:\n",
        "        num += floor(l / x)\n",
        "    return num"
      ],
      "execution_count": 0,
      "outputs": []
    },
    {
      "cell_type": "code",
      "metadata": {
        "id": "acc5-anSXTau",
        "colab_type": "code",
        "colab": {}
      },
      "source": [
        "from math import floor\n",
        "def question(k, L):\n",
        "    lb = 0\n",
        "    ub = sum(L) / k\n",
        "    for _ in range(100000):\n",
        "        mid = (lb + ub) / 2\n",
        "        if get_num(mid, k, L) >= k:\n",
        "            lb = mid\n",
        "        else:\n",
        "            ub = mid\n",
        "    return floor(ub * 100) / 100"
      ],
      "execution_count": 0,
      "outputs": []
    },
    {
      "cell_type": "code",
      "metadata": {
        "id": "VHjUymsnYGPt",
        "colab_type": "code",
        "outputId": "72c40e09-3cd3-4c37-c1bc-5b3b72bf846a",
        "colab": {
          "base_uri": "https://localhost:8080/",
          "height": 34
        }
      },
      "source": [
        "question(k, L)"
      ],
      "execution_count": 0,
      "outputs": [
        {
          "output_type": "execute_result",
          "data": {
            "text/plain": [
              "3.01"
            ]
          },
          "metadata": {
            "tags": []
          },
          "execution_count": 100
        }
      ]
    },
    {
      "cell_type": "code",
      "metadata": {
        "id": "PSuNm6SmYIsQ",
        "colab_type": "code",
        "outputId": "294ad661-8830-4fed-cce9-232531aaa227",
        "colab": {
          "base_uri": "https://localhost:8080/",
          "height": 86
        }
      },
      "source": [
        "import random\n",
        "from math import floor\n",
        "\n",
        "n = 3\n",
        "k = random.randint(int(n / 2), n * 2)\n",
        "L = [floor((random.random() * 9 + 1) * 100)  / 100 for _ in range(n)]\n",
        "\n",
        "print(\"n = \", n)\n",
        "print(\"k = \", k)\n",
        "print(\"L = \", L)\n",
        "\n",
        "question(k, L)"
      ],
      "execution_count": 0,
      "outputs": [
        {
          "output_type": "stream",
          "text": [
            "n =  3\n",
            "k =  2\n",
            "L =  [7.47, 6.66, 4.11]\n"
          ],
          "name": "stdout"
        },
        {
          "output_type": "execute_result",
          "data": {
            "text/plain": [
              "6.66"
            ]
          },
          "metadata": {
            "tags": []
          },
          "execution_count": 103
        }
      ]
    },
    {
      "cell_type": "code",
      "metadata": {
        "id": "JThBNEDnY0Kw",
        "colab_type": "code",
        "outputId": "ee4928de-f768-4481-d7fd-a652a3c2a0a4",
        "colab": {
          "base_uri": "https://localhost:8080/",
          "height": 86
        }
      },
      "source": [
        "import random\n",
        "from math import floor\n",
        "\n",
        "n = 4\n",
        "k = random.randint(int(n / 2), n * 2)\n",
        "L = [floor((random.random() * 9 + 1) * 100)  / 100 for _ in range(n)]\n",
        "\n",
        "print(\"n = \", n)\n",
        "print(\"k = \", k)\n",
        "print(\"L = \", L)\n",
        "\n",
        "question(k, L)"
      ],
      "execution_count": 0,
      "outputs": [
        {
          "output_type": "stream",
          "text": [
            "n =  4\n",
            "k =  5\n",
            "L =  [2.86, 2.69, 2.05, 5.23]\n"
          ],
          "name": "stdout"
        },
        {
          "output_type": "execute_result",
          "data": {
            "text/plain": [
              "2.05"
            ]
          },
          "metadata": {
            "tags": []
          },
          "execution_count": 104
        }
      ]
    },
    {
      "cell_type": "code",
      "metadata": {
        "id": "H50MQCV0ayTH",
        "colab_type": "code",
        "outputId": "e0d21f1c-b361-4dc4-843c-301d7827b610",
        "colab": {
          "base_uri": "https://localhost:8080/",
          "height": 86
        }
      },
      "source": [
        "import random\n",
        "from math import floor\n",
        "\n",
        "n = 5\n",
        "k = random.randint(int(n / 2), n * 2)\n",
        "L = [floor((random.random() * 9 + 1) * 100)  / 100 for _ in range(n)]\n",
        "\n",
        "print(\"n = \", n)\n",
        "print(\"k = \", k)\n",
        "print(\"L = \", L)\n",
        "\n",
        "question(k, L)"
      ],
      "execution_count": 0,
      "outputs": [
        {
          "output_type": "stream",
          "text": [
            "n =  5\n",
            "k =  9\n",
            "L =  [6.33, 3.18, 6.92, 9.38, 8.96]\n"
          ],
          "name": "stdout"
        },
        {
          "output_type": "execute_result",
          "data": {
            "text/plain": [
              "3.16"
            ]
          },
          "metadata": {
            "tags": []
          },
          "execution_count": 107
        }
      ]
    },
    {
      "cell_type": "code",
      "metadata": {
        "id": "co2kMfWIa3wa",
        "colab_type": "code",
        "outputId": "f4c40b86-bc2c-44b1-a6eb-260429b189eb",
        "colab": {
          "base_uri": "https://localhost:8080/",
          "height": 86
        }
      },
      "source": [
        "import random\n",
        "from math import floor\n",
        "\n",
        "n = 6\n",
        "k = random.randint(int(n / 2), n * 2)\n",
        "L = [floor((random.random() * 9 + 1) * 100)  / 100 for _ in range(n)]\n",
        "\n",
        "print(\"n = \", n)\n",
        "print(\"k = \", k)\n",
        "print(\"L = \", L)\n",
        "\n",
        "question(k, L)"
      ],
      "execution_count": 0,
      "outputs": [
        {
          "output_type": "stream",
          "text": [
            "n =  6\n",
            "k =  6\n",
            "L =  [2.7, 6.85, 9.44, 6.27, 2.83, 5.21]\n"
          ],
          "name": "stdout"
        },
        {
          "output_type": "execute_result",
          "data": {
            "text/plain": [
              "3.42"
            ]
          },
          "metadata": {
            "tags": []
          },
          "execution_count": 110
        }
      ]
    },
    {
      "cell_type": "code",
      "metadata": {
        "id": "cQeR7X6La_st",
        "colab_type": "code",
        "outputId": "6eec4c1b-6cc2-44b6-8a47-5e83b3e56f23",
        "colab": {
          "base_uri": "https://localhost:8080/",
          "height": 86
        }
      },
      "source": [
        "import random\n",
        "from math import floor\n",
        "\n",
        "n = 7\n",
        "k = random.randint(int(n / 2), n * 2)\n",
        "L = [floor((random.random() * 9 + 1) * 100)  / 100 for _ in range(n)]\n",
        "\n",
        "print(\"n = \", n)\n",
        "print(\"k = \", k)\n",
        "print(\"L = \", L)\n",
        "\n",
        "question(k, L)"
      ],
      "execution_count": 0,
      "outputs": [
        {
          "output_type": "stream",
          "text": [
            "n =  7\n",
            "k =  11\n",
            "L =  [2.16, 6.1, 5.85, 7.76, 9.67, 7.41, 2.29]\n"
          ],
          "name": "stdout"
        },
        {
          "output_type": "execute_result",
          "data": {
            "text/plain": [
              "2.92"
            ]
          },
          "metadata": {
            "tags": []
          },
          "execution_count": 121
        }
      ]
    },
    {
      "cell_type": "code",
      "metadata": {
        "id": "L0he3ULSbIYE",
        "colab_type": "code",
        "colab": {}
      },
      "source": [
        ""
      ],
      "execution_count": 0,
      "outputs": []
    }
  ]
}