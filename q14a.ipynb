{
  "nbformat": 4,
  "nbformat_minor": 0,
  "metadata": {
    "colab": {
      "name": "q14a",
      "provenance": [],
      "include_colab_link": true
    },
    "kernelspec": {
      "name": "python3",
      "display_name": "Python 3"
    }
  },
  "cells": [
    {
      "cell_type": "markdown",
      "metadata": {
        "id": "view-in-github",
        "colab_type": "text"
      },
      "source": [
        "<a href=\"https://colab.research.google.com/github/maskot1977/PythonCourse2019/blob/master/q14a.ipynb\" target=\"_parent\"><img src=\"https://colab.research.google.com/assets/colab-badge.svg\" alt=\"Open In Colab\"/></a>"
      ]
    },
    {
      "cell_type": "code",
      "metadata": {
        "id": "zHIajO1cdtKw",
        "colab_type": "code",
        "colab": {}
      },
      "source": [
        "# 素数の個数\n",
        "\n",
        "def sieve(n):\n",
        "    prime = [] #素数をストック\n",
        "    is_prime = [True for _ in range(n + 1)]\n",
        "    is_prime[0] = False\n",
        "    is_prime[1] = False\n",
        "    \n",
        "    for i in range(2, n + 1):\n",
        "        if is_prime[i]:\n",
        "            prime.append(i)\n",
        "            j = 2 * i\n",
        "            while j <= n:\n",
        "                is_prime[j] = False\n",
        "                j += i\n",
        "    return len(prime)"
      ],
      "execution_count": 0,
      "outputs": []
    },
    {
      "cell_type": "code",
      "metadata": {
        "id": "YT27J_ApevgV",
        "colab_type": "code",
        "outputId": "6508d85b-8ce4-4c0c-9e4e-c4597a0fe271",
        "colab": {
          "base_uri": "https://localhost:8080/",
          "height": 34
        }
      },
      "source": [
        "sieve(10)"
      ],
      "execution_count": 0,
      "outputs": [
        {
          "output_type": "execute_result",
          "data": {
            "text/plain": [
              "4"
            ]
          },
          "metadata": {
            "tags": []
          },
          "execution_count": 16
        }
      ]
    },
    {
      "cell_type": "code",
      "metadata": {
        "id": "jWUuDMIxezNA",
        "colab_type": "code",
        "outputId": "eb761974-c2a1-48c8-fa4c-dabb77f489d3",
        "colab": {
          "base_uri": "https://localhost:8080/",
          "height": 34
        }
      },
      "source": [
        "sieve(100000)"
      ],
      "execution_count": 0,
      "outputs": [
        {
          "output_type": "execute_result",
          "data": {
            "text/plain": [
              "9592"
            ]
          },
          "metadata": {
            "tags": []
          },
          "execution_count": 20
        }
      ]
    },
    {
      "cell_type": "code",
      "metadata": {
        "id": "ir02PfNve3C_",
        "colab_type": "code",
        "colab": {}
      },
      "source": [
        ""
      ],
      "execution_count": 0,
      "outputs": []
    }
  ]
}