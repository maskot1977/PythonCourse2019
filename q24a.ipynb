{
  "nbformat": 4,
  "nbformat_minor": 0,
  "metadata": {
    "colab": {
      "name": "q24a",
      "provenance": [],
      "collapsed_sections": [],
      "include_colab_link": true
    },
    "kernelspec": {
      "name": "python3",
      "display_name": "Python 3"
    }
  },
  "cells": [
    {
      "cell_type": "markdown",
      "metadata": {
        "id": "view-in-github",
        "colab_type": "text"
      },
      "source": [
        "<a href=\"https://colab.research.google.com/github/maskot1977/PythonCourse2019/blob/master/q24a.ipynb\" target=\"_parent\"><img src=\"https://colab.research.google.com/assets/colab-badge.svg\" alt=\"Open In Colab\"/></a>"
      ]
    },
    {
      "cell_type": "code",
      "metadata": {
        "colab_type": "code",
        "id": "q8OYU1Ai5aaJ",
        "colab": {}
      },
      "source": [
        "from math import floor\n",
        "def question24(k, L):\n",
        "    lb = 0\n",
        "    ub = sum(L) / k\n",
        "    for _ in range(100000):\n",
        "        mid = (lb + ub) / 2\n",
        "        if get_num(mid, k, L) >= k:\n",
        "            lb = mid\n",
        "        else:\n",
        "            ub = mid\n",
        "    return floor(ub * 100) / 100"
      ],
      "execution_count": 0,
      "outputs": []
    },
    {
      "cell_type": "code",
      "metadata": {
        "colab_type": "code",
        "id": "9uRs3omv5eC1",
        "colab": {}
      },
      "source": [
        "def get_num(x, k, L):\n",
        "    num = 0\n",
        "    for l in L:\n",
        "        num += floor(l / x)\n",
        "    return num"
      ],
      "execution_count": 0,
      "outputs": []
    },
    {
      "cell_type": "code",
      "metadata": {
        "colab_type": "code",
        "outputId": "0068f4f1-699a-47e4-915a-3c9d704f6645",
        "id": "O1_hN3ix5Zhs",
        "colab": {
          "base_uri": "https://localhost:8080/",
          "height": 34
        }
      },
      "source": [
        "n =  3\n",
        "k =  2\n",
        "L =  [7.47, 6.66, 4.11]\n",
        "\n",
        "question24(k, L)"
      ],
      "execution_count": 3,
      "outputs": [
        {
          "output_type": "execute_result",
          "data": {
            "text/plain": [
              "6.66"
            ]
          },
          "metadata": {
            "tags": []
          },
          "execution_count": 3
        }
      ]
    },
    {
      "cell_type": "code",
      "metadata": {
        "colab_type": "code",
        "outputId": "a6cd0ae8-9c55-4b2a-91c8-4d4e49a0f704",
        "id": "HiLPviCs5YdS",
        "colab": {
          "base_uri": "https://localhost:8080/",
          "height": 34
        }
      },
      "source": [
        "n =  4\n",
        "k =  5\n",
        "L =  [2.86, 2.69, 2.05, 5.23]\n",
        "\n",
        "question24(k, L)"
      ],
      "execution_count": 4,
      "outputs": [
        {
          "output_type": "execute_result",
          "data": {
            "text/plain": [
              "2.05"
            ]
          },
          "metadata": {
            "tags": []
          },
          "execution_count": 4
        }
      ]
    },
    {
      "cell_type": "code",
      "metadata": {
        "id": "JThBNEDnY0Kw",
        "colab_type": "code",
        "outputId": "65e62f10-21fa-4b02-d723-9442fb6e4879",
        "colab": {
          "base_uri": "https://localhost:8080/",
          "height": 34
        }
      },
      "source": [
        "n =  5\n",
        "k =  9\n",
        "L =  [6.33, 3.18, 6.92, 9.38, 8.96]\n",
        "\n",
        "question24(k, L)"
      ],
      "execution_count": 5,
      "outputs": [
        {
          "output_type": "execute_result",
          "data": {
            "text/plain": [
              "3.16"
            ]
          },
          "metadata": {
            "tags": []
          },
          "execution_count": 5
        }
      ]
    },
    {
      "cell_type": "code",
      "metadata": {
        "id": "H50MQCV0ayTH",
        "colab_type": "code",
        "outputId": "eae1beb5-7391-4c3c-e947-5a641f3c22fd",
        "colab": {
          "base_uri": "https://localhost:8080/",
          "height": 34
        }
      },
      "source": [
        "n =  6\n",
        "k =  6\n",
        "L =  [2.7, 6.85, 9.44, 6.27, 2.83, 5.21]\n",
        "\n",
        "question24(k, L)"
      ],
      "execution_count": 6,
      "outputs": [
        {
          "output_type": "execute_result",
          "data": {
            "text/plain": [
              "3.42"
            ]
          },
          "metadata": {
            "tags": []
          },
          "execution_count": 6
        }
      ]
    },
    {
      "cell_type": "code",
      "metadata": {
        "id": "co2kMfWIa3wa",
        "colab_type": "code",
        "outputId": "7b41ac3c-3598-4a6b-8995-d79dc302943d",
        "colab": {
          "base_uri": "https://localhost:8080/",
          "height": 34
        }
      },
      "source": [
        "n =  7\n",
        "k =  11\n",
        "L =  [2.16, 6.1, 5.85, 7.76, 9.67, 7.41, 2.29]\n",
        "\n",
        "question24(k, L)"
      ],
      "execution_count": 7,
      "outputs": [
        {
          "output_type": "execute_result",
          "data": {
            "text/plain": [
              "2.92"
            ]
          },
          "metadata": {
            "tags": []
          },
          "execution_count": 7
        }
      ]
    }
  ]
}