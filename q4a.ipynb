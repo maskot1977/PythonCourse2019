{
  "nbformat": 4,
  "nbformat_minor": 0,
  "metadata": {
    "colab": {
      "name": "q4a",
      "provenance": [],
      "collapsed_sections": [],
      "include_colab_link": true
    },
    "kernelspec": {
      "name": "python3",
      "display_name": "Python 3"
    }
  },
  "cells": [
    {
      "cell_type": "markdown",
      "metadata": {
        "id": "view-in-github",
        "colab_type": "text"
      },
      "source": [
        "<a href=\"https://colab.research.google.com/github/maskot1977/PythonCourse2019/blob/master/q4a.ipynb\" target=\"_parent\"><img src=\"https://colab.research.google.com/assets/colab-badge.svg\" alt=\"Open In Colab\"/></a>"
      ]
    },
    {
      "cell_type": "markdown",
      "metadata": {
        "id": "IBSRVRMOnnlL",
        "colab_type": "text"
      },
      "source": [
        "# プログラミング問題集　問４解答例¶\n",
        "https://qiita.com/maskot1977/items/85772c1e457c42eea089\n",
        "\n",
        "* 他にも解答例があれば追加の可能性があります。"
      ]
    },
    {
      "cell_type": "code",
      "metadata": {
        "id": "PoZ5IGXj0Yuu",
        "colab_type": "code",
        "colab": {}
      },
      "source": [
        "import random\n",
        "\n",
        "def generate_random_maze(X, Y):\n",
        "    t = (\"#\", \"_\", \"_\")\n",
        "    maize = []\n",
        "    for y in range(Y):\n",
        "        maize.append([random.choice(t) for x in range(X)])\n",
        "    sx = random.choice(range(X))\n",
        "    sy = random.choice(range(Y))\n",
        "    gx = random.choice(range(X))\n",
        "    gy = random.choice(range(Y))\n",
        "    while (gx - sx) < X / 2:\n",
        "        sx = random.choice(range(X))\n",
        "        gx = random.choice(range(X))\n",
        "    while (gy - sy) < X / 2:\n",
        "        sy = random.choice(range(Y))\n",
        "        gy = random.choice(range(Y))        \n",
        "    maize[sy][sx] = 'S'\n",
        "    maize[gy][gx]= 'G'\n",
        "    return maize\n",
        "\n",
        "def stringize_maze(maize):\n",
        "    str = \"\"\n",
        "    for maiz in maize:\n",
        "        str += \"\".join(maiz) + \"\\n\"\n",
        "    return str"
      ],
      "execution_count": 0,
      "outputs": []
    },
    {
      "cell_type": "code",
      "metadata": {
        "id": "SQXrlnvW0mhe",
        "colab_type": "code",
        "outputId": "65a1c915-78b3-41ed-cfbd-38449dead36e",
        "colab": {
          "base_uri": "https://localhost:8080/",
          "height": 208
        }
      },
      "source": [
        "string_maze = stringize_maze(generate_random_maze(12, 10))\n",
        "print(string_maze)"
      ],
      "execution_count": 2,
      "outputs": [
        {
          "output_type": "stream",
          "text": [
            "S##_________\n",
            "______###_##\n",
            "_#_##_______\n",
            "_###_____#__\n",
            "#__#___###__\n",
            "____#_____##\n",
            "___##_####_#\n",
            "##___#_____#\n",
            "____#___#___\n",
            "____#__#G#_#\n",
            "\n"
          ],
          "name": "stdout"
        }
      ]
    },
    {
      "cell_type": "code",
      "metadata": {
        "id": "TK383hVv9GOX",
        "colab_type": "code",
        "colab": {}
      },
      "source": [
        "def arrayize_maze(string_maze):\n",
        "    return [[str[i] for i in range(len(str))] for str in string_maze.split()]\n",
        "\n",
        "maze = arrayize_maze(string_maze)"
      ],
      "execution_count": 0,
      "outputs": []
    },
    {
      "cell_type": "code",
      "metadata": {
        "id": "_ITr-V_5DGom",
        "colab_type": "code",
        "outputId": "f98c6916-ce37-48ff-e23d-8c8cca8b7c9b",
        "colab": {
          "base_uri": "https://localhost:8080/",
          "height": 34
        }
      },
      "source": [
        "def find_start_goal(maze):\n",
        "    sx = 0\n",
        "    sy = 0\n",
        "    gx = 0\n",
        "    gy = 0\n",
        "    for y in range(len(maze)):\n",
        "        for x in range(len(maze[y])):\n",
        "            if maze[y][x] == 'S':\n",
        "                sx = x\n",
        "                sy = y\n",
        "            elif maze[y][x] == 'G':\n",
        "                gx = x\n",
        "                gy = y\n",
        "    return (sx, sy, gx, gy)\n",
        "\n",
        "find_start_goal(maze)"
      ],
      "execution_count": 4,
      "outputs": [
        {
          "output_type": "execute_result",
          "data": {
            "text/plain": [
              "(0, 0, 8, 9)"
            ]
          },
          "metadata": {
            "tags": []
          },
          "execution_count": 4
        }
      ]
    },
    {
      "cell_type": "code",
      "metadata": {
        "colab_type": "code",
        "id": "C7ZmQZJ26UPC",
        "colab": {}
      },
      "source": [
        "class Queue():\n",
        "   def __init__(self):\n",
        "      self.data = []\n",
        "   def enqueue(self,x):\n",
        "      self.data.append(x)\n",
        "   def dequeue(self):\n",
        "      return self.data.pop(0)"
      ],
      "execution_count": 0,
      "outputs": []
    },
    {
      "cell_type": "code",
      "metadata": {
        "id": "z0XrDUuPmKhz",
        "colab_type": "code",
        "colab": {}
      },
      "source": [
        "def question4(string_maze):\n",
        "    maze = arrayize_maze(string_maze)\n",
        "    moves = [(0, -1), (0, 1), (-1, 0), (1, 0)] # 順番に、上、下、左、右\n",
        "    X = len(maze[0])\n",
        "    Y = len(maze)\n",
        "    distmtx = []\n",
        "    for y in range(Y):\n",
        "        distmtx.append([X * Y for x in range(X)])\n",
        "\n",
        "    sx, sy, gx, gy = find_start_goal(maze)\n",
        "\n",
        "    queue = Queue()\n",
        "    queue.enqueue([sx, sy])\n",
        "    distmtx[sy][sx] = 0\n",
        "\n",
        "    while len(queue.data) > 0:\n",
        "        curr = queue.dequeue()\n",
        "        if curr[0] == gx and curr[1] == gy:\n",
        "            return distmtx[curr[1]][curr[0]]\n",
        "        for dx, dy in moves:\n",
        "            new_x = curr[0] + dx\n",
        "            new_y = curr[1] + dy\n",
        "            if (new_x >= 0) and (new_x < X) \\\n",
        "                    and (new_y >= 0) and (new_y < Y) \\\n",
        "                    and (maze[new_y][new_x] != \"#\") \\\n",
        "                    and (distmtx[new_y][new_x] == X * Y):\n",
        "                queue.enqueue([new_x, new_y])\n",
        "                distmtx[new_y][new_x] = distmtx[curr[1]][curr[0]] + 1\n",
        "    return False"
      ],
      "execution_count": 0,
      "outputs": []
    },
    {
      "cell_type": "code",
      "metadata": {
        "id": "Ik_nkKCkmU0E",
        "colab_type": "code",
        "colab": {}
      },
      "source": [
        "string_maze = \\\n",
        "    '__##_S______\\n' \\\n",
        "    '##_##____##_\\n' \\\n",
        "    '______#_____\\n' \\\n",
        "    '#_#_#______#\\n' \\\n",
        "    '__#______#_#\\n' \\\n",
        "    '#______#___#\\n' \\\n",
        "    '_#_##______#\\n' \\\n",
        "    '___###__#__G\\n' \\\n",
        "    '_###_____##_\\n' \\\n",
        "    '_#__#_______\\n'"
      ],
      "execution_count": 0,
      "outputs": []
    },
    {
      "cell_type": "code",
      "metadata": {
        "id": "NVM0z7xx5Ac4",
        "colab_type": "code",
        "colab": {
          "base_uri": "https://localhost:8080/",
          "height": 34
        },
        "outputId": "442bbb34-51c6-4328-d356-4c5cb02c8ace"
      },
      "source": [
        "question4(string_maze)"
      ],
      "execution_count": 8,
      "outputs": [
        {
          "output_type": "execute_result",
          "data": {
            "text/plain": [
              "13"
            ]
          },
          "metadata": {
            "tags": []
          },
          "execution_count": 8
        }
      ]
    },
    {
      "cell_type": "code",
      "metadata": {
        "id": "KkskmF8z5TEv",
        "colab_type": "code",
        "colab": {}
      },
      "source": [
        "string_maze = \\\n",
        "    '__S#__#___##\\n' \\\n",
        "    '_____#___###\\n' \\\n",
        "    '__##__#__###\\n' \\\n",
        "    '_#__##___#_#\\n' \\\n",
        "    '_###_##____#\\n' \\\n",
        "    '_____#_###__\\n' \\\n",
        "    '________#_#_\\n' \\\n",
        "    '#______#_#_#\\n' \\\n",
        "    '#___#___#___\\n' \\\n",
        "    '________#G__\\n' "
      ],
      "execution_count": 0,
      "outputs": []
    },
    {
      "cell_type": "code",
      "metadata": {
        "id": "Py-ks-Gu5WAy",
        "colab_type": "code",
        "colab": {
          "base_uri": "https://localhost:8080/",
          "height": 34
        },
        "outputId": "2f12a812-b5ab-4690-cbc7-91e1b62280f6"
      },
      "source": [
        "question4(string_maze)"
      ],
      "execution_count": 10,
      "outputs": [
        {
          "output_type": "execute_result",
          "data": {
            "text/plain": [
              "False"
            ]
          },
          "metadata": {
            "tags": []
          },
          "execution_count": 10
        }
      ]
    },
    {
      "cell_type": "code",
      "metadata": {
        "id": "tmUTFvqD5XIh",
        "colab_type": "code",
        "colab": {}
      },
      "source": [
        "string_maze = \\\n",
        "    'S_#_##__###_\\n' \\\n",
        "    '#___#__#__##\\n' \\\n",
        "    '_##_______#_\\n' \\\n",
        "    '___##__#_##_\\n' \\\n",
        "    '___#__#_#___\\n' \\\n",
        "    '#____#____#_\\n' \\\n",
        "    '__#_##G####_\\n' \\\n",
        "    '_____##___#_\\n' \\\n",
        "    '____##__#___\\n' \\\n",
        "    '#_#____##_#_\\n' \\"
      ],
      "execution_count": 0,
      "outputs": []
    },
    {
      "cell_type": "code",
      "metadata": {
        "id": "ASgdRGy45gnz",
        "colab_type": "code",
        "colab": {
          "base_uri": "https://localhost:8080/",
          "height": 34
        },
        "outputId": "a76ca7f4-01c9-471f-e98a-249d218a93e3"
      },
      "source": [
        "question4(string_maze)"
      ],
      "execution_count": 12,
      "outputs": [
        {
          "output_type": "execute_result",
          "data": {
            "text/plain": [
              "38"
            ]
          },
          "metadata": {
            "tags": []
          },
          "execution_count": 12
        }
      ]
    },
    {
      "cell_type": "code",
      "metadata": {
        "id": "U-a1VLqL5hu2",
        "colab_type": "code",
        "colab": {}
      },
      "source": [
        "string_maze = \\\n",
        "    '##___###_#_#\\n' \\\n",
        "    '#___S###_#_#\\n' \\\n",
        "    '##_#________\\n' \\\n",
        "    '___#__##_#__\\n' \\\n",
        "    '____##______\\n' \\\n",
        "    '_#____#__##_\\n' \\\n",
        "    '#___#_#____#\\n' \\\n",
        "    '___________#\\n' \\\n",
        "    '_#__#____#_#\\n' \\\n",
        "    '#____#___###\\n' \\\n",
        "    '__#_#_#_#___\\n' \\\n",
        "    '#__##_#_#_#G\\n' \\\n",
        "    '#__##_____##\\n' \\\n",
        "    '#__#____#___\\n' \\\n",
        "    '#__#_#__##_#\\n' \\"
      ],
      "execution_count": 0,
      "outputs": []
    },
    {
      "cell_type": "code",
      "metadata": {
        "id": "jB7DkGwU5kVF",
        "colab_type": "code",
        "colab": {
          "base_uri": "https://localhost:8080/",
          "height": 34
        },
        "outputId": "c5f8ea98-71d5-44ac-9ded-99d036c60953"
      },
      "source": [
        "question4(string_maze)"
      ],
      "execution_count": 14,
      "outputs": [
        {
          "output_type": "execute_result",
          "data": {
            "text/plain": [
              "23"
            ]
          },
          "metadata": {
            "tags": []
          },
          "execution_count": 14
        }
      ]
    },
    {
      "cell_type": "code",
      "metadata": {
        "id": "RF1i1iTf5l1k",
        "colab_type": "code",
        "colab": {}
      },
      "source": [
        ""
      ],
      "execution_count": 0,
      "outputs": []
    }
  ]
}