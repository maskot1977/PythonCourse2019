{
  "nbformat": 4,
  "nbformat_minor": 0,
  "metadata": {
    "colab": {
      "name": "q4a",
      "provenance": [],
      "collapsed_sections": [],
      "include_colab_link": true
    },
    "kernelspec": {
      "name": "python3",
      "display_name": "Python 3"
    }
  },
  "cells": [
    {
      "cell_type": "markdown",
      "metadata": {
        "id": "view-in-github",
        "colab_type": "text"
      },
      "source": [
        "<a href=\"https://colab.research.google.com/github/maskot1977/PythonCourse2019/blob/master/q4a.ipynb\" target=\"_parent\"><img src=\"https://colab.research.google.com/assets/colab-badge.svg\" alt=\"Open In Colab\"/></a>"
      ]
    },
    {
      "cell_type": "markdown",
      "metadata": {
        "id": "IBSRVRMOnnlL",
        "colab_type": "text"
      },
      "source": [
        "# プログラミング問題集　問４解答例¶\n",
        "https://qiita.com/maskot1977/items/85772c1e457c42eea089\n",
        "\n",
        "* 他にも解答例があれば追加の可能性があります。"
      ]
    },
    {
      "cell_type": "code",
      "metadata": {
        "id": "PoZ5IGXj0Yuu",
        "colab_type": "code",
        "colab": {}
      },
      "source": [
        "import random\n",
        "\n",
        "def generate_random_maze(X, Y):\n",
        "    t = (\"#\", \"_\", \"_\")\n",
        "    maize = []\n",
        "    for y in range(Y):\n",
        "        maize.append([random.choice(t) for x in range(X)])\n",
        "    sx = random.choice(range(X))\n",
        "    sy = random.choice(range(Y))\n",
        "    gx = random.choice(range(X))\n",
        "    gy = random.choice(range(Y))\n",
        "    while (gx - sx) < X / 2:\n",
        "        sx = random.choice(range(X))\n",
        "        gx = random.choice(range(X))\n",
        "    while (gy - sy) < X / 2:\n",
        "        sy = random.choice(range(Y))\n",
        "        gy = random.choice(range(Y))        \n",
        "    maize[sy][sx] = 'S'\n",
        "    maize[gy][gx]= 'G'\n",
        "    return maize\n",
        "\n",
        "def stringize_maze(maize):\n",
        "    str = \"\"\n",
        "    for maiz in maize:\n",
        "        str += \"\".join(maiz) + \"\\n\"\n",
        "    return str"
      ],
      "execution_count": 0,
      "outputs": []
    },
    {
      "cell_type": "code",
      "metadata": {
        "id": "SQXrlnvW0mhe",
        "colab_type": "code",
        "outputId": "b64bbca5-a197-4dfc-a8b7-cc7a24b90bf3",
        "colab": {
          "base_uri": "https://localhost:8080/",
          "height": 215
        }
      },
      "source": [
        "string_maze = stringize_maze(generate_random_maze(12, 10))\n",
        "print(string_maze)"
      ],
      "execution_count": 0,
      "outputs": [
        {
          "output_type": "stream",
          "text": [
            "__##_S______\n",
            "##_##____##_\n",
            "______#_____\n",
            "#_#_#______#\n",
            "__#______#_#\n",
            "#______#___#\n",
            "_#_##______#\n",
            "___###__#__G\n",
            "_###_____##_\n",
            "_#__#_______\n",
            "\n"
          ],
          "name": "stdout"
        }
      ]
    },
    {
      "cell_type": "code",
      "metadata": {
        "id": "TK383hVv9GOX",
        "colab_type": "code",
        "colab": {}
      },
      "source": [
        "def arrayize_maze(string_maze):\n",
        "    return [[str[i] for i in range(len(str))] for str in string_maze.split()]\n",
        "\n",
        "maze = arrayize_maze(string_maze)"
      ],
      "execution_count": 0,
      "outputs": []
    },
    {
      "cell_type": "code",
      "metadata": {
        "id": "_ITr-V_5DGom",
        "colab_type": "code",
        "outputId": "077cdf49-6740-46c9-ea3b-59e4bb53af00",
        "colab": {
          "base_uri": "https://localhost:8080/",
          "height": 35
        }
      },
      "source": [
        "def find_start_goal(maze):\n",
        "    sx = 0\n",
        "    sy = 0\n",
        "    gx = 0\n",
        "    gy = 0\n",
        "    for y in range(len(maze)):\n",
        "        for x in range(len(maze[y])):\n",
        "            if maze[y][x] == 'S':\n",
        "                sx = x\n",
        "                sy = y\n",
        "            elif maze[y][x] == 'G':\n",
        "                gx = x\n",
        "                gy = y\n",
        "    return (sx, sy, gx, gy)\n",
        "\n",
        "find_start_goal(maze)"
      ],
      "execution_count": 0,
      "outputs": [
        {
          "output_type": "execute_result",
          "data": {
            "text/plain": [
              "(5, 0, 11, 7)"
            ]
          },
          "metadata": {
            "tags": []
          },
          "execution_count": 6
        }
      ]
    },
    {
      "cell_type": "code",
      "metadata": {
        "id": "P4yqiUWnEoKT",
        "colab_type": "code",
        "colab": {}
      },
      "source": [
        "class Queue():\n",
        "   def __init__(self):\n",
        "      self.data = []\n",
        "   def enqueue(self,x):\n",
        "      self.data.append(x)\n",
        "   def dequeue(self):\n",
        "      return self.data.pop(0)"
      ],
      "execution_count": 0,
      "outputs": []
    },
    {
      "cell_type": "code",
      "metadata": {
        "id": "t5053YmQFh9o",
        "colab_type": "code",
        "colab": {}
      },
      "source": [
        "# 順番に、上、下、左、右\n",
        "moves = [(0, -1), (0, 1), (-1, 0), (1, 0)]"
      ],
      "execution_count": 0,
      "outputs": []
    },
    {
      "cell_type": "code",
      "metadata": {
        "id": "dhHr8MfQIFlS",
        "colab_type": "code",
        "outputId": "77152a80-5486-4a8f-ae41-f8415d59c6c8",
        "colab": {
          "base_uri": "https://localhost:8080/",
          "height": 215
        }
      },
      "source": [
        "print(string_maze)"
      ],
      "execution_count": 0,
      "outputs": [
        {
          "output_type": "stream",
          "text": [
            "__##_S______\n",
            "##_##____##_\n",
            "______#_____\n",
            "#_#_#______#\n",
            "__#______#_#\n",
            "#______#___#\n",
            "_#_##______#\n",
            "___###__#__G\n",
            "_###_____##_\n",
            "_#__#_______\n",
            "\n"
          ],
          "name": "stdout"
        }
      ]
    },
    {
      "cell_type": "code",
      "metadata": {
        "id": "pEAE4-GG1bvx",
        "colab_type": "code",
        "outputId": "b3d0d80f-de1b-4d8d-e743-1da9419b96f4",
        "colab": {
          "base_uri": "https://localhost:8080/",
          "height": 35
        }
      },
      "source": [
        "X = len(maze[0])\n",
        "Y = len(maze)\n",
        "distmtx = []\n",
        "for y in range(Y):\n",
        "    distmtx.append([X * Y for x in range(X)])\n",
        "    \n",
        "sx, sy, gx, gy = find_start_goal(maze)\n",
        "    \n",
        "queue = Queue()\n",
        "queue.enqueue([sx, sy])\n",
        "distmtx[sy][sx] = 0\n",
        "\n",
        "while len(queue.data) > 0:\n",
        "    curr = queue.dequeue()\n",
        "    if curr[0] == gx and curr[1] == gy:\n",
        "        print(distmtx[curr[1]][curr[0]])\n",
        "        break\n",
        "    for dx, dy in moves:\n",
        "        new_x = curr[0] + dx\n",
        "        new_y = curr[1] + dy\n",
        "        if (new_x >= 0) and (new_x < X) \\\n",
        "                and (new_y >= 0) and (new_y < Y) \\\n",
        "                and (maze[new_y][new_x] != \"#\") \\\n",
        "                and (distmtx[new_y][new_x] == X * Y):\n",
        "            queue.enqueue([new_x, new_y])\n",
        "            distmtx[new_y][new_x] = distmtx[curr[1]][curr[0]] + 1\n",
        "            "
      ],
      "execution_count": 0,
      "outputs": [
        {
          "output_type": "stream",
          "text": [
            "13\n"
          ],
          "name": "stdout"
        }
      ]
    },
    {
      "cell_type": "markdown",
      "metadata": {
        "id": "RwaWNReX8_kS",
        "colab_type": "text"
      },
      "source": [
        ""
      ]
    },
    {
      "cell_type": "code",
      "metadata": {
        "id": "pdRvm0Jj9AL8",
        "colab_type": "code",
        "outputId": "fa86471c-bdcf-4de7-a1a1-65f1da6583dd",
        "colab": {
          "base_uri": "https://localhost:8080/",
          "height": 35
        }
      },
      "source": [
        "queue.data"
      ],
      "execution_count": 0,
      "outputs": [
        {
          "output_type": "execute_result",
          "data": {
            "text/plain": [
              "[[0, 6], [0, 8], [10, 9]]"
            ]
          },
          "metadata": {
            "tags": []
          },
          "execution_count": 11
        }
      ]
    },
    {
      "cell_type": "code",
      "metadata": {
        "id": "nX-SQaA_8XjH",
        "colab_type": "code",
        "outputId": "ee0ce22b-0ca9-457b-b4e8-7bc43e769073",
        "colab": {
          "base_uri": "https://localhost:8080/",
          "height": 197
        }
      },
      "source": [
        "distmtx"
      ],
      "execution_count": 0,
      "outputs": [
        {
          "output_type": "execute_result",
          "data": {
            "text/plain": [
              "[[120, 120, 120, 120, 1, 0, 1, 2, 3, 4, 5, 6],\n",
              " [120, 120, 6, 120, 120, 1, 2, 3, 4, 120, 120, 7],\n",
              " [7, 6, 5, 4, 3, 2, 120, 4, 5, 6, 7, 8],\n",
              " [120, 7, 120, 5, 120, 3, 4, 5, 6, 7, 8, 120],\n",
              " [9, 8, 120, 6, 5, 4, 5, 6, 7, 120, 9, 120],\n",
              " [120, 9, 8, 7, 6, 5, 6, 120, 8, 9, 10, 120],\n",
              " [13, 120, 9, 120, 120, 6, 7, 8, 9, 10, 11, 120],\n",
              " [12, 11, 10, 120, 120, 120, 8, 9, 120, 11, 12, 13],\n",
              " [13, 120, 120, 120, 11, 10, 9, 10, 11, 120, 120, 120],\n",
              " [120, 120, 120, 120, 120, 11, 10, 11, 12, 13, 14, 120]]"
            ]
          },
          "metadata": {
            "tags": []
          },
          "execution_count": 12
        }
      ]
    },
    {
      "cell_type": "code",
      "metadata": {
        "id": "MwREDYRA8dfV",
        "colab_type": "code",
        "colab": {}
      },
      "source": [
        "string_maze = \\\n",
        "    '__##_S______\\n' \\\n",
        "    '##_##____##_\\n' \\\n",
        "    '______#_____\\n' \\\n",
        "    '#_#_#______#\\n' \\\n",
        "    '__#______#_#\\n' \\\n",
        "    '#______#___#\\n' \\\n",
        "    '_#_##______#\\n' \\\n",
        "    '___###__#__G\\n' \\\n",
        "    '_###_____##_\\n' \\\n",
        "    '_#__#_______\\n'"
      ],
      "execution_count": 0,
      "outputs": []
    },
    {
      "cell_type": "code",
      "metadata": {
        "id": "acAlFgpIkUXG",
        "colab_type": "code",
        "outputId": "f51da707-ca6b-4f45-91d5-d91df3f98c98",
        "colab": {
          "base_uri": "https://localhost:8080/",
          "height": 35
        }
      },
      "source": [
        "maze = arrayize_maze(string_maze)\n",
        "X = len(maze[0])\n",
        "Y = len(maze)\n",
        "distmtx = []\n",
        "for y in range(Y):\n",
        "    distmtx.append([X * Y for x in range(X)])\n",
        "    \n",
        "sx, sy, gx, gy = find_start_goal(maze)\n",
        "    \n",
        "queue = Queue()\n",
        "queue.enqueue([sx, sy])\n",
        "distmtx[sy][sx] = 0\n",
        "\n",
        "while len(queue.data) > 0:\n",
        "    curr = queue.dequeue()\n",
        "    if curr[0] == gx and curr[1] == gy:\n",
        "        print(distmtx[curr[1]][curr[0]])\n",
        "        break\n",
        "    for dx, dy in moves:\n",
        "        new_x = curr[0] + dx\n",
        "        new_y = curr[1] + dy\n",
        "        if (new_x >= 0) and (new_x < X) \\\n",
        "                and (new_y >= 0) and (new_y < Y) \\\n",
        "                and (maze[new_y][new_x] != \"#\") \\\n",
        "                and (distmtx[new_y][new_x] == X * Y):\n",
        "            queue.enqueue([new_x, new_y])\n",
        "            distmtx[new_y][new_x] = distmtx[curr[1]][curr[0]] + 1\n",
        "            "
      ],
      "execution_count": 0,
      "outputs": [
        {
          "output_type": "stream",
          "text": [
            "13\n"
          ],
          "name": "stdout"
        }
      ]
    },
    {
      "cell_type": "code",
      "metadata": {
        "id": "JpXQiW3GlTJk",
        "colab_type": "code",
        "outputId": "247587a6-f84c-4d87-f3a8-34130f71f77a",
        "colab": {
          "base_uri": "https://localhost:8080/",
          "height": 305
        }
      },
      "source": [
        "string_maze = stringize_maze(generate_random_maze(12, 15))\n",
        "print(string_maze)"
      ],
      "execution_count": 0,
      "outputs": [
        {
          "output_type": "stream",
          "text": [
            "##___###_#_#\n",
            "#___S###_#_#\n",
            "##_#________\n",
            "___#__##_#__\n",
            "____##______\n",
            "_#____#__##_\n",
            "#___#_#____#\n",
            "___________#\n",
            "_#__#____#_#\n",
            "#____#___###\n",
            "__#_#_#_#___\n",
            "#__##_#_#_#G\n",
            "#__##_____##\n",
            "#__#____#___\n",
            "#__#_#__##_#\n",
            "\n"
          ],
          "name": "stdout"
        }
      ]
    },
    {
      "cell_type": "code",
      "metadata": {
        "id": "Ik_nkKCkmU0E",
        "colab_type": "code",
        "colab": {}
      },
      "source": [
        "string_maze = \\\n",
        "    '##___###_#_#\\n' \\\n",
        "    '#___S###_#_#\\n' \\\n",
        "    '##_#________\\n' \\\n",
        "    '___#__##_#__\\n' \\\n",
        "    '____##______\\n' \\\n",
        "    '_#____#__##_\\n' \\\n",
        "    '#___#_#____#\\n' \\\n",
        "    '___________#\\n' \\\n",
        "    '_#__#____#_#\\n' \\\n",
        "    '#____#___###\\n' \\\n",
        "    '__#_#_#_#___\\n' \\\n",
        "    '#__##_#_#_#G\\n' \\\n",
        "    '#__##_____##\\n' \\\n",
        "    '#__#____#___\\n' \\\n",
        "    '#__#_#__##_#\\n' \\"
      ],
      "execution_count": 0,
      "outputs": []
    },
    {
      "cell_type": "code",
      "metadata": {
        "id": "-zB6zTtumEg9",
        "colab_type": "code",
        "outputId": "a068fee8-47f1-490b-f141-5df0513cf368",
        "colab": {
          "base_uri": "https://localhost:8080/",
          "height": 35
        }
      },
      "source": [
        "maze = arrayize_maze(string_maze)\n",
        "X = len(maze[0])\n",
        "Y = len(maze)\n",
        "distmtx = []\n",
        "for y in range(Y):\n",
        "    distmtx.append([X * Y for x in range(X)])\n",
        "    \n",
        "sx, sy, gx, gy = find_start_goal(maze)\n",
        "    \n",
        "queue = Queue()\n",
        "queue.enqueue([sx, sy])\n",
        "distmtx[sy][sx] = 0\n",
        "\n",
        "while len(queue.data) > 0:\n",
        "    curr = queue.dequeue()\n",
        "    if curr[0] == gx and curr[1] == gy:\n",
        "        print(distmtx[curr[1]][curr[0]])\n",
        "        break\n",
        "    for dx, dy in moves:\n",
        "        new_x = curr[0] + dx\n",
        "        new_y = curr[1] + dy\n",
        "        if (new_x >= 0) and (new_x < X) \\\n",
        "                and (new_y >= 0) and (new_y < Y) \\\n",
        "                and (maze[new_y][new_x] != \"#\") \\\n",
        "                and (distmtx[new_y][new_x] == X * Y):\n",
        "            queue.enqueue([new_x, new_y])\n",
        "            distmtx[new_y][new_x] = distmtx[curr[1]][curr[0]] + 1\n",
        "            "
      ],
      "execution_count": 0,
      "outputs": [
        {
          "output_type": "stream",
          "text": [
            "23\n"
          ],
          "name": "stdout"
        }
      ]
    },
    {
      "cell_type": "code",
      "metadata": {
        "id": "z0XrDUuPmKhz",
        "colab_type": "code",
        "colab": {}
      },
      "source": [
        ""
      ],
      "execution_count": 0,
      "outputs": []
    }
  ]
}