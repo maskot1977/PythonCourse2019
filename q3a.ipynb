{
  "nbformat": 4,
  "nbformat_minor": 0,
  "metadata": {
    "colab": {
      "name": "q3a",
      "provenance": [],
      "collapsed_sections": [],
      "include_colab_link": true
    },
    "kernelspec": {
      "name": "python3",
      "display_name": "Python 3"
    }
  },
  "cells": [
    {
      "cell_type": "markdown",
      "metadata": {
        "id": "view-in-github",
        "colab_type": "text"
      },
      "source": [
        "<a href=\"https://colab.research.google.com/github/maskot1977/PythonCourse2019/blob/master/q3a.ipynb\" target=\"_parent\"><img src=\"https://colab.research.google.com/assets/colab-badge.svg\" alt=\"Open In Colab\"/></a>"
      ]
    },
    {
      "cell_type": "markdown",
      "metadata": {
        "id": "xRw1gzbXZR8u",
        "colab_type": "text"
      },
      "source": [
        "# プログラミング問題集　問3解答例\n",
        "\n",
        "https://qiita.com/maskot1977/items/85772c1e457c42eea089\n",
        "\n",
        "* 他にも解答例があれば追加の可能性があります。\n"
      ]
    },
    {
      "cell_type": "code",
      "metadata": {
        "id": "N-2_wOSdZS_1",
        "colab_type": "code",
        "colab": {}
      },
      "source": [
        "import random\n",
        "n = 20\n",
        "a = [random.randint(-100, 100) for _ in range(n)]\n",
        "m = random.randint(-100, 100)"
      ],
      "execution_count": 0,
      "outputs": []
    },
    {
      "cell_type": "code",
      "metadata": {
        "id": "BcopBN0_dNyH",
        "colab_type": "code",
        "colab": {}
      },
      "source": [
        "def dfs(i, list_):\n",
        "  if i == n:\n",
        "    if sum(list_) == m:\n",
        "      print(\"Result: \", sum(list_), \" = \", \" + \".join([str(x) for x in list_]))\n",
        "      return True\n",
        "    else:\n",
        "      return False\n",
        "    \n",
        "  if dfs(i + 1, list_):\n",
        "    return True\n",
        "  if dfs(i + 1, list_ + [a[i]]):\n",
        "    return True\n",
        "  return False"
      ],
      "execution_count": 0,
      "outputs": []
    },
    {
      "cell_type": "code",
      "metadata": {
        "id": "kPb60CIMdPdN",
        "colab_type": "code",
        "outputId": "7e6348d7-dff8-496b-fa26-9d5285732d60",
        "colab": {
          "base_uri": "https://localhost:8080/",
          "height": 71
        }
      },
      "source": [
        "n = 10\n",
        "a = [random.randint(-100, 100) for _ in range(n)]\n",
        "m = random.randint(-100, 100)\n",
        "print(\"Input: \", m, a)\n",
        "print(dfs(0, []))"
      ],
      "execution_count": 0,
      "outputs": [
        {
          "output_type": "stream",
          "text": [
            "Input:  73 [52, 82, 64, -90, -82, -50, -8, 22, -28, -61]\n",
            "Result:  73  =  52 + 82 + -61\n",
            "True\n"
          ],
          "name": "stdout"
        }
      ]
    },
    {
      "cell_type": "code",
      "metadata": {
        "id": "L5caIxNFeKU9",
        "colab_type": "code",
        "outputId": "4d283b11-2922-47c2-f20c-36dab7d16acd",
        "colab": {
          "base_uri": "https://localhost:8080/",
          "height": 127
        }
      },
      "source": [
        "import random\n",
        "n = 20\n",
        "a = [random.randint(-10000, 10000) for _ in range(n)]\n",
        "m = random.randint(-10000, 10000)\n",
        "\n",
        "print(\"n = \", n)\n",
        "print(\"a = \", a)\n",
        "print(\"m = \", m)\n",
        "\n",
        "print(dfs(0, []))"
      ],
      "execution_count": 0,
      "outputs": [
        {
          "output_type": "stream",
          "text": [
            "n =  20\n",
            "a =  [-1945, 4145, -2296, -2054, -3499, 3623, -9739, 9542, -9035, 3569, -3484, -455, 3324, -8746, -6922, -656, 8126, 3515, 4931, 4203]\n",
            "m =  -5329\n",
            "Result:  -5329  =  -455 + 3324 + -8746 + -6922 + -656 + 8126\n",
            "True\n"
          ],
          "name": "stdout"
        }
      ]
    },
    {
      "cell_type": "code",
      "metadata": {
        "id": "yzAyevfjiLeJ",
        "colab_type": "code",
        "colab": {}
      },
      "source": [
        ""
      ],
      "execution_count": 0,
      "outputs": []
    }
  ]
}