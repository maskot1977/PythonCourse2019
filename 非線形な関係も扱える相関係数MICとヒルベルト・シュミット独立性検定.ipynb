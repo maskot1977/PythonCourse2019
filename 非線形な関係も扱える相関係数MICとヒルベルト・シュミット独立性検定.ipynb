{
  "nbformat": 4,
  "nbformat_minor": 0,
  "metadata": {
    "colab": {
      "name": "非線形な関係も扱える相関係数MICとヒルベルト・シュミット独立性検定",
      "provenance": [],
      "collapsed_sections": [],
      "toc_visible": true,
      "authorship_tag": "ABX9TyNuWWyatnuCiatKaVluy6om",
      "include_colab_link": true
    },
    "kernelspec": {
      "name": "python3",
      "display_name": "Python 3"
    }
  },
  "cells": [
    {
      "cell_type": "markdown",
      "metadata": {
        "id": "view-in-github",
        "colab_type": "text"
      },
      "source": [
        "<a href=\"https://colab.research.google.com/github/maskot1977/PythonCourse2019/blob/master/%E9%9D%9E%E7%B7%9A%E5%BD%A2%E3%81%AA%E9%96%A2%E4%BF%82%E3%82%82%E6%89%B1%E3%81%88%E3%82%8B%E7%9B%B8%E9%96%A2%E4%BF%82%E6%95%B0MIC%E3%81%A8%E3%83%92%E3%83%AB%E3%83%99%E3%83%AB%E3%83%88%E3%83%BB%E3%82%B7%E3%83%A5%E3%83%9F%E3%83%83%E3%83%88%E7%8B%AC%E7%AB%8B%E6%80%A7%E6%A4%9C%E5%AE%9A.ipynb\" target=\"_parent\"><img src=\"https://colab.research.google.com/assets/colab-badge.svg\" alt=\"Open In Colab\"/></a>"
      ]
    },
    {
      "cell_type": "markdown",
      "metadata": {
        "id": "JywYqoDKXfwk",
        "colab_type": "text"
      },
      "source": [
        "変数の独立性を測る指標として有名なものにピアソンの相関係数(Pearson's correlation coefficient)があります。ですがそれはあくまで線形な（直線的な）関係を扱う指標で、たとえば二次関数のようなU字型の関係があるときには「相関がない」と判定してしまいます。このような非線形な関係を取り扱う指標として、MICとHSICが知られているので、そのPythonパッケージを使ってみました。\n",
        "\n",
        "以下のコードは全て Google Colaboratory で動作確認済みです。"
      ]
    },
    {
      "cell_type": "markdown",
      "metadata": {
        "id": "X3BX943WO-U9",
        "colab_type": "text"
      },
      "source": [
        "# MIC (Maximal Information Coefficient) を計算するPythonパッケージ\n",
        "\n",
        "次のようにして pip install できます。"
      ]
    },
    {
      "cell_type": "code",
      "metadata": {
        "id": "TTvLkvAkUmHY",
        "colab_type": "code",
        "colab": {
          "base_uri": "https://localhost:8080/",
          "height": 71
        },
        "outputId": "11c46b97-8160-4355-98f7-daa48e3c6cfb"
      },
      "source": [
        "!pip install minepy"
      ],
      "execution_count": 1,
      "outputs": [
        {
          "output_type": "stream",
          "text": [
            "Requirement already satisfied: minepy in /usr/local/lib/python3.6/dist-packages (1.2.4)\n",
            "Requirement already satisfied: numpy>=1.3.0 in /usr/local/lib/python3.6/dist-packages (from minepy) (1.18.5)\n"
          ],
          "name": "stdout"
        }
      ]
    },
    {
      "cell_type": "markdown",
      "metadata": {
        "id": "z97rYYy1ck0K",
        "colab_type": "text"
      },
      "source": [
        "インストールできたら、次のようにして準備しておきます。"
      ]
    },
    {
      "cell_type": "code",
      "metadata": {
        "id": "DtA8_LWGYD1A",
        "colab_type": "code",
        "colab": {}
      },
      "source": [
        "from minepy import MINE\n",
        "mine = MINE()"
      ],
      "execution_count": 2,
      "outputs": []
    },
    {
      "cell_type": "markdown",
      "metadata": {
        "id": "t2CzoOH7PAbI",
        "colab_type": "text"
      },
      "source": [
        "# HSIC (Hilbert-Schmidt Independence Criterion) を計算するPythonパッケージ\n",
        "\n",
        "次のように git clone します。"
      ]
    },
    {
      "cell_type": "code",
      "metadata": {
        "id": "hb-c8q47TrYw",
        "colab_type": "code",
        "colab": {
          "base_uri": "https://localhost:8080/",
          "height": 34
        },
        "outputId": "9640a01c-0a86-4969-f3be-045e9dc499e3"
      },
      "source": [
        "!git clone https://github.com/amber0309/HSIC.git"
      ],
      "execution_count": 3,
      "outputs": [
        {
          "output_type": "stream",
          "text": [
            "fatal: destination path 'HSIC' already exists and is not an empty directory.\n"
          ],
          "name": "stdout"
        }
      ]
    },
    {
      "cell_type": "markdown",
      "metadata": {
        "id": "ii5jgIy3cvtj",
        "colab_type": "text"
      },
      "source": [
        "次のようにして準備しておきます。"
      ]
    },
    {
      "cell_type": "code",
      "metadata": {
        "id": "lJ9xluAMTtCy",
        "colab_type": "code",
        "colab": {}
      },
      "source": [
        "from HSIC.HSIC import hsic_gam"
      ],
      "execution_count": 4,
      "outputs": []
    },
    {
      "cell_type": "markdown",
      "metadata": {
        "id": "5YFUWvpvPEFg",
        "colab_type": "text"
      },
      "source": [
        "# 一次関数\n",
        "\n",
        "まずは一次関数について調べてみます。"
      ]
    },
    {
      "cell_type": "code",
      "metadata": {
        "id": "qCkxX1CMXI24",
        "colab_type": "code",
        "colab": {
          "base_uri": "https://localhost:8080/",
          "height": 282
        },
        "outputId": "0eec26d3-9c73-4b8d-996c-a34dd8c0b84d"
      },
      "source": [
        "%matplotlib inline\n",
        "import matplotlib.pyplot as plt\n",
        "import numpy as np\n",
        "\n",
        "X = np.linspace(-1, 1, 51)\n",
        "Y = X\n",
        "plt.scatter(X, Y)"
      ],
      "execution_count": 6,
      "outputs": [
        {
          "output_type": "execute_result",
          "data": {
            "text/plain": [
              "<matplotlib.collections.PathCollection at 0x7f1378b797b8>"
            ]
          },
          "metadata": {
            "tags": []
          },
          "execution_count": 6
        },
        {
          "output_type": "display_data",
          "data": {
            "image/png": "[encoded data removed]",
            "text/plain": [
              "<Figure size 432x288 with 1 Axes>"
            ]
          },
          "metadata": {
            "tags": [],
            "needs_background": "light"
          }
        }
      ]
    },
    {
      "cell_type": "markdown",
      "metadata": {
        "id": "jPiJhf22c98x",
        "colab_type": "text"
      },
      "source": [
        "ピアソンの相関係数は"
      ]
    },
    {
      "cell_type": "code",
      "metadata": {
        "id": "BqxmdtNpYpNU",
        "colab_type": "code",
        "colab": {
          "base_uri": "https://localhost:8080/",
          "height": 34
        },
        "outputId": "5dd3c265-157f-4ae4-f99d-35333205207e"
      },
      "source": [
        "np.corrcoef(X, Y)[0, 1]"
      ],
      "execution_count": 7,
      "outputs": [
        {
          "output_type": "execute_result",
          "data": {
            "text/plain": [
              "1.0"
            ]
          },
          "metadata": {
            "tags": []
          },
          "execution_count": 7
        }
      ]
    },
    {
      "cell_type": "markdown",
      "metadata": {
        "id": "rmzk14zKdAC_",
        "colab_type": "text"
      },
      "source": [
        "MICは"
      ]
    },
    {
      "cell_type": "code",
      "metadata": {
        "id": "_YhZ_LguYWXp",
        "colab_type": "code",
        "colab": {
          "base_uri": "https://localhost:8080/",
          "height": 34
        },
        "outputId": "b66b2611-93fa-47f9-e57a-a2eb4c7e70cf"
      },
      "source": [
        "mine.compute_score(X, Y)\n",
        "mine.mic()"
      ],
      "execution_count": 8,
      "outputs": [
        {
          "output_type": "execute_result",
          "data": {
            "text/plain": [
              "0.9999999999999998"
            ]
          },
          "metadata": {
            "tags": []
          },
          "execution_count": 8
        }
      ]
    },
    {
      "cell_type": "markdown",
      "metadata": {
        "id": "O6agfG7IdBp7",
        "colab_type": "text"
      },
      "source": [
        "HSSCは、次の値が大きいほど独立性が低く、小さいほど独立性が高いそうです。"
      ]
    },
    {
      "cell_type": "code",
      "metadata": {
        "id": "xXlJbQRuYZbr",
        "colab_type": "code",
        "colab": {
          "base_uri": "https://localhost:8080/",
          "height": 34
        },
        "outputId": "4ff49db5-22b6-4bd1-ff59-109ee3b4a342"
      },
      "source": [
        "testStat, thresh = hsic_gam(X.reshape(len(X), 1), Y.reshape(len(Y), 1))\n",
        "testStat / thresh"
      ],
      "execution_count": 9,
      "outputs": [
        {
          "output_type": "execute_result",
          "data": {
            "text/plain": [
              "22.610487654066624"
            ]
          },
          "metadata": {
            "tags": []
          },
          "execution_count": 9
        }
      ]
    },
    {
      "cell_type": "markdown",
      "metadata": {
        "id": "xPMWCODWdUgP",
        "colab_type": "text"
      },
      "source": [
        "一次関数にノイズを加えてみましょう。"
      ]
    },
    {
      "cell_type": "code",
      "metadata": {
        "id": "HJ3DTKAfT5zp",
        "colab_type": "code",
        "colab": {
          "base_uri": "https://localhost:8080/",
          "height": 282
        },
        "outputId": "90db5af4-734d-4858-e2ec-abde25cbe054"
      },
      "source": [
        "import numpy as np\n",
        "\n",
        "X = np.linspace(-1, 1, 51)\n",
        "Y = X + np.random.rand(51,)\n",
        "plt.scatter(X, Y)"
      ],
      "execution_count": 10,
      "outputs": [
        {
          "output_type": "execute_result",
          "data": {
            "text/plain": [
              "<matplotlib.collections.PathCollection at 0x7f137866cac8>"
            ]
          },
          "metadata": {
            "tags": []
          },
          "execution_count": 10
        },
        {
          "output_type": "display_data",
          "data": {
            "image/png": "[encoded data removed]",
            "text/plain": [
              "<Figure size 432x288 with 1 Axes>"
            ]
          },
          "metadata": {
            "tags": [],
            "needs_background": "light"
          }
        }
      ]
    },
    {
      "cell_type": "markdown",
      "metadata": {
        "id": "voRKPJy6dYjV",
        "colab_type": "text"
      },
      "source": [
        "ピアソンの相関係数は"
      ]
    },
    {
      "cell_type": "code",
      "metadata": {
        "id": "1h6C7XSbT_Zw",
        "colab_type": "code",
        "colab": {
          "base_uri": "https://localhost:8080/",
          "height": 34
        },
        "outputId": "e11f53c8-5744-4ebe-eb4c-b0f8b9f4030f"
      },
      "source": [
        "np.corrcoef(X, Y)[0, 1]"
      ],
      "execution_count": 11,
      "outputs": [
        {
          "output_type": "execute_result",
          "data": {
            "text/plain": [
              "0.9018483832673769"
            ]
          },
          "metadata": {
            "tags": []
          },
          "execution_count": 11
        }
      ]
    },
    {
      "cell_type": "markdown",
      "metadata": {
        "id": "qQ9AwzILdbVw",
        "colab_type": "text"
      },
      "source": [
        "MICは"
      ]
    },
    {
      "cell_type": "code",
      "metadata": {
        "id": "LNOmXKnUUkYx",
        "colab_type": "code",
        "colab": {
          "base_uri": "https://localhost:8080/",
          "height": 34
        },
        "outputId": "22bea881-8eab-4836-8f1d-da893b7f1476"
      },
      "source": [
        "mine.compute_score(X, Y)\n",
        "mine.mic()"
      ],
      "execution_count": 12,
      "outputs": [
        {
          "output_type": "execute_result",
          "data": {
            "text/plain": [
              "0.9997226475394071"
            ]
          },
          "metadata": {
            "tags": []
          },
          "execution_count": 12
        }
      ]
    },
    {
      "cell_type": "markdown",
      "metadata": {
        "id": "5ieCn8oLdc-Y",
        "colab_type": "text"
      },
      "source": [
        "HSICは"
      ]
    },
    {
      "cell_type": "code",
      "metadata": {
        "id": "AJIlX3_PYPHz",
        "colab_type": "code",
        "colab": {
          "base_uri": "https://localhost:8080/",
          "height": 34
        },
        "outputId": "d39001ef-16bd-4c18-9813-b27cc27a58dc"
      },
      "source": [
        "testStat, thresh = hsic_gam(X.reshape(len(X), 1), Y.reshape(len(Y), 1))\n",
        "testStat / thresh"
      ],
      "execution_count": 13,
      "outputs": [
        {
          "output_type": "execute_result",
          "data": {
            "text/plain": [
              "13.706487127525389"
            ]
          },
          "metadata": {
            "tags": []
          },
          "execution_count": 13
        }
      ]
    },
    {
      "cell_type": "markdown",
      "metadata": {
        "id": "AZt5NkSzdhF3",
        "colab_type": "text"
      },
      "source": [
        "ノイズの大きさを少しずつ増やしていったときに、ピアソンの相関係数がどう変化するか計算してみましょう。"
      ]
    },
    {
      "cell_type": "code",
      "metadata": {
        "id": "9-O5Z2_mY8Nk",
        "colab_type": "code",
        "colab": {
          "base_uri": "https://localhost:8080/",
          "height": 282
        },
        "outputId": "e29f9942-7ccc-4caf-df1e-c4ca037dfb81"
      },
      "source": [
        "D = []\n",
        "C = []\n",
        "for d in range(100):\n",
        "    X = np.linspace(-1, 1, 51)\n",
        "    Y = X + np.random.rand(51,) * d / 10\n",
        "    D.append(d)\n",
        "    C.append(np.corrcoef(X, Y)[0, 1])\n",
        "\n",
        "plt.plot(D, C)"
      ],
      "execution_count": 14,
      "outputs": [
        {
          "output_type": "execute_result",
          "data": {
            "text/plain": [
              "[<matplotlib.lines.Line2D at 0x7f13785e0a58>]"
            ]
          },
          "metadata": {
            "tags": []
          },
          "execution_count": 14
        },
        {
          "output_type": "display_data",
          "data": {
            "image/png": "[encoded data removed]",
            "text/plain": [
              "<Figure size 432x288 with 1 Axes>"
            ]
          },
          "metadata": {
            "tags": [],
            "needs_background": "light"
          }
        }
      ]
    },
    {
      "cell_type": "markdown",
      "metadata": {
        "id": "vCXut5N0dsZ9",
        "colab_type": "text"
      },
      "source": [
        "同様に、ノイズの大きさを少しずつ増やしていったときに、MICがどう変化するか計算してみましょう。"
      ]
    },
    {
      "cell_type": "code",
      "metadata": {
        "id": "U_5JsD7TR5z0",
        "colab_type": "code",
        "colab": {
          "base_uri": "https://localhost:8080/",
          "height": 282
        },
        "outputId": "34fbd189-235d-4ea9-f89b-48fc0247211a"
      },
      "source": [
        "D = []\n",
        "C = []\n",
        "for d in range(100):\n",
        "    X = np.linspace(-1, 1, 51)\n",
        "    Y = X + np.random.rand(51,) * d / 10\n",
        "    D.append(d)\n",
        "    mine.compute_score(X, Y)\n",
        "    C.append(mine.mic())\n",
        "\n",
        "plt.plot(D, C)"
      ],
      "execution_count": 15,
      "outputs": [
        {
          "output_type": "execute_result",
          "data": {
            "text/plain": [
              "[<matplotlib.lines.Line2D at 0x7f1378545cc0>]"
            ]
          },
          "metadata": {
            "tags": []
          },
          "execution_count": 15
        },
        {
          "output_type": "display_data",
          "data": {
            "image/png": "[encoded data removed]",
            "text/plain": [
              "<Figure size 432x288 with 1 Axes>"
            ]
          },
          "metadata": {
            "tags": [],
            "needs_background": "light"
          }
        }
      ]
    },
    {
      "cell_type": "markdown",
      "metadata": {
        "id": "s-bJF2ItdwC_",
        "colab_type": "text"
      },
      "source": [
        "同様に、ノイズの大きさを少しずつ増やしていったときに、HSICがどう変化するか計算してみましょう。"
      ]
    },
    {
      "cell_type": "code",
      "metadata": {
        "id": "cA-uOaweSf0Z",
        "colab_type": "code",
        "colab": {
          "base_uri": "https://localhost:8080/",
          "height": 282
        },
        "outputId": "29ae960c-02e3-45a6-ec78-4dcd0aac6dc6"
      },
      "source": [
        "D = []\n",
        "C = []\n",
        "for d in range(100):\n",
        "    X = np.linspace(-1, 1, 51)\n",
        "    Y = X + np.random.rand(51,) * d / 10\n",
        "    D.append(d)\n",
        "    testStat, thresh = hsic_gam(X.reshape(len(X), 1), Y.reshape(len(Y), 1))\n",
        "    C.append(testStat / thresh)\n",
        "\n",
        "plt.plot(D, C)"
      ],
      "execution_count": 16,
      "outputs": [
        {
          "output_type": "execute_result",
          "data": {
            "text/plain": [
              "[<matplotlib.lines.Line2D at 0x7f13784bcc50>]"
            ]
          },
          "metadata": {
            "tags": []
          },
          "execution_count": 16
        },
        {
          "output_type": "display_data",
          "data": {
            "image/png": "[encoded data removed]",
            "text/plain": [
              "<Figure size 432x288 with 1 Axes>"
            ]
          },
          "metadata": {
            "tags": [],
            "needs_background": "light"
          }
        }
      ]
    },
    {
      "cell_type": "markdown",
      "metadata": {
        "id": "HY7R6zonS-09",
        "colab_type": "text"
      },
      "source": [
        "# 二次関数\n",
        "\n",
        "次は二次関数です。"
      ]
    },
    {
      "cell_type": "code",
      "metadata": {
        "id": "nor0aOgzSv9w",
        "colab_type": "code",
        "colab": {
          "base_uri": "https://localhost:8080/",
          "height": 282
        },
        "outputId": "9cbff919-0554-4d92-863f-f30317850aae"
      },
      "source": [
        "import numpy as np\n",
        "\n",
        "X = np.linspace(-1, 1, 51)\n",
        "Y = X**2\n",
        "plt.scatter(X, Y)"
      ],
      "execution_count": 17,
      "outputs": [
        {
          "output_type": "execute_result",
          "data": {
            "text/plain": [
              "<matplotlib.collections.PathCollection at 0x7f1378492cc0>"
            ]
          },
          "metadata": {
            "tags": []
          },
          "execution_count": 17
        },
        {
          "output_type": "display_data",
          "data": {
            "image/png": "[encoded data removed]",
            "text/plain": [
              "<Figure size 432x288 with 1 Axes>"
            ]
          },
          "metadata": {
            "tags": [],
            "needs_background": "light"
          }
        }
      ]
    },
    {
      "cell_type": "markdown",
      "metadata": {
        "id": "xeohCxhyd-CO",
        "colab_type": "text"
      },
      "source": [
        "ピアソンの相関係数は"
      ]
    },
    {
      "cell_type": "code",
      "metadata": {
        "id": "i4CPpHuuTBuY",
        "colab_type": "code",
        "colab": {
          "base_uri": "https://localhost:8080/",
          "height": 34
        },
        "outputId": "ef1e30e7-ef4b-4e05-ab12-bbf7422121f7"
      },
      "source": [
        "np.corrcoef(X, Y)[0, 1]"
      ],
      "execution_count": 18,
      "outputs": [
        {
          "output_type": "execute_result",
          "data": {
            "text/plain": [
              "-2.3862043230836297e-17"
            ]
          },
          "metadata": {
            "tags": []
          },
          "execution_count": 18
        }
      ]
    },
    {
      "cell_type": "markdown",
      "metadata": {
        "id": "67iZHkG_eACp",
        "colab_type": "text"
      },
      "source": [
        "MICは"
      ]
    },
    {
      "cell_type": "code",
      "metadata": {
        "id": "bpSDUkyHTItI",
        "colab_type": "code",
        "colab": {
          "base_uri": "https://localhost:8080/",
          "height": 34
        },
        "outputId": "b6311af8-bea5-43a5-e939-c34096c8078a"
      },
      "source": [
        "mine.compute_score(X, Y)\n",
        "mine.mic()"
      ],
      "execution_count": 19,
      "outputs": [
        {
          "output_type": "execute_result",
          "data": {
            "text/plain": [
              "0.9997226475394071"
            ]
          },
          "metadata": {
            "tags": []
          },
          "execution_count": 19
        }
      ]
    },
    {
      "cell_type": "markdown",
      "metadata": {
        "id": "jJmoZF8heBWO",
        "colab_type": "text"
      },
      "source": [
        "HSICは"
      ]
    },
    {
      "cell_type": "code",
      "metadata": {
        "id": "XuZoyTcUTLcQ",
        "colab_type": "code",
        "colab": {
          "base_uri": "https://localhost:8080/",
          "height": 34
        },
        "outputId": "ce5de750-2f4a-4b1f-b4e8-3d6ccf09e8cf"
      },
      "source": [
        "testStat, thresh = hsic_gam(X.reshape(len(X), 1), Y.reshape(len(Y), 1))\n",
        "testStat / thresh"
      ],
      "execution_count": 20,
      "outputs": [
        {
          "output_type": "execute_result",
          "data": {
            "text/plain": [
              "9.285886928766184"
            ]
          },
          "metadata": {
            "tags": []
          },
          "execution_count": 20
        }
      ]
    },
    {
      "cell_type": "markdown",
      "metadata": {
        "id": "3LCFN9wQeEnM",
        "colab_type": "text"
      },
      "source": [
        "ノイズを加えてみましょう。"
      ]
    },
    {
      "cell_type": "code",
      "metadata": {
        "id": "0S1ljy-aTOn0",
        "colab_type": "code",
        "colab": {
          "base_uri": "https://localhost:8080/",
          "height": 282
        },
        "outputId": "5d1a10bc-6cf0-4afb-c5d1-a5d8399c70c7"
      },
      "source": [
        "X = np.linspace(-1, 1, 51)\n",
        "Y = X**2 + np.random.rand(51,)\n",
        "plt.scatter(X, Y)"
      ],
      "execution_count": 21,
      "outputs": [
        {
          "output_type": "execute_result",
          "data": {
            "text/plain": [
              "<matplotlib.collections.PathCollection at 0x7f13784032e8>"
            ]
          },
          "metadata": {
            "tags": []
          },
          "execution_count": 21
        },
        {
          "output_type": "display_data",
          "data": {
            "image/png": "[encoded data removed]",
            "text/plain": [
              "<Figure size 432x288 with 1 Axes>"
            ]
          },
          "metadata": {
            "tags": [],
            "needs_background": "light"
          }
        }
      ]
    },
    {
      "cell_type": "markdown",
      "metadata": {
        "id": "ZFo8rL8eeHjn",
        "colab_type": "text"
      },
      "source": [
        "ピアソンの相関係数は"
      ]
    },
    {
      "cell_type": "code",
      "metadata": {
        "id": "EJolFkFgTULf",
        "colab_type": "code",
        "colab": {
          "base_uri": "https://localhost:8080/",
          "height": 34
        },
        "outputId": "03c9451a-74a2-4663-8f72-2e871c3f0310"
      },
      "source": [
        "np.corrcoef(X, Y)[0, 1]"
      ],
      "execution_count": 22,
      "outputs": [
        {
          "output_type": "execute_result",
          "data": {
            "text/plain": [
              "0.04693076570744622"
            ]
          },
          "metadata": {
            "tags": []
          },
          "execution_count": 22
        }
      ]
    },
    {
      "cell_type": "markdown",
      "metadata": {
        "id": "eq3D4iEVeJpr",
        "colab_type": "text"
      },
      "source": [
        "MICは"
      ]
    },
    {
      "cell_type": "code",
      "metadata": {
        "id": "KFoRJy-UTW6X",
        "colab_type": "code",
        "colab": {
          "base_uri": "https://localhost:8080/",
          "height": 34
        },
        "outputId": "672feaf3-fbde-4ccc-9b06-3346efebc524"
      },
      "source": [
        "mine.compute_score(X, Y)\n",
        "mine.mic()"
      ],
      "execution_count": 23,
      "outputs": [
        {
          "output_type": "execute_result",
          "data": {
            "text/plain": [
              "0.5071787519579662"
            ]
          },
          "metadata": {
            "tags": []
          },
          "execution_count": 23
        }
      ]
    },
    {
      "cell_type": "markdown",
      "metadata": {
        "id": "dCXBNSHfeLOc",
        "colab_type": "text"
      },
      "source": [
        "HSICは"
      ]
    },
    {
      "cell_type": "code",
      "metadata": {
        "id": "3ApA_uGBTYmo",
        "colab_type": "code",
        "colab": {
          "base_uri": "https://localhost:8080/",
          "height": 34
        },
        "outputId": "b117878f-dde8-44ac-becd-5946cb99847f"
      },
      "source": [
        "testStat, thresh = hsic_gam(X.reshape(len(X), 1), Y.reshape(len(Y), 1))\n",
        "testStat / thresh"
      ],
      "execution_count": 24,
      "outputs": [
        {
          "output_type": "execute_result",
          "data": {
            "text/plain": [
              "5.247036645612692"
            ]
          },
          "metadata": {
            "tags": []
          },
          "execution_count": 24
        }
      ]
    },
    {
      "cell_type": "markdown",
      "metadata": {
        "id": "Ayl99IikeRe6",
        "colab_type": "text"
      },
      "source": [
        "ノイズの大きさを少しずつ増やしていったときに、ピアソンの相関係数がどう変化するか計算してみましょう。"
      ]
    },
    {
      "cell_type": "code",
      "metadata": {
        "id": "UKsc24UoTakd",
        "colab_type": "code",
        "colab": {
          "base_uri": "https://localhost:8080/",
          "height": 282
        },
        "outputId": "238b8a48-dca2-4701-8c56-3abf5e0b6c4c"
      },
      "source": [
        "D = []\n",
        "C = []\n",
        "for d in range(100):\n",
        "    X = np.linspace(-1, 1, 51)\n",
        "    Y = X**2 + np.random.rand(51,) * d / 10\n",
        "    D.append(d)\n",
        "    C.append(np.corrcoef(X, Y)[0, 1])\n",
        "\n",
        "plt.plot(D, C)"
      ],
      "execution_count": 25,
      "outputs": [
        {
          "output_type": "execute_result",
          "data": {
            "text/plain": [
              "[<matplotlib.lines.Line2D at 0x7f137862fc50>]"
            ]
          },
          "metadata": {
            "tags": []
          },
          "execution_count": 25
        },
        {
          "output_type": "display_data",
          "data": {
            "image/png": "[encoded data removed]",
            "text/plain": [
              "<Figure size 432x288 with 1 Axes>"
            ]
          },
          "metadata": {
            "tags": [],
            "needs_background": "light"
          }
        }
      ]
    },
    {
      "cell_type": "markdown",
      "metadata": {
        "id": "RS3VISeQeWlR",
        "colab_type": "text"
      },
      "source": [
        "同様に、ノイズの大きさを少しずつ増やしていったときに、MICがどう変化するか計算してみましょう。"
      ]
    },
    {
      "cell_type": "code",
      "metadata": {
        "id": "j1xgLoFUThhY",
        "colab_type": "code",
        "colab": {
          "base_uri": "https://localhost:8080/",
          "height": 282
        },
        "outputId": "fc1e190d-b2f0-451c-dc3b-0b290ea81871"
      },
      "source": [
        "D = []\n",
        "C = []\n",
        "for d in range(100):\n",
        "    X = np.linspace(-1, 1, 51)\n",
        "    Y = X**2 + np.random.rand(51,) * d / 10\n",
        "    D.append(d)\n",
        "    mine.compute_score(X, Y)\n",
        "    C.append(mine.mic())\n",
        "\n",
        "plt.plot(D, C)"
      ],
      "execution_count": 26,
      "outputs": [
        {
          "output_type": "execute_result",
          "data": {
            "text/plain": [
              "[<matplotlib.lines.Line2D at 0x7f13784ac7f0>]"
            ]
          },
          "metadata": {
            "tags": []
          },
          "execution_count": 26
        },
        {
          "output_type": "display_data",
          "data": {
            "image/png": "[encoded data removed]",
            "text/plain": [
              "<Figure size 432x288 with 1 Axes>"
            ]
          },
          "metadata": {
            "tags": [],
            "needs_background": "light"
          }
        }
      ]
    },
    {
      "cell_type": "markdown",
      "metadata": {
        "id": "M55w3I-jeaw1",
        "colab_type": "text"
      },
      "source": [
        "同様に、ノイズの大きさを少しずつ増やしていったときに、HSICがどう変化するか計算してみましょう。"
      ]
    },
    {
      "cell_type": "code",
      "metadata": {
        "id": "StnASH9MTlva",
        "colab_type": "code",
        "colab": {
          "base_uri": "https://localhost:8080/",
          "height": 282
        },
        "outputId": "54e6fb1e-897f-4de4-9d48-3166f0ec61ac"
      },
      "source": [
        "D = []\n",
        "C = []\n",
        "for d in range(100):\n",
        "    X = np.linspace(-1, 1, 51)\n",
        "    Y = X**2 + np.random.rand(51,) * d / 10\n",
        "    D.append(d)\n",
        "    testStat, thresh = hsic_gam(X.reshape(len(X), 1), Y.reshape(len(Y), 1))\n",
        "    C.append(testStat / thresh)\n",
        "\n",
        "plt.plot(D, C)"
      ],
      "execution_count": 27,
      "outputs": [
        {
          "output_type": "execute_result",
          "data": {
            "text/plain": [
              "[<matplotlib.lines.Line2D at 0x7f137832eb38>]"
            ]
          },
          "metadata": {
            "tags": []
          },
          "execution_count": 27
        },
        {
          "output_type": "display_data",
          "data": {
            "image/png": "[encoded data removed]",
            "text/plain": [
              "<Figure size 432x288 with 1 Axes>"
            ]
          },
          "metadata": {
            "tags": [],
            "needs_background": "light"
          }
        }
      ]
    },
    {
      "cell_type": "markdown",
      "metadata": {
        "id": "X398SXVGegQl",
        "colab_type": "text"
      },
      "source": [
        "ピアソンの相関係数が二次関数の関係性を検出できていないのに対して、MICもHSICも検出できていることがわかります。また、MICは小さなノイズにはほとんど影響を受けていないだろうことも分かります。"
      ]
    },
    {
      "cell_type": "markdown",
      "metadata": {
        "id": "aoYkifMlT7AL",
        "colab_type": "text"
      },
      "source": [
        "# 三角関数\n",
        "\n",
        "三角関数も見てみましょう。"
      ]
    },
    {
      "cell_type": "code",
      "metadata": {
        "id": "NGWjeb2yTqiG",
        "colab_type": "code",
        "colab": {
          "base_uri": "https://localhost:8080/",
          "height": 282
        },
        "outputId": "45f06c93-ff93-467a-f5d4-e24fe6e7531e"
      },
      "source": [
        "import numpy as np\n",
        "\n",
        "X = np.linspace(-1, 1, 51)\n",
        "Y = np.sin((X)*np.pi*2)\n",
        "plt.scatter(X, Y)"
      ],
      "execution_count": 39,
      "outputs": [
        {
          "output_type": "execute_result",
          "data": {
            "text/plain": [
              "<matplotlib.collections.PathCollection at 0x7f1378086390>"
            ]
          },
          "metadata": {
            "tags": []
          },
          "execution_count": 39
        },
        {
          "output_type": "display_data",
          "data": {
            "image/png": "[encoded data removed]",
            "text/plain": [
              "<Figure size 432x288 with 1 Axes>"
            ]
          },
          "metadata": {
            "tags": [],
            "needs_background": "light"
          }
        }
      ]
    },
    {
      "cell_type": "markdown",
      "metadata": {
        "id": "1b4z_K-LfB3c",
        "colab_type": "text"
      },
      "source": [
        "ピアソンの相関係数は"
      ]
    },
    {
      "cell_type": "code",
      "metadata": {
        "id": "rt6nqI93UAGU",
        "colab_type": "code",
        "colab": {
          "base_uri": "https://localhost:8080/",
          "height": 34
        },
        "outputId": "aab4b970-ba3b-4cd9-b35c-793e7b7fab45"
      },
      "source": [
        "np.corrcoef(X, Y)[0, 1]"
      ],
      "execution_count": 40,
      "outputs": [
        {
          "output_type": "execute_result",
          "data": {
            "text/plain": [
              "-0.37651692742033543"
            ]
          },
          "metadata": {
            "tags": []
          },
          "execution_count": 40
        }
      ]
    },
    {
      "cell_type": "markdown",
      "metadata": {
        "id": "qRSbSkLKfFYY",
        "colab_type": "text"
      },
      "source": [
        "MICは"
      ]
    },
    {
      "cell_type": "code",
      "metadata": {
        "id": "hncOnfuFUqBY",
        "colab_type": "code",
        "colab": {
          "base_uri": "https://localhost:8080/",
          "height": 34
        },
        "outputId": "24285a71-b6e5-4fdd-df9d-1e709bb3e805"
      },
      "source": [
        "mine.compute_score(X, Y)\n",
        "mine.mic()"
      ],
      "execution_count": 41,
      "outputs": [
        {
          "output_type": "execute_result",
          "data": {
            "text/plain": [
              "0.9997226475394071"
            ]
          },
          "metadata": {
            "tags": []
          },
          "execution_count": 41
        }
      ]
    },
    {
      "cell_type": "markdown",
      "metadata": {
        "id": "wjkfDqsXfHpn",
        "colab_type": "text"
      },
      "source": [
        "HSICは"
      ]
    },
    {
      "cell_type": "code",
      "metadata": {
        "id": "bsvb-BD1U8AC",
        "colab_type": "code",
        "colab": {
          "base_uri": "https://localhost:8080/",
          "height": 34
        },
        "outputId": "6598f25e-111e-4b59-fb5d-00b3acc36ca7"
      },
      "source": [
        "testStat, thresh = hsic_gam(X.reshape(len(X), 1), Y.reshape(len(Y), 1))\n",
        "testStat / thresh"
      ],
      "execution_count": 42,
      "outputs": [
        {
          "output_type": "execute_result",
          "data": {
            "text/plain": [
              "3.212604441715373"
            ]
          },
          "metadata": {
            "tags": []
          },
          "execution_count": 42
        }
      ]
    },
    {
      "cell_type": "markdown",
      "metadata": {
        "id": "UOQ1EL9TfJ8b",
        "colab_type": "text"
      },
      "source": [
        "ノイズを加えてみましょう。"
      ]
    },
    {
      "cell_type": "code",
      "metadata": {
        "id": "aWUSkonsU_-0",
        "colab_type": "code",
        "colab": {
          "base_uri": "https://localhost:8080/",
          "height": 285
        },
        "outputId": "d6c563d4-be2f-4ef7-cdcc-45afe2f20060"
      },
      "source": [
        "import numpy as np\n",
        "\n",
        "X = np.linspace(-1, 1, 51)\n",
        "Y = np.sin((X+0.25)*np.pi*2) + np.random.rand(51,)\n",
        "plt.scatter(X, Y)"
      ],
      "execution_count": 43,
      "outputs": [
        {
          "output_type": "execute_result",
          "data": {
            "text/plain": [
              "<matplotlib.collections.PathCollection at 0x7f137806dcc0>"
            ]
          },
          "metadata": {
            "tags": []
          },
          "execution_count": 43
        },
        {
          "output_type": "display_data",
          "data": {
            "image/png": "[encoded data removed]",
            "text/plain": [
              "<Figure size 432x288 with 1 Axes>"
            ]
          },
          "metadata": {
            "tags": [],
            "needs_background": "light"
          }
        }
      ]
    },
    {
      "cell_type": "markdown",
      "metadata": {
        "id": "3rPdS0zrfO-H",
        "colab_type": "text"
      },
      "source": [
        "ピアソンの相関係数は"
      ]
    },
    {
      "cell_type": "code",
      "metadata": {
        "id": "IT8LwNr_VLYU",
        "colab_type": "code",
        "colab": {
          "base_uri": "https://localhost:8080/",
          "height": 34
        },
        "outputId": "22ec8712-bd94-4c79-ff2d-03f3990a58bb"
      },
      "source": [
        "np.corrcoef(X, Y)[0, 1]"
      ],
      "execution_count": 44,
      "outputs": [
        {
          "output_type": "execute_result",
          "data": {
            "text/plain": [
              "0.049378342546505014"
            ]
          },
          "metadata": {
            "tags": []
          },
          "execution_count": 44
        }
      ]
    },
    {
      "cell_type": "markdown",
      "metadata": {
        "id": "jeY_Bb2gfQ5b",
        "colab_type": "text"
      },
      "source": [
        "MICは"
      ]
    },
    {
      "cell_type": "code",
      "metadata": {
        "id": "3pD2ueOnVOKq",
        "colab_type": "code",
        "colab": {
          "base_uri": "https://localhost:8080/",
          "height": 34
        },
        "outputId": "676fb228-02cd-4408-c0a3-a620b8ba5158"
      },
      "source": [
        "mine.compute_score(X, Y)\n",
        "mine.mic()"
      ],
      "execution_count": 45,
      "outputs": [
        {
          "output_type": "execute_result",
          "data": {
            "text/plain": [
              "0.9997226475394071"
            ]
          },
          "metadata": {
            "tags": []
          },
          "execution_count": 45
        }
      ]
    },
    {
      "cell_type": "markdown",
      "metadata": {
        "id": "x-qDmFeofSJ-",
        "colab_type": "text"
      },
      "source": [
        "HSICは"
      ]
    },
    {
      "cell_type": "code",
      "metadata": {
        "id": "tpIztSTvVP7n",
        "colab_type": "code",
        "colab": {
          "base_uri": "https://localhost:8080/",
          "height": 34
        },
        "outputId": "a05424b1-4373-46bc-dbac-6b7ce39da7fa"
      },
      "source": [
        "testStat, thresh = hsic_gam(X.reshape(len(X), 1), Y.reshape(len(Y), 1))\n",
        "testStat / thresh"
      ],
      "execution_count": 46,
      "outputs": [
        {
          "output_type": "execute_result",
          "data": {
            "text/plain": [
              "1.3135420547013614"
            ]
          },
          "metadata": {
            "tags": []
          },
          "execution_count": 46
        }
      ]
    },
    {
      "cell_type": "markdown",
      "metadata": {
        "id": "P4U72h9hfUp2",
        "colab_type": "text"
      },
      "source": [
        "ノイズをだんだん大きくしていったときの影響を調べます。ピアソンの相関係数は"
      ]
    },
    {
      "cell_type": "code",
      "metadata": {
        "id": "rDpgGiZXVSSb",
        "colab_type": "code",
        "colab": {
          "base_uri": "https://localhost:8080/",
          "height": 282
        },
        "outputId": "eeb71679-3b0c-4147-b93e-1957eb145c0a"
      },
      "source": [
        "D = []\n",
        "C = []\n",
        "for d in range(100):\n",
        "    X = np.linspace(-1, 1, 51)\n",
        "    Y = np.sin((X+0.25)*np.pi*2) + np.random.rand(51,) * d / 10\n",
        "    D.append(d)\n",
        "    C.append(np.corrcoef(X, Y)[0, 1])\n",
        "\n",
        "plt.plot(D, C)"
      ],
      "execution_count": 47,
      "outputs": [
        {
          "output_type": "execute_result",
          "data": {
            "text/plain": [
              "[<matplotlib.lines.Line2D at 0x7f1377fd4fd0>]"
            ]
          },
          "metadata": {
            "tags": []
          },
          "execution_count": 47
        },
        {
          "output_type": "display_data",
          "data": {
            "image/png": "[encoded data removed]",
            "text/plain": [
              "<Figure size 432x288 with 1 Axes>"
            ]
          },
          "metadata": {
            "tags": [],
            "needs_background": "light"
          }
        }
      ]
    },
    {
      "cell_type": "markdown",
      "metadata": {
        "id": "a8Z09TblfbrW",
        "colab_type": "text"
      },
      "source": [
        "MICは"
      ]
    },
    {
      "cell_type": "code",
      "metadata": {
        "id": "ZdcV-O0GVbyg",
        "colab_type": "code",
        "colab": {
          "base_uri": "https://localhost:8080/",
          "height": 282
        },
        "outputId": "eeae3c0f-a4e4-485d-8e0d-477a54ae6f2b"
      },
      "source": [
        "D = []\n",
        "C = []\n",
        "for d in range(100):\n",
        "    X = np.linspace(-1, 1, 51)\n",
        "    Y = np.sin((X+0.25)*np.pi*2) + np.random.rand(51,) * d / 10\n",
        "    D.append(d)\n",
        "    mine.compute_score(X, Y)\n",
        "    C.append(mine.mic())\n",
        "\n",
        "plt.plot(D, C)"
      ],
      "execution_count": 48,
      "outputs": [
        {
          "output_type": "execute_result",
          "data": {
            "text/plain": [
              "[<matplotlib.lines.Line2D at 0x7f1377f44a58>]"
            ]
          },
          "metadata": {
            "tags": []
          },
          "execution_count": 48
        },
        {
          "output_type": "display_data",
          "data": {
            "image/png": "[encoded data removed]",
            "text/plain": [
              "<Figure size 432x288 with 1 Axes>"
            ]
          },
          "metadata": {
            "tags": [],
            "needs_background": "light"
          }
        }
      ]
    },
    {
      "cell_type": "markdown",
      "metadata": {
        "id": "M2QqtCTSferG",
        "colab_type": "text"
      },
      "source": [
        "HSICは"
      ]
    },
    {
      "cell_type": "code",
      "metadata": {
        "id": "6BNbamBhVj9W",
        "colab_type": "code",
        "colab": {
          "base_uri": "https://localhost:8080/",
          "height": 282
        },
        "outputId": "3349d197-2931-4b0c-e2a3-48c765501532"
      },
      "source": [
        "D = []\n",
        "C = []\n",
        "for d in range(100):\n",
        "    X = np.linspace(-1, 1, 51)\n",
        "    Y = np.sin((X+0.25)*np.pi*2) + np.random.rand(51,) * d / 10\n",
        "    D.append(d)\n",
        "    testStat, thresh = hsic_gam(X.reshape(len(X), 1), Y.reshape(len(Y), 1))\n",
        "    C.append(testStat / thresh)\n",
        "\n",
        "plt.plot(D, C)"
      ],
      "execution_count": 49,
      "outputs": [
        {
          "output_type": "execute_result",
          "data": {
            "text/plain": [
              "[<matplotlib.lines.Line2D at 0x7f1377eb5ac8>]"
            ]
          },
          "metadata": {
            "tags": []
          },
          "execution_count": 49
        },
        {
          "output_type": "display_data",
          "data": {
            "image/png": "[encoded data removed]",
            "text/plain": [
              "<Figure size 432x288 with 1 Axes>"
            ]
          },
          "metadata": {
            "tags": [],
            "needs_background": "light"
          }
        }
      ]
    },
    {
      "cell_type": "markdown",
      "metadata": {
        "id": "HRrU8P4VfhLg",
        "colab_type": "text"
      },
      "source": [
        "ピアソンの相関係数が、ノイズ付きの三角関数の関係性を検出できなかったのは想定内でしたが、HSICも脱落してしまった感じですね。その中でもMICが関係性を検出できていたのは驚きでした。"
      ]
    },
    {
      "cell_type": "markdown",
      "metadata": {
        "id": "NsCJeH-7aw6M",
        "colab_type": "text"
      },
      "source": [
        "# シグモイド関数\n",
        "\n",
        "最後に、シグモイド関数です。"
      ]
    },
    {
      "cell_type": "code",
      "metadata": {
        "id": "bPzRwftyav6Z",
        "colab_type": "code",
        "colab": {
          "base_uri": "https://localhost:8080/",
          "height": 282
        },
        "outputId": "6bf41960-b3b1-497c-f917-49133cd58448"
      },
      "source": [
        "import numpy as np\n",
        "\n",
        "X = np.linspace(-1, 1, 51)\n",
        "Y = 1 / (1 + np.exp(-X*10))\n",
        "plt.scatter(X, Y)"
      ],
      "execution_count": 58,
      "outputs": [
        {
          "output_type": "execute_result",
          "data": {
            "text/plain": [
              "<matplotlib.collections.PathCollection at 0x7f1377a83908>"
            ]
          },
          "metadata": {
            "tags": []
          },
          "execution_count": 58
        },
        {
          "output_type": "display_data",
          "data": {
            "image/png": "[encoded data removed]",
            "text/plain": [
              "<Figure size 432x288 with 1 Axes>"
            ]
          },
          "metadata": {
            "tags": [],
            "needs_background": "light"
          }
        }
      ]
    },
    {
      "cell_type": "markdown",
      "metadata": {
        "id": "YpXQCIjmgCEW",
        "colab_type": "text"
      },
      "source": [
        "ピアソンの相関係数は"
      ]
    },
    {
      "cell_type": "code",
      "metadata": {
        "id": "Nj7IvqzfVqRg",
        "colab_type": "code",
        "colab": {
          "base_uri": "https://localhost:8080/",
          "height": 34
        },
        "outputId": "a92249fb-4647-452a-cdd7-b7cbcffc4db5"
      },
      "source": [
        "np.corrcoef(X, Y)[0, 1]"
      ],
      "execution_count": 59,
      "outputs": [
        {
          "output_type": "execute_result",
          "data": {
            "text/plain": [
              "0.9354020629807919"
            ]
          },
          "metadata": {
            "tags": []
          },
          "execution_count": 59
        }
      ]
    },
    {
      "cell_type": "markdown",
      "metadata": {
        "id": "3mGj9Wn6gElR",
        "colab_type": "text"
      },
      "source": [
        "MICは"
      ]
    },
    {
      "cell_type": "code",
      "metadata": {
        "id": "cZm2ZzvXbZ0e",
        "colab_type": "code",
        "colab": {
          "base_uri": "https://localhost:8080/",
          "height": 34
        },
        "outputId": "342af859-b4a9-4c1a-e5c1-0ccdd508b926"
      },
      "source": [
        "mine.compute_score(X, Y)\n",
        "mine.mic()"
      ],
      "execution_count": 60,
      "outputs": [
        {
          "output_type": "execute_result",
          "data": {
            "text/plain": [
              "0.9999999999999998"
            ]
          },
          "metadata": {
            "tags": []
          },
          "execution_count": 60
        }
      ]
    },
    {
      "cell_type": "markdown",
      "metadata": {
        "id": "uQyqeEt7gFw5",
        "colab_type": "text"
      },
      "source": [
        "HSICは"
      ]
    },
    {
      "cell_type": "code",
      "metadata": {
        "id": "aYdvGWWqbc7c",
        "colab_type": "code",
        "colab": {
          "base_uri": "https://localhost:8080/",
          "height": 34
        },
        "outputId": "baea3f6c-126a-421d-f1f7-99c0e5ee99ab"
      },
      "source": [
        "testStat, thresh = hsic_gam(X.reshape(len(X), 1), Y.reshape(len(Y), 1))\n",
        "testStat / thresh"
      ],
      "execution_count": 61,
      "outputs": [
        {
          "output_type": "execute_result",
          "data": {
            "text/plain": [
              "27.433932271008874"
            ]
          },
          "metadata": {
            "tags": []
          },
          "execution_count": 61
        }
      ]
    },
    {
      "cell_type": "markdown",
      "metadata": {
        "id": "KNATDauFgIPT",
        "colab_type": "text"
      },
      "source": [
        "ノイズを加えてみましょう。"
      ]
    },
    {
      "cell_type": "code",
      "metadata": {
        "id": "Zns-UcNSbgGS",
        "colab_type": "code",
        "colab": {
          "base_uri": "https://localhost:8080/",
          "height": 282
        },
        "outputId": "d9cea0cf-ce2d-421c-a40a-3c3dd16b6ae3"
      },
      "source": [
        "import numpy as np\n",
        "\n",
        "X = np.linspace(-1, 1, 51)\n",
        "Y = 1 / (1 + np.exp(-X*10)) + np.random.rand(51,)\n",
        "plt.scatter(X, Y)"
      ],
      "execution_count": 62,
      "outputs": [
        {
          "output_type": "execute_result",
          "data": {
            "text/plain": [
              "<matplotlib.collections.PathCollection at 0x7f1377a6af60>"
            ]
          },
          "metadata": {
            "tags": []
          },
          "execution_count": 62
        },
        {
          "output_type": "display_data",
          "data": {
            "image/png": "[encoded data removed]",
            "text/plain": [
              "<Figure size 432x288 with 1 Axes>"
            ]
          },
          "metadata": {
            "tags": [],
            "needs_background": "light"
          }
        }
      ]
    },
    {
      "cell_type": "markdown",
      "metadata": {
        "id": "CIHCTCIfgPoR",
        "colab_type": "text"
      },
      "source": [
        "ピアソンの相関係数は"
      ]
    },
    {
      "cell_type": "code",
      "metadata": {
        "id": "JwoSqeQAblsY",
        "colab_type": "code",
        "colab": {
          "base_uri": "https://localhost:8080/",
          "height": 34
        },
        "outputId": "f7ebc96e-8a57-469d-bc50-24e0c694b391"
      },
      "source": [
        "np.corrcoef(X, Y)[0, 1]"
      ],
      "execution_count": 63,
      "outputs": [
        {
          "output_type": "execute_result",
          "data": {
            "text/plain": [
              "0.7994507640548881"
            ]
          },
          "metadata": {
            "tags": []
          },
          "execution_count": 63
        }
      ]
    },
    {
      "cell_type": "markdown",
      "metadata": {
        "id": "12p7m1cAgRfs",
        "colab_type": "text"
      },
      "source": [
        "MICは"
      ]
    },
    {
      "cell_type": "code",
      "metadata": {
        "id": "zX2np_Ribpfi",
        "colab_type": "code",
        "colab": {
          "base_uri": "https://localhost:8080/",
          "height": 34
        },
        "outputId": "94b85622-179f-4fbd-b8b0-831ed8e09d97"
      },
      "source": [
        "mine.compute_score(X, Y)\n",
        "mine.mic()"
      ],
      "execution_count": 64,
      "outputs": [
        {
          "output_type": "execute_result",
          "data": {
            "text/plain": [
              "0.9997226475394071"
            ]
          },
          "metadata": {
            "tags": []
          },
          "execution_count": 64
        }
      ]
    },
    {
      "cell_type": "markdown",
      "metadata": {
        "id": "4z8euE19gS87",
        "colab_type": "text"
      },
      "source": [
        "HSICは"
      ]
    },
    {
      "cell_type": "code",
      "metadata": {
        "id": "qq4PA3cObrb6",
        "colab_type": "code",
        "colab": {
          "base_uri": "https://localhost:8080/",
          "height": 34
        },
        "outputId": "d3df9309-2567-439b-ab67-de3b870329ca"
      },
      "source": [
        "testStat, thresh = hsic_gam(X.reshape(len(X), 1), Y.reshape(len(Y), 1))\n",
        "testStat / thresh"
      ],
      "execution_count": 65,
      "outputs": [
        {
          "output_type": "execute_result",
          "data": {
            "text/plain": [
              "12.218008194240534"
            ]
          },
          "metadata": {
            "tags": []
          },
          "execution_count": 65
        }
      ]
    },
    {
      "cell_type": "markdown",
      "metadata": {
        "id": "h-DN7XASgVC5",
        "colab_type": "text"
      },
      "source": [
        "ノイズを増やしていった影響を見てみましょう。ピアソンの相関係数は"
      ]
    },
    {
      "cell_type": "code",
      "metadata": {
        "id": "WHLq1KyKbtrn",
        "colab_type": "code",
        "colab": {
          "base_uri": "https://localhost:8080/",
          "height": 282
        },
        "outputId": "f04b2dfd-ec21-484f-f213-1b433f4db4ad"
      },
      "source": [
        "D = []\n",
        "C = []\n",
        "for d in range(100):\n",
        "    X = np.linspace(-1, 1, 51)\n",
        "    Y = 1 / (1 + np.exp(-X*10)) + np.random.rand(51,) * d / 10\n",
        "    D.append(d)\n",
        "    C.append(np.corrcoef(X, Y)[0, 1])\n",
        "\n",
        "plt.plot(D, C)"
      ],
      "execution_count": 66,
      "outputs": [
        {
          "output_type": "execute_result",
          "data": {
            "text/plain": [
              "[<matplotlib.lines.Line2D at 0x7f13779daf28>]"
            ]
          },
          "metadata": {
            "tags": []
          },
          "execution_count": 66
        },
        {
          "output_type": "display_data",
          "data": {
            "image/png": "[encoded data removed]",
            "text/plain": [
              "<Figure size 432x288 with 1 Axes>"
            ]
          },
          "metadata": {
            "tags": [],
            "needs_background": "light"
          }
        }
      ]
    },
    {
      "cell_type": "markdown",
      "metadata": {
        "id": "3lxPx00zgcRb",
        "colab_type": "text"
      },
      "source": [
        "MICは"
      ]
    },
    {
      "cell_type": "code",
      "metadata": {
        "id": "BumXl5_bb1GH",
        "colab_type": "code",
        "colab": {
          "base_uri": "https://localhost:8080/",
          "height": 282
        },
        "outputId": "a4800b9b-1ce8-45b0-f20a-e0c749218e7d"
      },
      "source": [
        "D = []\n",
        "C = []\n",
        "for d in range(100):\n",
        "    X = np.linspace(-1, 1, 51)\n",
        "    Y = 1 / (1 + np.exp(-X*10)) + np.random.rand(51,) * d / 10\n",
        "    D.append(d)\n",
        "    mine.compute_score(X, Y)\n",
        "    C.append(mine.mic())\n",
        "\n",
        "plt.plot(D, C)"
      ],
      "execution_count": 67,
      "outputs": [
        {
          "output_type": "execute_result",
          "data": {
            "text/plain": [
              "[<matplotlib.lines.Line2D at 0x7f137793fb38>]"
            ]
          },
          "metadata": {
            "tags": []
          },
          "execution_count": 67
        },
        {
          "output_type": "display_data",
          "data": {
            "image/png": "[encoded data removed]",
            "text/plain": [
              "<Figure size 432x288 with 1 Axes>"
            ]
          },
          "metadata": {
            "tags": [],
            "needs_background": "light"
          }
        }
      ]
    },
    {
      "cell_type": "markdown",
      "metadata": {
        "id": "BDJsB9tugefE",
        "colab_type": "text"
      },
      "source": [
        "HSICは"
      ]
    },
    {
      "cell_type": "code",
      "metadata": {
        "id": "TeDCnTKUb9W5",
        "colab_type": "code",
        "colab": {
          "base_uri": "https://localhost:8080/",
          "height": 282
        },
        "outputId": "879af2a2-6b1f-4905-96e1-572553c49f99"
      },
      "source": [
        "D = []\n",
        "C = []\n",
        "for d in range(100):\n",
        "    X = np.linspace(-1, 1, 51)\n",
        "    Y = 1 / (1 + np.exp(-X*10)) + np.random.rand(51,) * d / 10\n",
        "    D.append(d)\n",
        "    testStat, thresh = hsic_gam(X.reshape(len(X), 1), Y.reshape(len(Y), 1))\n",
        "    C.append(testStat / thresh)\n",
        "\n",
        "plt.plot(D, C)"
      ],
      "execution_count": 68,
      "outputs": [
        {
          "output_type": "execute_result",
          "data": {
            "text/plain": [
              "[<matplotlib.lines.Line2D at 0x7f13778b7a20>]"
            ]
          },
          "metadata": {
            "tags": []
          },
          "execution_count": 68
        },
        {
          "output_type": "display_data",
          "data": {
            "image/png": "[encoded data removed]",
            "text/plain": [
              "<Figure size 432x288 with 1 Axes>"
            ]
          },
          "metadata": {
            "tags": [],
            "needs_background": "light"
          }
        }
      ]
    },
    {
      "cell_type": "markdown",
      "metadata": {
        "id": "S4n9b8yEglCd",
        "colab_type": "text"
      },
      "source": [
        "いずれの指標も、関係性を検出できていますが、ノイズに対する強さで言えばMICが最強という感じです。"
      ]
    },
    {
      "cell_type": "code",
      "metadata": {
        "id": "QdTMtALucHWB",
        "colab_type": "code",
        "colab": {}
      },
      "source": [
        ""
      ],
      "execution_count": null,
      "outputs": []
    }
  ]
}