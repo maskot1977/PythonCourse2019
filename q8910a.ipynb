{
  "nbformat": 4,
  "nbformat_minor": 0,
  "metadata": {
    "colab": {
      "name": "q8910a",
      "provenance": [],
      "include_colab_link": true
    },
    "kernelspec": {
      "name": "python3",
      "display_name": "Python 3"
    }
  },
  "cells": [
    {
      "cell_type": "markdown",
      "metadata": {
        "id": "view-in-github",
        "colab_type": "text"
      },
      "source": [
        "<a href=\"https://colab.research.google.com/github/maskot1977/PythonCourse2019/blob/master/q8910a.ipynb\" target=\"_parent\"><img src=\"https://colab.research.google.com/assets/colab-badge.svg\" alt=\"Open In Colab\"/></a>"
      ]
    },
    {
      "cell_type": "code",
      "metadata": {
        "id": "rva67zAmAW_K",
        "colab_type": "code",
        "colab": {}
      },
      "source": [
        "# 素数か\n",
        "import math\n",
        "def is_prime(n):\n",
        "    if n == 1:\n",
        "        return False\n",
        "    for i in range(2, round(math.sqrt(n)) + 1):\n",
        "        if (n % i) == 0:\n",
        "            return False\n",
        "    return True"
      ],
      "execution_count": 0,
      "outputs": []
    },
    {
      "cell_type": "code",
      "metadata": {
        "id": "tMkYNGk8A04k",
        "colab_type": "code",
        "outputId": "209b4d76-3a15-4f53-def5-fae2b612bb01",
        "colab": {
          "base_uri": "https://localhost:8080/",
          "height": 34
        }
      },
      "source": [
        "is_prime(53)"
      ],
      "execution_count": 0,
      "outputs": [
        {
          "output_type": "execute_result",
          "data": {
            "text/plain": [
              "True"
            ]
          },
          "metadata": {
            "tags": []
          },
          "execution_count": 8
        }
      ]
    },
    {
      "cell_type": "code",
      "metadata": {
        "id": "3jFwdYlrSkOw",
        "colab_type": "code",
        "outputId": "13f4eb31-441f-4985-91eb-3f237abf9d83",
        "colab": {
          "base_uri": "https://localhost:8080/",
          "height": 34
        }
      },
      "source": [
        "is_prime(295927)"
      ],
      "execution_count": 0,
      "outputs": [
        {
          "output_type": "execute_result",
          "data": {
            "text/plain": [
              "False"
            ]
          },
          "metadata": {
            "tags": []
          },
          "execution_count": 9
        }
      ]
    },
    {
      "cell_type": "code",
      "metadata": {
        "id": "3Eoey-TFYqB0",
        "colab_type": "code",
        "outputId": "122aa73c-33dd-4597-bfb7-7c89b2f35cba",
        "colab": {
          "base_uri": "https://localhost:8080/",
          "height": 34
        }
      },
      "source": [
        "import random\n",
        "while True:\n",
        "    n = random.randint(10000, 1000000)\n",
        "    if is_prime(n):\n",
        "        print(n)\n",
        "        is_prime(n)\n",
        "        break"
      ],
      "execution_count": 0,
      "outputs": [
        {
          "output_type": "stream",
          "text": [
            "941471\n"
          ],
          "name": "stdout"
        }
      ]
    },
    {
      "cell_type": "code",
      "metadata": {
        "id": "PsqdbOh7Tbon",
        "colab_type": "code",
        "colab": {}
      },
      "source": [
        "import math\n",
        "def divisor(n):\n",
        "    res = []\n",
        "    for i in range(2, round(math.sqrt(n)) + 1):\n",
        "        if (n%i) == 0:\n",
        "            res.append(i)\n",
        "            if i != n / i:\n",
        "                res.append(int(n / i))\n",
        "    return sorted(res)"
      ],
      "execution_count": 0,
      "outputs": []
    },
    {
      "cell_type": "code",
      "metadata": {
        "id": "eg-dfftEUpDz",
        "colab_type": "code",
        "outputId": "f7340499-9019-4951-c506-28f9315e295b",
        "colab": {
          "base_uri": "https://localhost:8080/",
          "height": 34
        }
      },
      "source": [
        "divisor(10)"
      ],
      "execution_count": 0,
      "outputs": [
        {
          "output_type": "execute_result",
          "data": {
            "text/plain": [
              "[2, 5]"
            ]
          },
          "metadata": {
            "tags": []
          },
          "execution_count": 18
        }
      ]
    },
    {
      "cell_type": "code",
      "metadata": {
        "id": "VrnmQaksUrKy",
        "colab_type": "code",
        "outputId": "9469e3b1-69f4-44e7-cc45-e125d8611a6e",
        "colab": {
          "base_uri": "https://localhost:8080/",
          "height": 34
        }
      },
      "source": [
        "divisor(60)"
      ],
      "execution_count": 0,
      "outputs": [
        {
          "output_type": "execute_result",
          "data": {
            "text/plain": [
              "[2, 3, 4, 5, 6, 10, 12, 15, 20, 30]"
            ]
          },
          "metadata": {
            "tags": []
          },
          "execution_count": 19
        }
      ]
    },
    {
      "cell_type": "code",
      "metadata": {
        "id": "ok8mHL_GaCks",
        "colab_type": "code",
        "outputId": "50426425-1c66-4f18-da81-4c40b747d7ce",
        "colab": {
          "base_uri": "https://localhost:8080/",
          "height": 52
        }
      },
      "source": [
        "n = random.randint(1000, 10000)\n",
        "print(n)\n",
        "divisor(n)"
      ],
      "execution_count": 0,
      "outputs": [
        {
          "output_type": "stream",
          "text": [
            "8075\n"
          ],
          "name": "stdout"
        },
        {
          "output_type": "execute_result",
          "data": {
            "text/plain": [
              "[5, 17, 19, 25, 85, 95, 323, 425, 475, 1615]"
            ]
          },
          "metadata": {
            "tags": []
          },
          "execution_count": 32
        }
      ]
    },
    {
      "cell_type": "code",
      "metadata": {
        "id": "Rr6Zrd-OUxWT",
        "colab_type": "code",
        "colab": {}
      },
      "source": [
        "def prime_factor(n):\n",
        "    res = []\n",
        "    for i in range(2, round(math.sqrt(n)) + 1):\n",
        "        while (n % i == 0):\n",
        "            res.append(i)\n",
        "            n /= i\n",
        "    if n != 1:\n",
        "        res.append(int(n))\n",
        "    return res"
      ],
      "execution_count": 0,
      "outputs": []
    },
    {
      "cell_type": "code",
      "metadata": {
        "id": "cxSpNvRLWCAA",
        "colab_type": "code",
        "outputId": "14cbe838-4831-487d-ea41-20b7e7d31941",
        "colab": {
          "base_uri": "https://localhost:8080/",
          "height": 34
        }
      },
      "source": [
        "n = 136\n",
        "prime_factor(136)"
      ],
      "execution_count": 0,
      "outputs": [
        {
          "output_type": "execute_result",
          "data": {
            "text/plain": [
              "[2, 2, 2, 17]"
            ]
          },
          "metadata": {
            "tags": []
          },
          "execution_count": 64
        }
      ]
    },
    {
      "cell_type": "code",
      "metadata": {
        "id": "2wRiHWOlcM9r",
        "colab_type": "code",
        "outputId": "f4f3be83-e17b-445e-9107-e0a74ba6fb7f",
        "colab": {
          "base_uri": "https://localhost:8080/",
          "height": 34
        }
      },
      "source": [
        "round(math.sqrt(n)) + 1"
      ],
      "execution_count": 0,
      "outputs": [
        {
          "output_type": "execute_result",
          "data": {
            "text/plain": [
              "13"
            ]
          },
          "metadata": {
            "tags": []
          },
          "execution_count": 54
        }
      ]
    },
    {
      "cell_type": "code",
      "metadata": {
        "id": "Uoj2N_fJcZGE",
        "colab_type": "code",
        "outputId": "eed8d67b-378d-47a1-fcb5-9fc099b5fa6b",
        "colab": {
          "base_uri": "https://localhost:8080/",
          "height": 34
        }
      },
      "source": [
        "17 * "
      ],
      "execution_count": 0,
      "outputs": [
        {
          "output_type": "execute_result",
          "data": {
            "text/plain": [
              "289"
            ]
          },
          "metadata": {
            "tags": []
          },
          "execution_count": 57
        }
      ]
    },
    {
      "cell_type": "code",
      "metadata": {
        "id": "aPYO33GaWEfZ",
        "colab_type": "code",
        "outputId": "a112f59b-77f4-4c7d-f08f-eecfea23dbfe",
        "colab": {
          "base_uri": "https://localhost:8080/",
          "height": 34
        }
      },
      "source": [
        "prime_factor(8075)"
      ],
      "execution_count": 0,
      "outputs": [
        {
          "output_type": "execute_result",
          "data": {
            "text/plain": [
              "[5, 5, 17, 19]"
            ]
          },
          "metadata": {
            "tags": []
          },
          "execution_count": 36
        }
      ]
    },
    {
      "cell_type": "code",
      "metadata": {
        "id": "w40YJ2F0WHK-",
        "colab_type": "code",
        "outputId": "56c52fa7-6e74-4780-a02b-8be956dd22ec",
        "colab": {
          "base_uri": "https://localhost:8080/",
          "height": 34
        }
      },
      "source": [
        "5 * 5 * 17 * 19"
      ],
      "execution_count": 0,
      "outputs": [
        {
          "output_type": "execute_result",
          "data": {
            "text/plain": [
              "8075"
            ]
          },
          "metadata": {
            "tags": []
          },
          "execution_count": 37
        }
      ]
    },
    {
      "cell_type": "code",
      "metadata": {
        "id": "Vb60HPRebM4L",
        "colab_type": "code",
        "colab": {}
      },
      "source": [
        ""
      ],
      "execution_count": 0,
      "outputs": []
    }
  ]
}