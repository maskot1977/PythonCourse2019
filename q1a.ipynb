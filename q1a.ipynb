{
  "nbformat": 4,
  "nbformat_minor": 0,
  "metadata": {
    "colab": {
      "name": "q1a",
      "provenance": [],
      "include_colab_link": true
    },
    "kernelspec": {
      "name": "python3",
      "display_name": "Python 3"
    }
  },
  "cells": [
    {
      "cell_type": "markdown",
      "metadata": {
        "id": "view-in-github",
        "colab_type": "text"
      },
      "source": [
        "<a href=\"https://colab.research.google.com/github/maskot1977/PythonCourse2019/blob/master/q1a.ipynb\" target=\"_parent\"><img src=\"https://colab.research.google.com/assets/colab-badge.svg\" alt=\"Open In Colab\"/></a>"
      ]
    },
    {
      "cell_type": "markdown",
      "metadata": {
        "id": "JXg_J1Po1si5",
        "colab_type": "text"
      },
      "source": [
        "# プログラミング問題集　問１解答例\n",
        "\n",
        "https://qiita.com/maskot1977/items/85772c1e457c42eea089\n",
        "\n",
        "* 他にも解答例があれば追加の可能性があります。"
      ]
    },
    {
      "cell_type": "code",
      "metadata": {
        "id": "3dqRNXDN10C3",
        "colab_type": "code",
        "colab": {}
      },
      "source": [
        "k = [1, 2, 3, 4, 5]\n",
        "m = 10\n",
        "\n",
        "def question1(k, m):\n",
        "  for k1 in k:\n",
        "    for k2 in k:\n",
        "      for k3 in k:\n",
        "        for k4 in k:\n",
        "          if k1 + k2 + k3 + k4 == m:\n",
        "            return True\n",
        "  return False"
      ],
      "execution_count": 0,
      "outputs": []
    },
    {
      "cell_type": "code",
      "metadata": {
        "id": "_c9VuEFr2XYJ",
        "colab_type": "code",
        "outputId": "eaecfef0-b6c4-4346-db15-57d86aa91008",
        "colab": {
          "base_uri": "https://localhost:8080/",
          "height": 35
        }
      },
      "source": [
        "question1(k, m)"
      ],
      "execution_count": 0,
      "outputs": [
        {
          "output_type": "execute_result",
          "data": {
            "text/plain": [
              "True"
            ]
          },
          "metadata": {
            "tags": []
          },
          "execution_count": 2
        }
      ]
    },
    {
      "cell_type": "code",
      "metadata": {
        "id": "ElSPZAp92bsn",
        "colab_type": "code",
        "colab": {}
      },
      "source": [
        "import random"
      ],
      "execution_count": 0,
      "outputs": []
    },
    {
      "cell_type": "code",
      "metadata": {
        "id": "_SFHP8qV2yM7",
        "colab_type": "code",
        "outputId": "b2be3240-c411-49b1-b250-2da9290f8bbd",
        "colab": {
          "base_uri": "https://localhost:8080/",
          "height": 35
        }
      },
      "source": [
        "random.randint(1, 1000)"
      ],
      "execution_count": 0,
      "outputs": [
        {
          "output_type": "execute_result",
          "data": {
            "text/plain": [
              "302"
            ]
          },
          "metadata": {
            "tags": []
          },
          "execution_count": 4
        }
      ]
    },
    {
      "cell_type": "code",
      "metadata": {
        "id": "uK37NvrG2zRw",
        "colab_type": "code",
        "colab": {}
      },
      "source": [
        "n = 50\n",
        "m = random.randint(1, 10000)\n",
        "k = [random.randint(1, 1000) for _ in range(n)]"
      ],
      "execution_count": 0,
      "outputs": []
    },
    {
      "cell_type": "code",
      "metadata": {
        "id": "LV85vLb2PfpC",
        "colab_type": "code",
        "outputId": "adf63259-39bf-4384-d91f-4290d2a1629d",
        "colab": {
          "base_uri": "https://localhost:8080/",
          "height": 73
        }
      },
      "source": [
        "print(\"m = \", m)\n",
        "print(\"k = \", k)"
      ],
      "execution_count": 0,
      "outputs": [
        {
          "output_type": "stream",
          "text": [
            "m =  5264\n",
            "k =  [629, 873, 624, 235, 721, 979, 966, 370, 48, 817, 687, 766, 554, 966, 673, 134, 858, 876, 167, 838, 858, 576, 6, 417, 218, 120, 142, 800, 113, 912, 424, 548, 655, 134, 744, 587, 481, 284, 197, 542, 559, 16, 367, 241, 32, 268, 545, 930, 162, 978]\n"
          ],
          "name": "stdout"
        }
      ]
    },
    {
      "cell_type": "code",
      "metadata": {
        "id": "ZYGqVoIwPgWY",
        "colab_type": "code",
        "outputId": "1b9252a7-9356-4912-c572-f79a24aa2e72",
        "colab": {
          "base_uri": "https://localhost:8080/",
          "height": 35
        }
      },
      "source": [
        "question1(k, m)"
      ],
      "execution_count": 0,
      "outputs": [
        {
          "output_type": "execute_result",
          "data": {
            "text/plain": [
              "False"
            ]
          },
          "metadata": {
            "tags": []
          },
          "execution_count": 129
        }
      ]
    },
    {
      "cell_type": "code",
      "metadata": {
        "id": "Sfp9lXnjPjPL",
        "colab_type": "code",
        "colab": {}
      },
      "source": [
        ""
      ],
      "execution_count": 0,
      "outputs": []
    }
  ]
}