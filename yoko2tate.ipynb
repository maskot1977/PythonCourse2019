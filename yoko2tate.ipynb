{
  "nbformat": 4,
  "nbformat_minor": 0,
  "metadata": {
    "colab": {
      "name": "yoko2tate",
      "provenance": [],
      "include_colab_link": true
    },
    "kernelspec": {
      "name": "python3",
      "display_name": "Python 3"
    }
  },
  "cells": [
    {
      "cell_type": "markdown",
      "metadata": {
        "id": "view-in-github",
        "colab_type": "text"
      },
      "source": [
        "<a href=\"https://colab.research.google.com/github/maskot1977/PythonCourse2019/blob/master/yoko2tate.ipynb\" target=\"_parent\"><img src=\"https://colab.research.google.com/assets/colab-badge.svg\" alt=\"Open In Colab\"/></a>"
      ]
    },
    {
      "cell_type": "code",
      "metadata": {
        "id": "1C_2_opBqm-X",
        "colab_type": "code",
        "colab": {}
      },
      "source": [
        "tweet = '''\\\n",
        "普通は Tweet は横書きなんだけどさ、\n",
        "これを縦書きにしたいわけよ。\n",
        "そうすると、検索されにくくなるんじゃね？\n",
        "いっちょ Pythonでやってみないか？\n",
        "'''"
      ],
      "execution_count": 0,
      "outputs": []
    },
    {
      "cell_type": "code",
      "metadata": {
        "id": "gMcJAoIwrKue",
        "colab_type": "code",
        "colab": {
          "base_uri": "https://localhost:8080/",
          "height": 35
        },
        "outputId": "5ffaf5b2-6346-471a-b9a4-e595b1b2ed16"
      },
      "source": [
        "tweet"
      ],
      "execution_count": 2,
      "outputs": [
        {
          "output_type": "execute_result",
          "data": {
            "text/plain": [
              "'普通は Tweet は横書きなんだけどさ、\\nこれを縦書きにしたいわけよ。\\nそうすると、検索されにくくなるんじゃね？\\nいっちょ Pythonでやってみないか？\\n'"
            ]
          },
          "metadata": {
            "tags": []
          },
          "execution_count": 2
        }
      ]
    },
    {
      "cell_type": "code",
      "metadata": {
        "id": "RJjuzqD1rPBD",
        "colab_type": "code",
        "colab": {
          "base_uri": "https://localhost:8080/",
          "height": 104
        },
        "outputId": "51d99234-6ad3-4d0a-835d-5a56285b9433"
      },
      "source": [
        "for line in tweet.split(\"\\n\"):\n",
        "    print([line[i] for i in range(len(line))])"
      ],
      "execution_count": 3,
      "outputs": [
        {
          "output_type": "stream",
          "text": [
            "['普', '通', 'は', ' ', 'T', 'w', 'e', 'e', 't', ' ', 'は', '横', '書', 'き', 'な', 'ん', 'だ', 'け', 'ど', 'さ', '、']\n",
            "['こ', 'れ', 'を', '縦', '書', 'き', 'に', 'し', 'た', 'い', 'わ', 'け', 'よ', '。']\n",
            "['そ', 'う', 'す', 'る', 'と', '、', '検', '索', 'さ', 'れ', 'に', 'く', 'く', 'な', 'る', 'ん', 'じ', 'ゃ', 'ね', '？']\n",
            "['い', 'っ', 'ち', 'ょ', ' ', 'P', 'y', 't', 'h', 'o', 'n', 'で', 'や', 'っ', 'て', 'み', 'な', 'い', 'か', '？']\n",
            "[]\n"
          ],
          "name": "stdout"
        }
      ]
    },
    {
      "cell_type": "code",
      "metadata": {
        "id": "vKv8y6lQu0vL",
        "colab_type": "code",
        "colab": {
          "base_uri": "https://localhost:8080/",
          "height": 86
        },
        "outputId": "787cf1f3-1231-47c7-d95f-ce8ec80843e2"
      },
      "source": [
        "for line in tweet.split(\"\\n\"):\n",
        "    if len(line) > 0:\n",
        "        print([line[i] for i in range(len(line))])"
      ],
      "execution_count": 4,
      "outputs": [
        {
          "output_type": "stream",
          "text": [
            "['普', '通', 'は', ' ', 'T', 'w', 'e', 'e', 't', ' ', 'は', '横', '書', 'き', 'な', 'ん', 'だ', 'け', 'ど', 'さ', '、']\n",
            "['こ', 'れ', 'を', '縦', '書', 'き', 'に', 'し', 'た', 'い', 'わ', 'け', 'よ', '。']\n",
            "['そ', 'う', 'す', 'る', 'と', '、', '検', '索', 'さ', 'れ', 'に', 'く', 'く', 'な', 'る', 'ん', 'じ', 'ゃ', 'ね', '？']\n",
            "['い', 'っ', 'ち', 'ょ', ' ', 'P', 'y', 't', 'h', 'o', 'n', 'で', 'や', 'っ', 'て', 'み', 'な', 'い', 'か', '？']\n"
          ],
          "name": "stdout"
        }
      ]
    },
    {
      "cell_type": "code",
      "metadata": {
        "id": "PIoIAeYXsRpD",
        "colab_type": "code",
        "colab": {
          "base_uri": "https://localhost:8080/",
          "height": 55
        },
        "outputId": "40900941-064e-4128-c4dd-d3f04bebc004"
      },
      "source": [
        "data = [[line[i] for i in range(len(line))] for line in tweet.split(\"\\n\") if len(line) > 0]\n",
        "print(data)"
      ],
      "execution_count": 5,
      "outputs": [
        {
          "output_type": "stream",
          "text": [
            "[['普', '通', 'は', ' ', 'T', 'w', 'e', 'e', 't', ' ', 'は', '横', '書', 'き', 'な', 'ん', 'だ', 'け', 'ど', 'さ', '、'], ['こ', 'れ', 'を', '縦', '書', 'き', 'に', 'し', 'た', 'い', 'わ', 'け', 'よ', '。'], ['そ', 'う', 'す', 'る', 'と', '、', '検', '索', 'さ', 'れ', 'に', 'く', 'く', 'な', 'る', 'ん', 'じ', 'ゃ', 'ね', '？'], ['い', 'っ', 'ち', 'ょ', ' ', 'P', 'y', 't', 'h', 'o', 'n', 'で', 'や', 'っ', 'て', 'み', 'な', 'い', 'か', '？']]\n"
          ],
          "name": "stdout"
        }
      ]
    },
    {
      "cell_type": "code",
      "metadata": {
        "id": "qxD_mui3sw3q",
        "colab_type": "code",
        "colab": {
          "base_uri": "https://localhost:8080/",
          "height": 104
        },
        "outputId": "cae3a922-8043-498c-9c86-29e9b7a03de5"
      },
      "source": [
        "import numpy as np\n",
        "np.array(data)"
      ],
      "execution_count": 6,
      "outputs": [
        {
          "output_type": "execute_result",
          "data": {
            "text/plain": [
              "array([list(['普', '通', 'は', ' ', 'T', 'w', 'e', 'e', 't', ' ', 'は', '横', '書', 'き', 'な', 'ん', 'だ', 'け', 'ど', 'さ', '、']),\n",
              "       list(['こ', 'れ', 'を', '縦', '書', 'き', 'に', 'し', 'た', 'い', 'わ', 'け', 'よ', '。']),\n",
              "       list(['そ', 'う', 'す', 'る', 'と', '、', '検', '索', 'さ', 'れ', 'に', 'く', 'く', 'な', 'る', 'ん', 'じ', 'ゃ', 'ね', '？']),\n",
              "       list(['い', 'っ', 'ち', 'ょ', ' ', 'P', 'y', 't', 'h', 'o', 'n', 'で', 'や', 'っ', 'て', 'み', 'な', 'い', 'か', '？'])],\n",
              "      dtype=object)"
            ]
          },
          "metadata": {
            "tags": []
          },
          "execution_count": 6
        }
      ]
    },
    {
      "cell_type": "code",
      "metadata": {
        "id": "B6rL50GluTZy",
        "colab_type": "code",
        "colab": {
          "base_uri": "https://localhost:8080/",
          "height": 35
        },
        "outputId": "c6cf68ce-c182-405b-b2e5-c52a80471cc9"
      },
      "source": [
        "max_length = 0\n",
        "for d in data:\n",
        "    if max_length < len(d):\n",
        "        max_length = len(d)\n",
        "\n",
        "len(data)"
      ],
      "execution_count": 7,
      "outputs": [
        {
          "output_type": "execute_result",
          "data": {
            "text/plain": [
              "4"
            ]
          },
          "metadata": {
            "tags": []
          },
          "execution_count": 7
        }
      ]
    },
    {
      "cell_type": "code",
      "metadata": {
        "id": "fdt9b1khup6K",
        "colab_type": "code",
        "colab": {
          "base_uri": "https://localhost:8080/",
          "height": 294
        },
        "outputId": "13e25a42-aec4-4764-a3e3-570a7477478d"
      },
      "source": [
        "import numpy as np\n",
        "np.full((len(data), max_length), \"　\")"
      ],
      "execution_count": 8,
      "outputs": [
        {
          "output_type": "execute_result",
          "data": {
            "text/plain": [
              "array([['\\u3000', '\\u3000', '\\u3000', '\\u3000', '\\u3000', '\\u3000',\n",
              "        '\\u3000', '\\u3000', '\\u3000', '\\u3000', '\\u3000', '\\u3000',\n",
              "        '\\u3000', '\\u3000', '\\u3000', '\\u3000', '\\u3000', '\\u3000',\n",
              "        '\\u3000', '\\u3000', '\\u3000'],\n",
              "       ['\\u3000', '\\u3000', '\\u3000', '\\u3000', '\\u3000', '\\u3000',\n",
              "        '\\u3000', '\\u3000', '\\u3000', '\\u3000', '\\u3000', '\\u3000',\n",
              "        '\\u3000', '\\u3000', '\\u3000', '\\u3000', '\\u3000', '\\u3000',\n",
              "        '\\u3000', '\\u3000', '\\u3000'],\n",
              "       ['\\u3000', '\\u3000', '\\u3000', '\\u3000', '\\u3000', '\\u3000',\n",
              "        '\\u3000', '\\u3000', '\\u3000', '\\u3000', '\\u3000', '\\u3000',\n",
              "        '\\u3000', '\\u3000', '\\u3000', '\\u3000', '\\u3000', '\\u3000',\n",
              "        '\\u3000', '\\u3000', '\\u3000'],\n",
              "       ['\\u3000', '\\u3000', '\\u3000', '\\u3000', '\\u3000', '\\u3000',\n",
              "        '\\u3000', '\\u3000', '\\u3000', '\\u3000', '\\u3000', '\\u3000',\n",
              "        '\\u3000', '\\u3000', '\\u3000', '\\u3000', '\\u3000', '\\u3000',\n",
              "        '\\u3000', '\\u3000', '\\u3000']], dtype='<U1')"
            ]
          },
          "metadata": {
            "tags": []
          },
          "execution_count": 8
        }
      ]
    },
    {
      "cell_type": "code",
      "metadata": {
        "id": "sdgRpJMPvSkA",
        "colab_type": "code",
        "colab": {
          "base_uri": "https://localhost:8080/",
          "height": 173
        },
        "outputId": "6d6d8893-77b0-47ec-ddf2-053e1732d95b"
      },
      "source": [
        "data2 = np.full((len(data), max_length), \"　\")\n",
        "for i in range(len(data)):\n",
        "    for j in range(max_length):\n",
        "        if j < len(data[i]):\n",
        "            data2[len(data) - i - 1][j] = data[i][j]\n",
        "data2"
      ],
      "execution_count": 9,
      "outputs": [
        {
          "output_type": "execute_result",
          "data": {
            "text/plain": [
              "array([['い', 'っ', 'ち', 'ょ', ' ', 'P', 'y', 't', 'h', 'o', 'n', 'で', 'や',\n",
              "        'っ', 'て', 'み', 'な', 'い', 'か', '？', '\\u3000'],\n",
              "       ['そ', 'う', 'す', 'る', 'と', '、', '検', '索', 'さ', 'れ', 'に', 'く', 'く',\n",
              "        'な', 'る', 'ん', 'じ', 'ゃ', 'ね', '？', '\\u3000'],\n",
              "       ['こ', 'れ', 'を', '縦', '書', 'き', 'に', 'し', 'た', 'い', 'わ', 'け', 'よ',\n",
              "        '。', '\\u3000', '\\u3000', '\\u3000', '\\u3000', '\\u3000', '\\u3000',\n",
              "        '\\u3000'],\n",
              "       ['普', '通', 'は', ' ', 'T', 'w', 'e', 'e', 't', ' ', 'は', '横', '書',\n",
              "        'き', 'な', 'ん', 'だ', 'け', 'ど', 'さ', '、']], dtype='<U1')"
            ]
          },
          "metadata": {
            "tags": []
          },
          "execution_count": 9
        }
      ]
    },
    {
      "cell_type": "code",
      "metadata": {
        "id": "IRiGdmuov0FE",
        "colab_type": "code",
        "colab": {
          "base_uri": "https://localhost:8080/",
          "height": 380
        },
        "outputId": "34827ea8-518f-4e7c-ba81-08b53c51522a"
      },
      "source": [
        "data2.T"
      ],
      "execution_count": 10,
      "outputs": [
        {
          "output_type": "execute_result",
          "data": {
            "text/plain": [
              "array([['い', 'そ', 'こ', '普'],\n",
              "       ['っ', 'う', 'れ', '通'],\n",
              "       ['ち', 'す', 'を', 'は'],\n",
              "       ['ょ', 'る', '縦', ' '],\n",
              "       [' ', 'と', '書', 'T'],\n",
              "       ['P', '、', 'き', 'w'],\n",
              "       ['y', '検', 'に', 'e'],\n",
              "       ['t', '索', 'し', 'e'],\n",
              "       ['h', 'さ', 'た', 't'],\n",
              "       ['o', 'れ', 'い', ' '],\n",
              "       ['n', 'に', 'わ', 'は'],\n",
              "       ['で', 'く', 'け', '横'],\n",
              "       ['や', 'く', 'よ', '書'],\n",
              "       ['っ', 'な', '。', 'き'],\n",
              "       ['て', 'る', '\\u3000', 'な'],\n",
              "       ['み', 'ん', '\\u3000', 'ん'],\n",
              "       ['な', 'じ', '\\u3000', 'だ'],\n",
              "       ['い', 'ゃ', '\\u3000', 'け'],\n",
              "       ['か', 'ね', '\\u3000', 'ど'],\n",
              "       ['？', '？', '\\u3000', 'さ'],\n",
              "       ['\\u3000', '\\u3000', '\\u3000', '、']], dtype='<U1')"
            ]
          },
          "metadata": {
            "tags": []
          },
          "execution_count": 10
        }
      ]
    },
    {
      "cell_type": "code",
      "metadata": {
        "id": "sxRATmnAwhaJ",
        "colab_type": "code",
        "colab": {
          "base_uri": "https://localhost:8080/",
          "height": 380
        },
        "outputId": "0872872c-f46a-4a70-f594-53d64dc4e493"
      },
      "source": [
        "delimiter = \" \"\n",
        "for line in data2.T:\n",
        "    print(delimiter.join(line))"
      ],
      "execution_count": 11,
      "outputs": [
        {
          "output_type": "stream",
          "text": [
            "い そ こ 普\n",
            "っ う れ 通\n",
            "ち す を は\n",
            "ょ る 縦  \n",
            "  と 書 T\n",
            "P 、 き w\n",
            "y 検 に e\n",
            "t 索 し e\n",
            "h さ た t\n",
            "o れ い  \n",
            "n に わ は\n",
            "で く け 横\n",
            "や く よ 書\n",
            "っ な 。 き\n",
            "て る 　 な\n",
            "み ん 　 ん\n",
            "な じ 　 だ\n",
            "い ゃ 　 け\n",
            "か ね 　 ど\n",
            "？ ？ 　 さ\n",
            "　 　 　 、\n"
          ],
          "name": "stdout"
        }
      ]
    },
    {
      "cell_type": "code",
      "metadata": {
        "id": "ek3xctgsw5b0",
        "colab_type": "code",
        "colab": {
          "base_uri": "https://localhost:8080/",
          "height": 380
        },
        "outputId": "d245339c-3943-4fca-f7c6-5c8fed228d68"
      },
      "source": [
        "delimiter = \" \"\n",
        "print(\"\\n\".join([delimiter.join(line) for line in data2.T]))"
      ],
      "execution_count": 12,
      "outputs": [
        {
          "output_type": "stream",
          "text": [
            "い そ こ 普\n",
            "っ う れ 通\n",
            "ち す を は\n",
            "ょ る 縦  \n",
            "  と 書 T\n",
            "P 、 き w\n",
            "y 検 に e\n",
            "t 索 し e\n",
            "h さ た t\n",
            "o れ い  \n",
            "n に わ は\n",
            "で く け 横\n",
            "や く よ 書\n",
            "っ な 。 き\n",
            "て る 　 な\n",
            "み ん 　 ん\n",
            "な じ 　 だ\n",
            "い ゃ 　 け\n",
            "か ね 　 ど\n",
            "？ ？ 　 さ\n",
            "　 　 　 、\n"
          ],
          "name": "stdout"
        }
      ]
    },
    {
      "cell_type": "code",
      "metadata": {
        "id": "Mycbfnsbxi-Y",
        "colab_type": "code",
        "colab": {}
      },
      "source": [
        "def yoko2tate(tweet, delimiter = \" \"):\n",
        "    data = [[line[i] for i in range(len(line))] for line in tweet.split(\"\\n\") if len(line) > 0]\n",
        "    max_length = 0\n",
        "    for d in data:\n",
        "        if max_length < len(d):\n",
        "            max_length = len(d)\n",
        "    data2 = np.full((len(data), max_length), \"　\")\n",
        "    for i in range(len(data)):\n",
        "        for j in range(max_length):\n",
        "            if j < len(data[i]):\n",
        "                data2[len(data) - i - 1][j] = data[i][j]\n",
        "    return \"\\n\".join([delimiter.join(line) for line in data2.T])"
      ],
      "execution_count": 0,
      "outputs": []
    },
    {
      "cell_type": "code",
      "metadata": {
        "id": "F0MNfdVUybUp",
        "colab_type": "code",
        "colab": {
          "base_uri": "https://localhost:8080/",
          "height": 743
        },
        "outputId": "d73a6260-2f49-48ff-eae6-12f55d0a29c1"
      },
      "source": [
        "tweet = '''\\\n",
        "あ...ありのまま 今 起こったことを話すぜ！\n",
        "\n",
        "「ツイートを入力したら、縦書きになった」\n",
        "\n",
        "な...何を言っているか分からねーと思うが、おれも何をされたのか分からなかった...\n",
        "'''\n",
        "\n",
        "print(yoko2tate(tweet))"
      ],
      "execution_count": 14,
      "outputs": [
        {
          "output_type": "stream",
          "text": [
            "な 「 あ\n",
            ". ツ .\n",
            ". イ .\n",
            ". ー .\n",
            "何 ト あ\n",
            "を を り\n",
            "言 入 の\n",
            "っ 力 ま\n",
            "て し ま\n",
            "い た  \n",
            "る ら 今\n",
            "か 、  \n",
            "分 縦 起\n",
            "か 書 こ\n",
            "ら き っ\n",
            "ね に た\n",
            "ー な こ\n",
            "と っ と\n",
            "思 た を\n",
            "う 」 話\n",
            "が 　 す\n",
            "、 　 ぜ\n",
            "お 　 ！\n",
            "れ 　 　\n",
            "も 　 　\n",
            "何 　 　\n",
            "を 　 　\n",
            "さ 　 　\n",
            "れ 　 　\n",
            "た 　 　\n",
            "の 　 　\n",
            "か 　 　\n",
            "分 　 　\n",
            "か 　 　\n",
            "ら 　 　\n",
            "な 　 　\n",
            "か 　 　\n",
            "っ 　 　\n",
            "た 　 　\n",
            ". 　 　\n",
            ". 　 　\n",
            ". 　 　\n"
          ],
          "name": "stdout"
        }
      ]
    },
    {
      "cell_type": "code",
      "metadata": {
        "id": "Nd2ApDm0yduG",
        "colab_type": "code",
        "colab": {}
      },
      "source": [
        ""
      ],
      "execution_count": 0,
      "outputs": []
    }
  ]
}