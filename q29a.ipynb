{
  "nbformat": 4,
  "nbformat_minor": 0,
  "metadata": {
    "colab": {
      "name": "q29a",
      "provenance": [],
      "collapsed_sections": [],
      "include_colab_link": true
    },
    "kernelspec": {
      "name": "python3",
      "display_name": "Python 3"
    }
  },
  "cells": [
    {
      "cell_type": "markdown",
      "metadata": {
        "id": "view-in-github",
        "colab_type": "text"
      },
      "source": [
        "<a href=\"https://colab.research.google.com/github/maskot1977/PythonCourse2019/blob/master/q29a.ipynb\" target=\"_parent\"><img src=\"https://colab.research.google.com/assets/colab-badge.svg\" alt=\"Open In Colab\"/></a>"
      ]
    },
    {
      "cell_type": "code",
      "metadata": {
        "id": "I46y4mdH-IE8",
        "colab_type": "code",
        "colab": {}
      },
      "source": [
        "import copy\n",
        "def question29(neighbor_matrix):\n",
        "    queue = []\n",
        "    routes = []\n",
        "    k = len(neighbor_matrix) - 1\n",
        "    for j in range(len(neighbor_matrix)):\n",
        "        if neighbor_matrix[0][j] == 1:\n",
        "            if j == k:\n",
        "                routes.append([0, j])\n",
        "            else:\n",
        "                queue.append([0, j])\n",
        "\n",
        "    while len(queue) > 0:\n",
        "        path = queue.pop()\n",
        "        for j in range(len(neighbor_matrix)):\n",
        "            if neighbor_matrix[path[-1]][j] == 1:\n",
        "                path_new = copy.deepcopy(path)\n",
        "                if j not in path_new:\n",
        "                    path_new.append(j)\n",
        "                    if j == k:\n",
        "                        routes.append(path_new)\n",
        "                    else:\n",
        "                        queue.append(path_new)\n",
        "        #print(path, path_new, queue)\n",
        "    return routes"
      ],
      "execution_count": 0,
      "outputs": []
    },
    {
      "cell_type": "code",
      "metadata": {
        "id": "lgH8T0Va9j6T",
        "colab_type": "code",
        "outputId": "62d72040-38e3-4c5d-95ba-6ec67b0786ef",
        "colab": {
          "base_uri": "https://localhost:8080/",
          "height": 34
        }
      },
      "source": [
        "n =  5\n",
        "G = \\\n",
        "[[0, 0, 1, 0, 0],\n",
        " [1, 0, 1, 0, 0],\n",
        " [0, 0, 0, 1, 0],\n",
        " [1, 0, 1, 0, 1],\n",
        " [0, 0, 1, 0, 0]]\n",
        "\n",
        "question29(G)"
      ],
      "execution_count": 2,
      "outputs": [
        {
          "output_type": "execute_result",
          "data": {
            "text/plain": [
              "[[0, 2, 3, 4]]"
            ]
          },
          "metadata": {
            "tags": []
          },
          "execution_count": 2
        }
      ]
    },
    {
      "cell_type": "code",
      "metadata": {
        "id": "yeZFodIxSJEG",
        "colab_type": "code",
        "outputId": "0aa4ed0f-89a3-466a-db91-8b78240eb26a",
        "colab": {
          "base_uri": "https://localhost:8080/",
          "height": 34
        }
      },
      "source": [
        "n =  8\n",
        "G = \\\n",
        "[[0, 1, 0, 0, 0, 0, 0, 0],\n",
        " [0, 0, 0, 1, 1, 0, 0, 0],\n",
        " [0, 0, 0, 0, 0, 1, 0, 0],\n",
        " [0, 0, 0, 0, 0, 0, 1, 0],\n",
        " [0, 0, 0, 0, 0, 0, 0, 1],\n",
        " [0, 1, 0, 0, 1, 0, 0, 0],\n",
        " [0, 1, 0, 0, 0, 0, 0, 1],\n",
        " [0, 0, 0, 0, 0, 0, 0, 0]]\n",
        "\n",
        "question29(G)"
      ],
      "execution_count": 3,
      "outputs": [
        {
          "output_type": "execute_result",
          "data": {
            "text/plain": [
              "[[0, 1, 4, 7], [0, 1, 3, 6, 7]]"
            ]
          },
          "metadata": {
            "tags": []
          },
          "execution_count": 3
        }
      ]
    },
    {
      "cell_type": "code",
      "metadata": {
        "id": "xPzKFbimSMen",
        "colab_type": "code",
        "outputId": "e27ec82e-ad85-47b8-aef5-baa6aa0f3668",
        "colab": {
          "base_uri": "https://localhost:8080/",
          "height": 104
        }
      },
      "source": [
        "n =  8\n",
        "G = \\\n",
        "[[0, 0, 0, 0, 0, 1, 0, 1],\n",
        " [0, 0, 0, 0, 0, 1, 1, 0],\n",
        " [0, 0, 0, 1, 0, 0, 1, 0],\n",
        " [0, 0, 0, 0, 0, 0, 0, 1],\n",
        " [1, 1, 0, 0, 0, 0, 0, 0],\n",
        " [1, 1, 1, 0, 0, 0, 0, 0],\n",
        " [0, 0, 1, 1, 0, 0, 0, 0],\n",
        " [1, 0, 0, 1, 0, 1, 0, 0]]\n",
        "\n",
        "question29(G)"
      ],
      "execution_count": 4,
      "outputs": [
        {
          "output_type": "execute_result",
          "data": {
            "text/plain": [
              "[[0, 7],\n",
              " [0, 5, 2, 6, 3, 7],\n",
              " [0, 5, 2, 3, 7],\n",
              " [0, 5, 1, 6, 3, 7],\n",
              " [0, 5, 1, 6, 2, 3, 7]]"
            ]
          },
          "metadata": {
            "tags": []
          },
          "execution_count": 4
        }
      ]
    },
    {
      "cell_type": "code",
      "metadata": {
        "id": "KeI7znCDSaw_",
        "colab_type": "code",
        "outputId": "71280b82-6585-4bdc-c6a8-413f3fe0c7d6",
        "colab": {
          "base_uri": "https://localhost:8080/",
          "height": 34
        }
      },
      "source": [
        "n =  8\n",
        "G = \\\n",
        "[[0, 0, 0, 0, 1, 0, 0, 0],\n",
        " [0, 0, 0, 0, 0, 0, 1, 0],\n",
        " [1, 0, 0, 0, 0, 1, 1, 1],\n",
        " [0, 0, 0, 0, 0, 0, 0, 0],\n",
        " [0, 0, 0, 1, 0, 0, 0, 0],\n",
        " [0, 0, 0, 0, 0, 0, 1, 1],\n",
        " [1, 0, 0, 1, 0, 0, 0, 0],\n",
        " [0, 0, 1, 0, 1, 0, 1, 0]]\n",
        "\n",
        "question29(G)"
      ],
      "execution_count": 5,
      "outputs": [
        {
          "output_type": "execute_result",
          "data": {
            "text/plain": [
              "[]"
            ]
          },
          "metadata": {
            "tags": []
          },
          "execution_count": 5
        }
      ]
    }
  ]
}