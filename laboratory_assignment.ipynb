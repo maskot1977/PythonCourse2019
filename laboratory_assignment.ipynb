{
  "nbformat": 4,
  "nbformat_minor": 0,
  "metadata": {
    "colab": {
      "name": "laboratory_assignment",
      "provenance": [],
      "authorship_tag": "ABX9TyO0UjPI8yGVX7DD/DLydyQs",
      "include_colab_link": true
    },
    "kernelspec": {
      "name": "python3",
      "display_name": "Python 3"
    }
  },
  "cells": [
    {
      "cell_type": "markdown",
      "metadata": {
        "id": "view-in-github",
        "colab_type": "text"
      },
      "source": [
        "<a href=\"https://colab.research.google.com/github/maskot1977/PythonCourse2019/blob/master/laboratory_assignment.ipynb\" target=\"_parent\"><img src=\"https://colab.research.google.com/assets/colab-badge.svg\" alt=\"Open In Colab\"/></a>"
      ]
    },
    {
      "cell_type": "code",
      "metadata": {
        "id": "PWnxVtZZuXXh",
        "colab_type": "code",
        "colab": {
          "base_uri": "https://localhost:8080/",
          "height": 35
        },
        "outputId": "ca9aebe8-1887-41af-808a-ba52d5970713"
      },
      "source": [
        "# 研究室名\n",
        "labs = list(\"ABCDEFG\")\n",
        "labs"
      ],
      "execution_count": 1,
      "outputs": [
        {
          "output_type": "execute_result",
          "data": {
            "text/plain": [
              "['A', 'B', 'C', 'D', 'E', 'F', 'G']"
            ]
          },
          "metadata": {
            "tags": []
          },
          "execution_count": 1
        }
      ]
    },
    {
      "cell_type": "code",
      "metadata": {
        "id": "2j5I2Mq5ubDK",
        "colab_type": "code",
        "colab": {
          "base_uri": "https://localhost:8080/",
          "height": 35
        },
        "outputId": "f081b9ab-e637-4226-9c84-f4005e8bc06c"
      },
      "source": [
        "# 各研究室の最低配属数\n",
        "min_assign = [2 for x in range(len(labs))]\n",
        "min_assign"
      ],
      "execution_count": 2,
      "outputs": [
        {
          "output_type": "execute_result",
          "data": {
            "text/plain": [
              "[2, 2, 2, 2, 2, 2, 2]"
            ]
          },
          "metadata": {
            "tags": []
          },
          "execution_count": 2
        }
      ]
    },
    {
      "cell_type": "code",
      "metadata": {
        "id": "Y7kTEZ32uj3f",
        "colab_type": "code",
        "colab": {
          "base_uri": "https://localhost:8080/",
          "height": 35
        },
        "outputId": "50bc3e27-29e8-4745-c12d-45b8529494fc"
      },
      "source": [
        "# 各研究室の最大配属数\n",
        "max_assign = [4 for x in range(len(labs))]\n",
        "max_assign"
      ],
      "execution_count": 3,
      "outputs": [
        {
          "output_type": "execute_result",
          "data": {
            "text/plain": [
              "[4, 4, 4, 4, 4, 4, 4]"
            ]
          },
          "metadata": {
            "tags": []
          },
          "execution_count": 3
        }
      ]
    },
    {
      "cell_type": "code",
      "metadata": {
        "id": "pbkwvknPumsI",
        "colab_type": "code",
        "colab": {
          "base_uri": "https://localhost:8080/",
          "height": 35
        },
        "outputId": "77ae946b-56f9-45f9-834e-54f7795c330c"
      },
      "source": [
        "# 学生ID\n",
        "n_students = 20\n",
        "students = [x + 1 for x in range(n_students)]\n",
        "students"
      ],
      "execution_count": 4,
      "outputs": [
        {
          "output_type": "execute_result",
          "data": {
            "text/plain": [
              "[1, 2, 3, 4, 5, 6, 7, 8, 9, 10, 11, 12, 13, 14, 15, 16, 17, 18, 19, 20]"
            ]
          },
          "metadata": {
            "tags": []
          },
          "execution_count": 4
        }
      ]
    },
    {
      "cell_type": "code",
      "metadata": {
        "id": "FrElYDnxuo4k",
        "colab_type": "code",
        "colab": {
          "base_uri": "https://localhost:8080/",
          "height": 35
        },
        "outputId": "feaa2f20-089b-4c97-d4bf-ca098da132de"
      },
      "source": [
        "# 学生の成績順位\n",
        "import random\n",
        "grades = [x + 1 for x in range(n_students)]\n",
        "random.shuffle(grades)\n",
        "grades"
      ],
      "execution_count": 5,
      "outputs": [
        {
          "output_type": "execute_result",
          "data": {
            "text/plain": [
              "[9, 4, 13, 14, 7, 17, 5, 2, 10, 1, 19, 16, 18, 20, 3, 15, 12, 6, 8, 11]"
            ]
          },
          "metadata": {
            "tags": []
          },
          "execution_count": 5
        }
      ]
    },
    {
      "cell_type": "code",
      "metadata": {
        "id": "jf2x3cYHus9Z",
        "colab_type": "code",
        "colab": {
          "base_uri": "https://localhost:8080/",
          "height": 363
        },
        "outputId": "57e53479-be37-45c9-d76e-7a5efb8acd16"
      },
      "source": [
        "# 研究室配属希望順位調査\n",
        "questionnaire = []\n",
        "for x in range(n_students):\n",
        "    hope = [x + 1 for x in range(len(labs))]\n",
        "    random.shuffle(hope)\n",
        "    if x > 0 and random.random() < 0.1: # 希望順位が同じという人も作る\n",
        "        hope = questionnaire[x - 1]\n",
        "    questionnaire.append(hope)\n",
        "questionnaire"
      ],
      "execution_count": 6,
      "outputs": [
        {
          "output_type": "execute_result",
          "data": {
            "text/plain": [
              "[[2, 7, 3, 5, 4, 6, 1],\n",
              " [2, 6, 1, 7, 3, 4, 5],\n",
              " [4, 7, 6, 5, 2, 1, 3],\n",
              " [6, 3, 2, 4, 1, 7, 5],\n",
              " [2, 5, 4, 3, 7, 1, 6],\n",
              " [3, 7, 2, 6, 5, 1, 4],\n",
              " [1, 7, 3, 2, 6, 5, 4],\n",
              " [4, 1, 7, 3, 6, 2, 5],\n",
              " [7, 6, 4, 3, 1, 2, 5],\n",
              " [5, 3, 4, 7, 1, 6, 2],\n",
              " [3, 2, 7, 4, 6, 1, 5],\n",
              " [6, 7, 5, 4, 1, 2, 3],\n",
              " [6, 7, 5, 4, 1, 2, 3],\n",
              " [2, 3, 7, 5, 1, 4, 6],\n",
              " [7, 3, 5, 1, 6, 4, 2],\n",
              " [6, 5, 7, 4, 3, 2, 1],\n",
              " [2, 3, 1, 5, 6, 4, 7],\n",
              " [4, 2, 1, 6, 7, 5, 3],\n",
              " [6, 2, 7, 4, 1, 3, 5],\n",
              " [2, 5, 4, 6, 1, 3, 7]]"
            ]
          },
          "metadata": {
            "tags": []
          },
          "execution_count": 6
        }
      ]
    },
    {
      "cell_type": "code",
      "metadata": {
        "id": "IM0-8G86uw3h",
        "colab_type": "code",
        "colab": {}
      },
      "source": [
        "# ランダムに配属を決める\n",
        "assignment = [[] for x in range(len(labs))]\n",
        "rand_stu = [x for x in range(n_students)]\n",
        "random.shuffle(rand_stu)\n",
        "lab = 0\n",
        "for stu in rand_stu:\n",
        "    assignment[lab % len(labs)].append(stu)\n",
        "    lab += 1"
      ],
      "execution_count": 0,
      "outputs": []
    },
    {
      "cell_type": "code",
      "metadata": {
        "id": "IlPZEHnEu7OH",
        "colab_type": "code",
        "colab": {
          "base_uri": "https://localhost:8080/",
          "height": 138
        },
        "outputId": "a27490f7-7cfc-44f9-f7b9-8681a2db25f0"
      },
      "source": [
        "assignment"
      ],
      "execution_count": 8,
      "outputs": [
        {
          "output_type": "execute_result",
          "data": {
            "text/plain": [
              "[[8, 13, 6],\n",
              " [1, 5, 17],\n",
              " [18, 16, 3],\n",
              " [9, 2, 11],\n",
              " [12, 10, 14],\n",
              " [0, 4, 15],\n",
              " [19, 7]]"
            ]
          },
          "metadata": {
            "tags": []
          },
          "execution_count": 8
        }
      ]
    },
    {
      "cell_type": "code",
      "metadata": {
        "id": "ZqR7qByLxkd_",
        "colab_type": "code",
        "colab": {}
      },
      "source": [
        "def resulted(assignment, questionnaire):\n",
        "    return [[questionnaire[stu][i] for j, stu in enumerate(lab)] for i, lab in enumerate(assignment)]"
      ],
      "execution_count": 0,
      "outputs": []
    },
    {
      "cell_type": "code",
      "metadata": {
        "id": "e1LB50xryxaw",
        "colab_type": "code",
        "colab": {
          "base_uri": "https://localhost:8080/",
          "height": 35
        },
        "outputId": "e931a847-3d03-4b33-b438-2f43474b5ec9"
      },
      "source": [
        "resulted(assignment, questionnaire)"
      ],
      "execution_count": 10,
      "outputs": [
        {
          "output_type": "execute_result",
          "data": {
            "text/plain": [
              "[[7, 2, 1], [6, 7, 2], [7, 1, 2], [7, 5, 4], [1, 6, 6], [6, 1, 2], [7, 5]]"
            ]
          },
          "metadata": {
            "tags": []
          },
          "execution_count": 10
        }
      ]
    },
    {
      "cell_type": "code",
      "metadata": {
        "id": "yyY6foyuu9Xw",
        "colab_type": "code",
        "colab": {}
      },
      "source": [
        "def fuman(assignment, questionnaire):\n",
        "    ary = resulted(assignment, questionnaire)\n",
        "    return sum([sum(x) - len(x) for x in ary])"
      ],
      "execution_count": 0,
      "outputs": []
    },
    {
      "cell_type": "code",
      "metadata": {
        "id": "to1HRKXZvLq0",
        "colab_type": "code",
        "colab": {
          "base_uri": "https://localhost:8080/",
          "height": 35
        },
        "outputId": "2900d065-36b4-4c8b-d86f-a0875a30b314"
      },
      "source": [
        "fuman(assignment, questionnaire)"
      ],
      "execution_count": 12,
      "outputs": [
        {
          "output_type": "execute_result",
          "data": {
            "text/plain": [
              "65"
            ]
          },
          "metadata": {
            "tags": []
          },
          "execution_count": 12
        }
      ]
    },
    {
      "cell_type": "code",
      "metadata": {
        "id": "pZ82SeI3vNqt",
        "colab_type": "code",
        "colab": {}
      },
      "source": [
        "# 成績の良い者から優先的に、希望研究室を決めていく方法（最低配属数を考慮しない）\n",
        "assignment = [[] for x in range(len(labs))]\n",
        "for i in range(len(students)):\n",
        "    stu = grades.index(i + 1) # 成績順位 i 番の学生\n",
        "    que = questionnaire[stu] # 成績順位 i 番の学生の希望順位\n",
        "    for j in range(len(labs)):\n",
        "        lab = que.index(j + 1) # 希望順位 j の研究室\n",
        "        if len(assignment[lab]) < max_assign[lab]:\n",
        "            assignment[lab].append(stu)\n",
        "            break"
      ],
      "execution_count": 0,
      "outputs": []
    },
    {
      "cell_type": "code",
      "metadata": {
        "id": "LspBZ2hpwRrf",
        "colab_type": "code",
        "colab": {
          "base_uri": "https://localhost:8080/",
          "height": 138
        },
        "outputId": "adb2817d-4cd5-406d-fbed-909a24217fd6"
      },
      "source": [
        "assignment"
      ],
      "execution_count": 14,
      "outputs": [
        {
          "output_type": "execute_result",
          "data": {
            "text/plain": [
              "[[6, 13],\n",
              " [7, 10],\n",
              " [1, 17, 16, 3],\n",
              " [14],\n",
              " [9, 18, 8, 19],\n",
              " [4, 2, 11, 5],\n",
              " [0, 15, 12]]"
            ]
          },
          "metadata": {
            "tags": []
          },
          "execution_count": 14
        }
      ]
    },
    {
      "cell_type": "code",
      "metadata": {
        "id": "kLprPDdRzyRH",
        "colab_type": "code",
        "colab": {
          "base_uri": "https://localhost:8080/",
          "height": 35
        },
        "outputId": "1b230062-d3ce-4c24-d5cb-b5b5922980f2"
      },
      "source": [
        "resulted(assignment, questionnaire)"
      ],
      "execution_count": 15,
      "outputs": [
        {
          "output_type": "execute_result",
          "data": {
            "text/plain": [
              "[[1, 2], [1, 2], [1, 1, 1, 2], [1], [1, 1, 1, 1], [1, 1, 2, 1], [1, 1, 3]]"
            ]
          },
          "metadata": {
            "tags": []
          },
          "execution_count": 15
        }
      ]
    },
    {
      "cell_type": "code",
      "metadata": {
        "id": "TsDuc6k6wxtu",
        "colab_type": "code",
        "colab": {
          "base_uri": "https://localhost:8080/",
          "height": 35
        },
        "outputId": "ed98993b-4d9d-470b-c940-da7efadc61bc"
      },
      "source": [
        "fuman(assignment, questionnaire)"
      ],
      "execution_count": 16,
      "outputs": [
        {
          "output_type": "execute_result",
          "data": {
            "text/plain": [
              "6"
            ]
          },
          "metadata": {
            "tags": []
          },
          "execution_count": 16
        }
      ]
    },
    {
      "cell_type": "code",
      "metadata": {
        "id": "Uunlg92twzQU",
        "colab_type": "code",
        "colab": {}
      },
      "source": [
        "# 成績の良い者から優先的に、希望研究室を決めていく方法（まず最低配属数を埋める）\n",
        "assignment = [[] for x in range(len(labs))]\n",
        "assigned_students = []\n",
        "for i in range(len(students)):\n",
        "    stu = grades.index(i + 1) # 成績順位 i 番の学生\n",
        "    que = questionnaire[stu] # 成績順位 i 番の学生の希望順位\n",
        "    for j in range(len(labs)):\n",
        "        lab = que.index(j + 1) # 希望順位 j の研究室\n",
        "        if len(assignment[lab]) < min_assign[lab]:\n",
        "            assignment[lab].append(stu)\n",
        "            assigned_students.append(stu)\n",
        "            break"
      ],
      "execution_count": 0,
      "outputs": []
    },
    {
      "cell_type": "code",
      "metadata": {
        "id": "jm8oApoNw6Xf",
        "colab_type": "code",
        "colab": {
          "base_uri": "https://localhost:8080/",
          "height": 35
        },
        "outputId": "b9e6c3f6-f450-405a-ec04-1f19a583cbd2"
      },
      "source": [
        "assignment"
      ],
      "execution_count": 18,
      "outputs": [
        {
          "output_type": "execute_result",
          "data": {
            "text/plain": [
              "[[6, 19], [7, 16], [1, 17], [14, 3], [9, 18], [4, 8], [0, 2]]"
            ]
          },
          "metadata": {
            "tags": []
          },
          "execution_count": 18
        }
      ]
    },
    {
      "cell_type": "code",
      "metadata": {
        "id": "2Vn9rqW-w8v3",
        "colab_type": "code",
        "colab": {
          "base_uri": "https://localhost:8080/",
          "height": 35
        },
        "outputId": "a98ed8f5-80af-4355-8fc5-d6b7e6e9fe5b"
      },
      "source": [
        "assigned_students"
      ],
      "execution_count": 19,
      "outputs": [
        {
          "output_type": "execute_result",
          "data": {
            "text/plain": [
              "[9, 7, 14, 1, 6, 17, 4, 18, 0, 8, 19, 16, 2, 3]"
            ]
          },
          "metadata": {
            "tags": []
          },
          "execution_count": 19
        }
      ]
    },
    {
      "cell_type": "code",
      "metadata": {
        "id": "dqzqHQmHxO4y",
        "colab_type": "code",
        "colab": {}
      },
      "source": [
        "# 成績の良い者から優先的に、希望研究室を決めていく方法（未配属の学生を割り当てる）\n",
        "for i in range(len(students)):\n",
        "    stu = grades.index(i + 1) # 成績順位 i 番の学生\n",
        "    que = questionnaire[stu] # 成績順位 i 番の学生の希望順位\n",
        "    if stu in assigned_students:\n",
        "        continue\n",
        "    for j in range(len(labs)):\n",
        "        lab = que.index(j + 1) # 希望順位 j の研究室\n",
        "        if len(assignment[lab]) < max_assign[lab]:\n",
        "            assignment[lab].append(stu)\n",
        "            assigned_students.append(stu)\n",
        "            break"
      ],
      "execution_count": 0,
      "outputs": []
    },
    {
      "cell_type": "code",
      "metadata": {
        "id": "2Q6kAYhdxeKp",
        "colab_type": "code",
        "colab": {
          "base_uri": "https://localhost:8080/",
          "height": 138
        },
        "outputId": "8912c909-8376-4c75-cf5d-9e56ce683ede"
      },
      "source": [
        "assignment"
      ],
      "execution_count": 21,
      "outputs": [
        {
          "output_type": "execute_result",
          "data": {
            "text/plain": [
              "[[6, 19, 13],\n",
              " [7, 16],\n",
              " [1, 17],\n",
              " [14, 3],\n",
              " [9, 18, 11, 12],\n",
              " [4, 8, 5, 10],\n",
              " [0, 2, 15]]"
            ]
          },
          "metadata": {
            "tags": []
          },
          "execution_count": 21
        }
      ]
    },
    {
      "cell_type": "code",
      "metadata": {
        "id": "Hsydx66AzhzC",
        "colab_type": "code",
        "colab": {
          "base_uri": "https://localhost:8080/",
          "height": 35
        },
        "outputId": "2d720567-f712-488b-a0a5-7347b7812912"
      },
      "source": [
        "resulted(assignment, questionnaire)"
      ],
      "execution_count": 22,
      "outputs": [
        {
          "output_type": "execute_result",
          "data": {
            "text/plain": [
              "[[1, 2, 2], [1, 3], [1, 1], [1, 4], [1, 1, 1, 1], [1, 2, 1, 1], [1, 3, 1]]"
            ]
          },
          "metadata": {
            "tags": []
          },
          "execution_count": 22
        }
      ]
    },
    {
      "cell_type": "code",
      "metadata": {
        "id": "Sz9uhBfkxfdu",
        "colab_type": "code",
        "colab": {
          "base_uri": "https://localhost:8080/",
          "height": 35
        },
        "outputId": "9ea88a67-ef1b-4ede-934b-20ee9fd8df36"
      },
      "source": [
        "fuman(assignment, questionnaire)"
      ],
      "execution_count": 23,
      "outputs": [
        {
          "output_type": "execute_result",
          "data": {
            "text/plain": [
              "10"
            ]
          },
          "metadata": {
            "tags": []
          },
          "execution_count": 23
        }
      ]
    },
    {
      "cell_type": "code",
      "metadata": {
        "id": "1OXWc7jexrWE",
        "colab_type": "code",
        "colab": {}
      },
      "source": [
        ""
      ],
      "execution_count": 0,
      "outputs": []
    }
  ]
}