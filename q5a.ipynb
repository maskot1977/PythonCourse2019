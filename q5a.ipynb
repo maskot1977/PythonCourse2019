{
  "nbformat": 4,
  "nbformat_minor": 0,
  "metadata": {
    "colab": {
      "name": "q5a",
      "provenance": [],
      "include_colab_link": true
    },
    "kernelspec": {
      "name": "python3",
      "display_name": "Python 3"
    }
  },
  "cells": [
    {
      "cell_type": "markdown",
      "metadata": {
        "id": "view-in-github",
        "colab_type": "text"
      },
      "source": [
        "<a href=\"https://colab.research.google.com/github/maskot1977/PythonCourse2019/blob/master/q5a.ipynb\" target=\"_parent\"><img src=\"https://colab.research.google.com/assets/colab-badge.svg\" alt=\"Open In Colab\"/></a>"
      ]
    },
    {
      "cell_type": "markdown",
      "metadata": {
        "id": "zeBISmnInhpR",
        "colab_type": "text"
      },
      "source": [
        "# プログラミング問題集　問５解答例\n",
        "\n",
        "https://qiita.com/maskot1977/items/85772c1e457c42eea089\n",
        "\n",
        "* 他にも解答例があれば追加の可能性があります。"
      ]
    },
    {
      "cell_type": "code",
      "metadata": {
        "id": "_P78dTK0ne2Q",
        "colab_type": "code",
        "colab": {}
      },
      "source": [
        "import math\n",
        "def question5(tot):\n",
        "    V = [500, 100, 50, 10, 5, 1]\n",
        "    C = [10, 10, 10, 10, 10, 10]\n",
        "\n",
        "    ans = 0\n",
        "    for v, c in zip(V, C):\n",
        "        t = min(math.floor(tot / v), c)\n",
        "        tot -= t * v\n",
        "        print(v, \"円硬貨\", t, \"枚\")\n",
        "        ans += t\n",
        "        if t < 0:\n",
        "            return False\n",
        "        \n",
        "    print(\"残額 \", tot)\n",
        "    \n",
        "    if tot == 0:\n",
        "        return ans\n",
        "    else:\n",
        "        return False\n"
      ],
      "execution_count": 0,
      "outputs": []
    },
    {
      "cell_type": "code",
      "metadata": {
        "id": "NCYWQY1zoe6e",
        "colab_type": "code",
        "outputId": "2441af41-200f-4657-f358-a7af4263a0ca",
        "colab": {
          "base_uri": "https://localhost:8080/",
          "height": 156
        }
      },
      "source": [
        "x = 1672\n",
        "question5(x)"
      ],
      "execution_count": 2,
      "outputs": [
        {
          "output_type": "stream",
          "text": [
            "500 円硬貨 3 枚\n",
            "100 円硬貨 1 枚\n",
            "50 円硬貨 1 枚\n",
            "10 円硬貨 2 枚\n",
            "5 円硬貨 0 枚\n",
            "1 円硬貨 2 枚\n",
            "残額  0\n"
          ],
          "name": "stdout"
        },
        {
          "output_type": "execute_result",
          "data": {
            "text/plain": [
              "9"
            ]
          },
          "metadata": {
            "tags": []
          },
          "execution_count": 2
        }
      ]
    },
    {
      "cell_type": "code",
      "metadata": {
        "id": "LVw7Nyy6ojrE",
        "colab_type": "code",
        "colab": {
          "base_uri": "https://localhost:8080/",
          "height": 156
        },
        "outputId": "51f4713c-9e05-4700-f3e4-0be95998141b"
      },
      "source": [
        "x = 5549\n",
        "question5(x)"
      ],
      "execution_count": 3,
      "outputs": [
        {
          "output_type": "stream",
          "text": [
            "500 円硬貨 10 枚\n",
            "100 円硬貨 5 枚\n",
            "50 円硬貨 0 枚\n",
            "10 円硬貨 4 枚\n",
            "5 円硬貨 1 枚\n",
            "1 円硬貨 4 枚\n",
            "残額  0\n"
          ],
          "name": "stdout"
        },
        {
          "output_type": "execute_result",
          "data": {
            "text/plain": [
              "24"
            ]
          },
          "metadata": {
            "tags": []
          },
          "execution_count": 3
        }
      ]
    },
    {
      "cell_type": "code",
      "metadata": {
        "id": "PK02TK743iQw",
        "colab_type": "code",
        "colab": {
          "base_uri": "https://localhost:8080/",
          "height": 156
        },
        "outputId": "0bf54f17-88a0-432f-a6cd-2b7d187bd6f9"
      },
      "source": [
        "x = 3067\n",
        "question5(x)"
      ],
      "execution_count": 4,
      "outputs": [
        {
          "output_type": "stream",
          "text": [
            "500 円硬貨 6 枚\n",
            "100 円硬貨 0 枚\n",
            "50 円硬貨 1 枚\n",
            "10 円硬貨 1 枚\n",
            "5 円硬貨 1 枚\n",
            "1 円硬貨 2 枚\n",
            "残額  0\n"
          ],
          "name": "stdout"
        },
        {
          "output_type": "execute_result",
          "data": {
            "text/plain": [
              "11"
            ]
          },
          "metadata": {
            "tags": []
          },
          "execution_count": 4
        }
      ]
    },
    {
      "cell_type": "code",
      "metadata": {
        "id": "e2WYYPu63mMK",
        "colab_type": "code",
        "colab": {
          "base_uri": "https://localhost:8080/",
          "height": 156
        },
        "outputId": "01e35412-9a94-416b-946b-c80cecb6b8ee"
      },
      "source": [
        "x = 8802\n",
        "question5(x)"
      ],
      "execution_count": 5,
      "outputs": [
        {
          "output_type": "stream",
          "text": [
            "500 円硬貨 10 枚\n",
            "100 円硬貨 10 枚\n",
            "50 円硬貨 10 枚\n",
            "10 円硬貨 10 枚\n",
            "5 円硬貨 10 枚\n",
            "1 円硬貨 10 枚\n",
            "残額  2142\n"
          ],
          "name": "stdout"
        },
        {
          "output_type": "execute_result",
          "data": {
            "text/plain": [
              "False"
            ]
          },
          "metadata": {
            "tags": []
          },
          "execution_count": 5
        }
      ]
    },
    {
      "cell_type": "code",
      "metadata": {
        "id": "09uZ0S8O3rEX",
        "colab_type": "code",
        "colab": {
          "base_uri": "https://localhost:8080/",
          "height": 52
        },
        "outputId": "c01136ec-f643-45b0-a43d-4878953238c2"
      },
      "source": [
        "x = -124\n",
        "question5(x)"
      ],
      "execution_count": 6,
      "outputs": [
        {
          "output_type": "stream",
          "text": [
            "500 円硬貨 -1 枚\n"
          ],
          "name": "stdout"
        },
        {
          "output_type": "execute_result",
          "data": {
            "text/plain": [
              "False"
            ]
          },
          "metadata": {
            "tags": []
          },
          "execution_count": 6
        }
      ]
    },
    {
      "cell_type": "code",
      "metadata": {
        "id": "7N7Qmu0o3xF6",
        "colab_type": "code",
        "colab": {}
      },
      "source": [
        ""
      ],
      "execution_count": 0,
      "outputs": []
    }
  ]
}