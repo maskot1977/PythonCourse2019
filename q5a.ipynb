{
  "nbformat": 4,
  "nbformat_minor": 0,
  "metadata": {
    "colab": {
      "name": "q5a",
      "provenance": [],
      "include_colab_link": true
    },
    "kernelspec": {
      "name": "python3",
      "display_name": "Python 3"
    }
  },
  "cells": [
    {
      "cell_type": "markdown",
      "metadata": {
        "id": "view-in-github",
        "colab_type": "text"
      },
      "source": [
        "<a href=\"https://colab.research.google.com/github/maskot1977/PythonCourse2019/blob/master/q5a.ipynb\" target=\"_parent\"><img src=\"https://colab.research.google.com/assets/colab-badge.svg\" alt=\"Open In Colab\"/></a>"
      ]
    },
    {
      "cell_type": "markdown",
      "metadata": {
        "id": "zeBISmnInhpR",
        "colab_type": "text"
      },
      "source": [
        "# プログラミング問題集　問５解答例\n",
        "\n",
        "https://qiita.com/maskot1977/items/85772c1e457c42eea089\n",
        "\n",
        "* 他にも解答例があれば追加の可能性があります。"
      ]
    },
    {
      "cell_type": "code",
      "metadata": {
        "id": "LDz2r_trnXCr",
        "colab_type": "code",
        "colab": {}
      },
      "source": [
        "a = 620"
      ],
      "execution_count": 0,
      "outputs": []
    },
    {
      "cell_type": "code",
      "metadata": {
        "id": "_P78dTK0ne2Q",
        "colab_type": "code",
        "colab": {}
      },
      "source": [
        "import math\n",
        "def question5(tot):\n",
        "    V = [500, 100, 50, 10, 5, 1]\n",
        "    C = [10, 10, 10, 10, 10, 10]\n",
        "\n",
        "    ans = 0\n",
        "    for v, c in zip(V, C):\n",
        "        t = min(math.floor(tot / v), c)\n",
        "        tot -= t * v\n",
        "        print(v, \"円硬貨\", t, \"枚\")\n",
        "        ans += t\n",
        "        \n",
        "    print(\"残額 \", tot)\n",
        "    \n",
        "    if tot == 0:\n",
        "        return ans\n",
        "    else:\n",
        "        return False\n"
      ],
      "execution_count": 0,
      "outputs": []
    },
    {
      "cell_type": "code",
      "metadata": {
        "id": "3Yo8ItmLobRK",
        "colab_type": "code",
        "outputId": "a5f8d3cf-42be-42d5-9f34-45d735a08a27",
        "colab": {
          "base_uri": "https://localhost:8080/",
          "height": 179
        }
      },
      "source": [
        "import random\n",
        "tot = random.randint(0, 10000)\n",
        "tot = 100.5\n",
        "print(\"x = \", tot)\n",
        "question5(tot)"
      ],
      "execution_count": 0,
      "outputs": [
        {
          "output_type": "stream",
          "text": [
            "x =  100.5\n",
            "500 円硬貨 0 枚\n",
            "100 円硬貨 1 枚\n",
            "50 円硬貨 0 枚\n",
            "10 円硬貨 0 枚\n",
            "5 円硬貨 0 枚\n",
            "1 円硬貨 0 枚\n",
            "残額  0.5\n"
          ],
          "name": "stdout"
        },
        {
          "output_type": "execute_result",
          "data": {
            "text/plain": [
              "False"
            ]
          },
          "metadata": {
            "tags": []
          },
          "execution_count": 96
        }
      ]
    },
    {
      "cell_type": "code",
      "metadata": {
        "id": "NCYWQY1zoe6e",
        "colab_type": "code",
        "outputId": "688efe9f-c3f2-4911-e169-807e3e951f08",
        "colab": {
          "base_uri": "https://localhost:8080/",
          "height": 35
        }
      },
      "source": [
        "round(100 / 3)"
      ],
      "execution_count": 0,
      "outputs": [
        {
          "output_type": "execute_result",
          "data": {
            "text/plain": [
              "33"
            ]
          },
          "metadata": {
            "tags": []
          },
          "execution_count": 48
        }
      ]
    },
    {
      "cell_type": "code",
      "metadata": {
        "id": "LVw7Nyy6ojrE",
        "colab_type": "code",
        "colab": {}
      },
      "source": [
        ""
      ],
      "execution_count": 0,
      "outputs": []
    }
  ]
}