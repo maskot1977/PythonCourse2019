{
 "cells": [
  {
   "cell_type": "markdown",
   "metadata": {},
   "source": [
    "# 問１：和が m になる取り出し方は存在するか？\n",
    "\n",
    "数字 k<sub>1</sub>, k<sub>2</sub>, ..., k<sub>n</sub> が書かれた n 枚の紙片が袋に入っている。この袋から紙片を取り出し、数字を見て袋に戻すことを４回行う。その４つの数字の和が m になる取り出し方が存在するかどうか計算し、存在すれば True、 存在しなければ False と出力する関数を作成しなさい。\n",
    "\n",
    "ただし、\n",
    "* n &le; 50\n",
    "* 1 &le; m &le; 10<sup>3</sup>\n",
    "* 1 &le; k<sub>i</sub> &le; 10<sup>3</sup> \n",
    "\n",
    "とする。"
   ]
  },
  {
   "cell_type": "code",
   "execution_count": null,
   "metadata": {},
   "outputs": [],
   "source": []
  },
  {
   "cell_type": "markdown",
   "metadata": {},
   "source": [
    "# 問２：三角形は作れるか？\n",
    "\n",
    "様々な長さの n 本の棒がある。棒 i の長さは a<sub>i</sub> とする。その中から３本を取り出し、できるだけ周長の長い三角形を作りたい。そのような三角形が存在するときは、最長の周長を出力し、存在しないときは 0 を出力する関数を作成しなさい。\n",
    "\n",
    "ただし、\n",
    "* 3 &le; n &le; 100\n",
    "* a &le; a<sub>i</sub> &le; 10<sup>3</sup>\n",
    "\n",
    "とする。"
   ]
  },
  {
   "cell_type": "code",
   "execution_count": null,
   "metadata": {},
   "outputs": [],
   "source": []
  },
  {
   "cell_type": "markdown",
   "metadata": {},
   "source": [
    "# 問３：和が m になる取り出し方は存在するか？2\n",
    "\n",
    "問１と問題設定は同じだが、制約条件として \n",
    "* n &le; 10<sup>4</sup>\n",
    "* 1 &le; m &le; 10<sup>3</sup>\n",
    "* 1 &le; k<sub>i</sub> &le; 10<sup>3</sup> \n",
    "\n",
    "とする。"
   ]
  },
  {
   "cell_type": "code",
   "execution_count": null,
   "metadata": {},
   "outputs": [],
   "source": []
  },
  {
   "cell_type": "markdown",
   "metadata": {},
   "source": [
    "# 問４：部分和を m にできるか？\n",
    "\n",
    "n 個の整数 a<sub>1</sub>, a<sub>2</sub>, ..., a<sub>n</sub> を入力した時、その中らいくつか選び、その和が m にできれば True を、できなければ False を返す関数を作りなさい。\n",
    "\n",
    "ただし、\n",
    "\n",
    "* 1 &le; n &le; 20\n",
    "* -10<sup>4</sup> &le; a<sub>i</sub> &le; 10<sup>4</sup>\n",
    "* -10<sup>4</sup> &le; m &le; 10<sup>4</sup>\n",
    "\n",
    "とする。"
   ]
  },
  {
   "cell_type": "code",
   "execution_count": null,
   "metadata": {},
   "outputs": [],
   "source": []
  },
  {
   "cell_type": "markdown",
   "metadata": {},
   "source": [
    "# 問５：迷路の最短経路\n",
    "\n",
    "大きさが X * Y （XYともに整数）の迷路が与えられます。迷路はスタート「S」とゴール「G」、通路「.」と壁「#」からできており、１ターンあたり、隣接する上下左右４マスの通路のいずれかに移動できます。スタートからゴールまで移動可能な場合は、必要な最小のターン数を返し、不可能な場合は False を返す関数を作りなさい。\n",
    "\n",
    "ただし、\n",
    "\n",
    "* X, Y &le; 100\n",
    "\n",
    "とする。\n",
    "\n",
    "入力する迷路の例：\n",
    "\n"
   ]
  },
  {
   "cell_type": "raw",
   "metadata": {},
   "source": [
    "#S####\n",
    "..#...\n",
    ".##.#.\n",
    "....#.\n",
    "####G."
   ]
  },
  {
   "cell_type": "markdown",
   "metadata": {},
   "source": [
    "# 問６：できるだけ少ない枚数の硬貨で支払いたい\n",
    "\n",
    "財布の中に１円玉が n<sub>1</sub> 枚、５円玉が n<sub>2</sub> 枚、１０円玉が n<sub>3</sub> 枚、５０円玉が n<sub>4</sub> 枚、１００円玉が n<sub>5</sub> 枚、５００円玉が n<sub>6</sub> 枚あります。できるだけ少ない枚数の硬貨で、お釣りなしで x 円を支払いたいとき、必要な硬貨の枚数を返す関数を作りなさい。そのような支払い方ができない場合は False を返してください。\n",
    "\n",
    "ただし、\n",
    "\n",
    "* 0 &le; n<sub>1</sub> &le; 100\n",
    "* 0 &le; n<sub>2</sub> &le; 100\n",
    "* 0 &le; n<sub>3</sub> &le; 100\n",
    "* 0 &le; n<sub>4</sub> &le; 100\n",
    "* 0 &le; n<sub>5</sub> &le; 100\n",
    "* 0 &le; n<sub>6</sub> &le; 100\n",
    "* 0 &le; x &le; 10<sup>5</sup>\n",
    "\n",
    "とする。"
   ]
  },
  {
   "cell_type": "code",
   "execution_count": null,
   "metadata": {},
   "outputs": [],
   "source": []
  },
  {
   "cell_type": "markdown",
   "metadata": {},
   "source": [
    "# 問７：ナップサック問題\n",
    "\n",
    "重さが w<sub>i</sub>、価値が v<sub>i</sub> である n 個のアイテムがあります。これらの中から、重さの和が W を超えない範囲内でアイテムを選んだときの、価値の和の最大値を求めなさい。\n",
    "\n",
    "ただし、同じアイテムは１個しか選べないものとし、\n",
    "\n",
    "* 1 &le; n &le; 100\n",
    "* 1 &le; w<sub>i</sub> &le; 100\n",
    "* 1 &le; v<sub>i</sub> &le; 100\n",
    "* 1 &le; W &le; 10<sup>4</sup>\n",
    "\n",
    "とする。"
   ]
  },
  {
   "cell_type": "code",
   "execution_count": null,
   "metadata": {},
   "outputs": [],
   "source": []
  },
  {
   "cell_type": "markdown",
   "metadata": {},
   "source": [
    "# 問８：最長共通部分列\n",
    "\n",
    "長さ n の文字列 s と、長さ m の文字列 t を入力としたとき、その２つの文字列の最長共通部分列の長さを求める関数を作りなさい。\n",
    "\n",
    "ただし、\n",
    "\n",
    "* 1 &le; n &le; 10<sup>4</sup>\n",
    "* 1 &le; m &le; 10<sup>4</sup>\n",
    "\n",
    "とする。"
   ]
  },
  {
   "cell_type": "code",
   "execution_count": null,
   "metadata": {},
   "outputs": [],
   "source": []
  },
  {
   "cell_type": "markdown",
   "metadata": {},
   "source": [
    "# 問９：個数制限なしナップサック問題\n",
    "\n",
    "重さが w<sub>i</sub>、価値が v<sub>i</sub> である n 個のアイテムがあります。これらの中から、重さの和が W を超えない範囲内でアイテムを選んだときの、価値の和の最大値を求めなさい。\n",
    "\n",
    "ただし、同じアイテムをいくつでも選べるものとし、\n",
    "\n",
    "* 1 &le; n &le; 100\n",
    "* 1 &le; w<sub>i</sub> &le; 100\n",
    "* 1 &le; v<sub>i</sub> &le; 100\n",
    "* 1 &le; W &le; 10<sup>4</sup>\n",
    "\n",
    "とする。"
   ]
  },
  {
   "cell_type": "code",
   "execution_count": null,
   "metadata": {},
   "outputs": [],
   "source": []
  },
  {
   "cell_type": "markdown",
   "metadata": {},
   "source": [
    "# 問１０：制約条件の違うナップサック問題\n",
    "\n",
    "重さが w<sub>i</sub>、価値が v<sub>i</sub> である n 個のアイテムがあります。これらの中から、重さの和が W を超えない範囲内でアイテムを選んだときの、価値の和の最大値を求めなさい。\n",
    "\n",
    "ただし、同じアイテムは１個しか選べないものとし、\n",
    "\n",
    "* 1 &le; n &le; 100\n",
    "* 1 &le; w<sub>i</sub> &le; 10<sup>7</sup>\n",
    "* 1 &le; v<sub>i</sub> &le; 100\n",
    "* 1 &le; W &le; 10<sup>9</sup>\n",
    "\n",
    "とする。"
   ]
  },
  {
   "cell_type": "code",
   "execution_count": null,
   "metadata": {},
   "outputs": [],
   "source": []
  },
  {
   "cell_type": "markdown",
   "metadata": {},
   "source": [
    "# 問１１：格子点の個数\n",
    "\n",
    "ユークリッド平面状に２つの格子点 P = (x<sub>1</sub>, y<sub>1</sub>), Q = (x<sub>2</sub>, y<sub>2</sub>) がある。線分 PQ 上には、P, Q 以外にいくつの格子点が存在するか計算する関数を作りなさい。\n",
    "\n",
    "ただし、\n",
    "\n",
    "* -10<sup>6</sup> &le; x<sub>1</sub> &le; 10<sup>6</sup>\n",
    "* -10<sup>6</sup> &le; x<sub>2</sub> &le; 10<sup>6</sup>\n",
    "* -10<sup>6</sup> &le; y<sub>1</sub> &le; 10<sup>6</sup>\n",
    "* -10<sup>6</sup> &le; y<sub>2</sub> &le; 10<sup>6</sup>\n",
    "\n",
    "とする。"
   ]
  },
  {
   "cell_type": "code",
   "execution_count": null,
   "metadata": {},
   "outputs": [],
   "source": []
  },
  {
   "cell_type": "markdown",
   "metadata": {},
   "source": [
    "# 問１２：３歩進んで２歩下がる\n",
    "\n",
    "a, b を整数とする。あるロボットは、a 歩前進、b 歩前進、a 歩後退、b 歩後退の４つの動作しかできない。このとき、現在位置から１歩だけ前進した位置で停止するには、４つの動作をそれぞれ何回行えばよいか答える関数を作りなさい。\n",
    "\n",
    "解が複数存在すれば１つだけ答えればよい。解がなければ False を出力しなさい。\n",
    "\n",
    "ただし、\n",
    "\n",
    "* 1 &le; a &le; 10<sup>6</sup>\n",
    "* 1 &le; b &le; 10<sup>6</sup>\n",
    "\n",
    "とする。"
   ]
  },
  {
   "cell_type": "code",
   "execution_count": null,
   "metadata": {},
   "outputs": [],
   "source": []
  },
  {
   "cell_type": "markdown",
   "metadata": {},
   "source": [
    "# 問１３：その数は素数か\n",
    "\n",
    "整数 n を入力すると、それが素数なら True、素数でなければ False を返す関数を作りなさい。\n",
    "\n",
    "ただし、\n",
    "\n",
    "* 1 &le; n &le; 10<sup>6</sup>\n",
    "\n",
    "とする。"
   ]
  },
  {
   "cell_type": "code",
   "execution_count": null,
   "metadata": {},
   "outputs": [],
   "source": []
  },
  {
   "cell_type": "markdown",
   "metadata": {},
   "source": [
    "# 問１４：素数の個数\n",
    "\n",
    "整数 n を入力すると、n 以下の素数の個数を返す関数を作りなさい。\n",
    "\n",
    "ただし、\n",
    "\n",
    "* 1 &le; n &le; 10<sup>6</sup>\n",
    "\n",
    "とする。"
   ]
  },
  {
   "cell_type": "code",
   "execution_count": null,
   "metadata": {},
   "outputs": [],
   "source": []
  },
  {
   "cell_type": "markdown",
   "metadata": {},
   "source": [
    "# 問１５：区間内の素数の個数\n",
    "\n",
    "２つの整数 a, b を入力すると、区間 [a, b) に存在する素数の個数を返す関数を作りなさい。\n",
    "\n",
    "ただし、区間 [a, b) とは、a &le; x &lt; b となるような整数の集合とし、\n",
    "\n",
    "* b &le; 10<sup>12</sup>\n",
    "* 0 &lt; b - a &le; 10<sup>6</sup>\n",
    "\n",
    "とする。"
   ]
  },
  {
   "cell_type": "code",
   "execution_count": null,
   "metadata": {},
   "outputs": [],
   "source": []
  },
  {
   "cell_type": "markdown",
   "metadata": {},
   "source": [
    "# 問１６：最初に基準を超える者\n",
    "\n",
    "長さ n の単調非減少な数列 a<sub>1</sub>, a<sub>2</sub>, ..., a<sub>n</sub> と、実数 k を入力したとき、a<sub>i</sub> &ge; k となるような最小の i を返す関数を作りなさい。\n",
    "\n",
    "ただし、\n",
    "\n",
    "* 1 &le; n &le; 10<sup>6</sup>\n",
    "* 0 &le; a<sub>1</sub> &le; a<sub>2</sub> &le; ... &le; a<sub>n</sub> &le; 10<sup>9</sup>\n",
    "* 0 &le; k &le; 10<sup>9</sup>\n",
    "\n",
    "とする。"
   ]
  },
  {
   "cell_type": "code",
   "execution_count": null,
   "metadata": {},
   "outputs": [],
   "source": []
  },
  {
   "cell_type": "markdown",
   "metadata": {},
   "source": [
    "# 問１７：同じ長さの紐が k 本欲しい\n",
    "\n",
    "長さ x の紐が k 本欲しい。手元にあるのは、長さが L<sub>i</sub> であるような n 本の紐である。このとき、x の最大値を小数点以下２桁までを切り捨てで出力する関数を作りなさい。\n",
    "\n",
    "ただし、x や L は実数とし、\n",
    "\n",
    "* 1 &le; k &le; 10<sup>4</sup>\n",
    "* 1 &le; n &le; 10<sup>4</sup>\n",
    "* 1 &le; L<sub>i</sub> &le; 10<sup>5</sup>\n",
    "\n",
    "とする。"
   ]
  },
  {
   "cell_type": "code",
   "execution_count": null,
   "metadata": {},
   "outputs": [],
   "source": []
  },
  {
   "cell_type": "markdown",
   "metadata": {},
   "source": [
    "# 問１８：平均値の最大化\n",
    "\n",
    "重さが w<sub>i</sub>、価値が v<sub>i</sub> であるような n 個のアイテムがある。この中から k 個選んだときの、単位重さあたりの価値の最大値を返す関数を作りなさい。\n",
    "\n",
    "ただし、\n",
    "\n",
    "* 1 &le; k &le; n &le; 10<sup>4</sup>\n",
    "* 1 &le; w<sub>i</sub> &le; 10<sup>6</sup>\n",
    "* 1 &le; v<sub>i</sub> &le; 10<sup>6</sup>\n",
    "\n",
    "とする。"
   ]
  },
  {
   "cell_type": "code",
   "execution_count": null,
   "metadata": {},
   "outputs": [],
   "source": []
  },
  {
   "cell_type": "markdown",
   "metadata": {},
   "source": [
    "# 問１９：大きく短い部分列\n",
    "\n",
    "整数 x と、長さ n の数列 a<sub>1</sub>, a<sub>2</sub>, ..., a<sub>n</sub> がある。連続する部分列で、その和が x 以上のもののうち、最小のものの長さを返す関数を作成しなさい。解が存在しない場合は False を返すものとする。\n",
    "\n",
    "ただし、\n",
    "\n",
    "* 0 &lt; x &lt; 10<sup>8</sup>\n",
    "* 10 &lt; n &lt; 10<sup>5</sup>\n",
    "* 0 &lt; a<sub>i</sub> &le; 10<sup>4</sup>\n",
    "\n",
    "とする。"
   ]
  },
  {
   "cell_type": "code",
   "execution_count": null,
   "metadata": {},
   "outputs": [],
   "source": []
  },
  {
   "cell_type": "markdown",
   "metadata": {},
   "source": [
    "# 問２０：４つの数字の和がゼロ\n",
    "\n",
    "４種類の数列 a<sub>i</sub>、b<sub>i</sub>、c<sub>i</sub>、d<sub>i</sub> があり、その要素数 n は全て同じとする。各数列から数字を１つずつ取り出したとき、その和が０となる組み合わせの個数を返す関数を作りなさい。\n",
    "\n",
    "ただし、\n",
    "\n",
    "* -10<sup>6</sup> &le; a<sub>i</sub> &le; 10<sup>6</sup>\n",
    "* -10<sup>6</sup> &le; b<sub>i</sub> &le; 10<sup>6</sup>\n",
    "* -10<sup>6</sup> &le; c<sub>i</sub> &le; 10<sup>6</sup>\n",
    "* -10<sup>6</sup> &le; d<sub>i</sub> &le; 10<sup>6</sup>\n",
    "* 1 &le; n &le; 10<sup>3</sup>\n",
    "\n",
    "とする。"
   ]
  },
  {
   "cell_type": "code",
   "execution_count": null,
   "metadata": {},
   "outputs": [],
   "source": []
  }
 ],
 "metadata": {
  "kernelspec": {
   "display_name": "Python 3",
   "language": "python",
   "name": "python3"
  },
  "language_info": {
   "codemirror_mode": {
    "name": "ipython",
    "version": 3
   },
   "file_extension": ".py",
   "mimetype": "text/x-python",
   "name": "python",
   "nbconvert_exporter": "python",
   "pygments_lexer": "ipython3",
   "version": "3.6.7"
  }
 },
 "nbformat": 4,
 "nbformat_minor": 2
}
