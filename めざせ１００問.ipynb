{
 "cells": [
  {
   "cell_type": "markdown",
   "metadata": {},
   "source": [
    "# 問１：和が m になる取り出し方は存在するか？\n",
    "\n",
    "数字 k<sub>1</sub>, k<sub>2</sub>, ..., k<sub>n</sub> が書かれた n 枚の紙片が袋に入っている。この袋から紙片を取り出し、数字を見て袋に戻すことを４回行う。その４つの数字の和が m になる取り出し方が存在するかどうか計算し、存在すれば True、 存在しなければ False と出力する関数を作成しなさい。\n",
    "\n",
    "ただし、\n",
    "* n &le; 50\n",
    "* 1 &le; m &le; 10<sup>3</sup>\n",
    "* 1 &le; k<sub>i</sub> &le; 10<sup>3</sup> \n",
    "\n",
    "とする。"
   ]
  },
  {
   "cell_type": "code",
   "execution_count": null,
   "metadata": {},
   "outputs": [],
   "source": []
  },
  {
   "cell_type": "markdown",
   "metadata": {},
   "source": [
    "# 問２：三角形は作れるか？\n",
    "\n",
    "様々な長さの n 本の棒がある。棒 i の長さは a<sub>i</sub> とする。その中から３本を取り出し、できるだけ周長の長い三角形を作りたい。そのような三角形が存在するときは、最長の周長を出力し、存在しないときは 0 を出力する関数を作成しなさい。\n",
    "\n",
    "ただし、\n",
    "* 3 &le; n &le; 100\n",
    "* a &le; a<sub>i</sub> &le; 10<sup>6</sup>\n",
    "\n",
    "とする。"
   ]
  },
  {
   "cell_type": "code",
   "execution_count": null,
   "metadata": {},
   "outputs": [],
   "source": []
  },
  {
   "cell_type": "markdown",
   "metadata": {},
   "source": [
    "# 問３：和が m になる取り出し方は存在するか？2\n",
    "\n",
    "問１と問題設定は同じだが、制約条件として \n",
    "* n &le; 10<sup>4</sup>\n",
    "* 1 &le; m &le; 10<sup>3</sup>\n",
    "* 1 &le; k<sub>i</sub> &le; 10<sup>3</sup> \n",
    "\n",
    "とする。"
   ]
  },
  {
   "cell_type": "code",
   "execution_count": null,
   "metadata": {},
   "outputs": [],
   "source": []
  },
  {
   "cell_type": "code",
   "execution_count": null,
   "metadata": {},
   "outputs": [],
   "source": []
  }
 ],
 "metadata": {
  "kernelspec": {
   "display_name": "Python 3",
   "language": "python",
   "name": "python3"
  },
  "language_info": {
   "codemirror_mode": {
    "name": "ipython",
    "version": 3
   },
   "file_extension": ".py",
   "mimetype": "text/x-python",
   "name": "python",
   "nbconvert_exporter": "python",
   "pygments_lexer": "ipython3",
   "version": "3.6.7"
  }
 },
 "nbformat": 4,
 "nbformat_minor": 2
}
