{
 "cells": [
  {
   "cell_type": "markdown",
   "metadata": {},
   "source": [
    "# 問１：和が m になる取り出し方は存在するか？\n",
    "\n",
    "数字 k1, k2, ..., kn が書かれた n 枚の紙片が袋に入っている。\n",
    "この袋から紙片を取り出し、数字を見て袋に戻すことを４回行う。\n",
    "その４つの数字の和が m になる取り出し方が存在するかどうか計算し、\n",
    "存在すれば Yes 存在しなければ No と出力する関数を作成しなさい。\n",
    "\n",
    "ただし、n <= 50, 1 <= m <= 10^8, 1 <= ki <= 10^8 とする。"
   ]
  },
  {
   "cell_type": "code",
   "execution_count": null,
   "metadata": {},
   "outputs": [],
   "source": []
  },
  {
   "cell_type": "markdown",
   "metadata": {},
   "source": [
    "# 問２：三角形は作れるか？\n",
    "\n",
    "様々な長さの n 本の棒がある。棒 i の長さは ai とする。\n",
    "その中から３本を取り出し、できるだけ周長の長い三角形を作りたい。\n",
    "そのような三角形が存在するときは、最長の周長を出力し、\n",
    "存在しないときは 0 を出力する関数を作成しなさい。\n",
    "\n",
    "ただし、3 <= n <= 100, a <= ai <= 10^6 とする。"
   ]
  },
  {
   "cell_type": "code",
   "execution_count": null,
   "metadata": {},
   "outputs": [],
   "source": []
  },
  {
   "cell_type": "markdown",
   "metadata": {},
   "source": [
    "# 問３：和が m になる取り出し方は存在するか？2\n",
    "\n",
    "問１と問題設定は同じだが、制約条件として n <= 1000, 1 <= m <= 10^8, 1 <= ki <= 10^8 とする。"
   ]
  },
  {
   "cell_type": "code",
   "execution_count": null,
   "metadata": {},
   "outputs": [],
   "source": []
  },
  {
   "cell_type": "code",
   "execution_count": null,
   "metadata": {},
   "outputs": [],
   "source": []
  }
 ],
 "metadata": {
  "kernelspec": {
   "display_name": "Python 3",
   "language": "python",
   "name": "python3"
  },
  "language_info": {
   "codemirror_mode": {
    "name": "ipython",
    "version": 3
   },
   "file_extension": ".py",
   "mimetype": "text/x-python",
   "name": "python",
   "nbconvert_exporter": "python",
   "pygments_lexer": "ipython3",
   "version": "3.6.7"
  }
 },
 "nbformat": 4,
 "nbformat_minor": 2
}
