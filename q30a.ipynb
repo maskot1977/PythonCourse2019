{
  "nbformat": 4,
  "nbformat_minor": 0,
  "metadata": {
    "colab": {
      "name": "q30a",
      "provenance": [],
      "collapsed_sections": [],
      "include_colab_link": true
    },
    "kernelspec": {
      "name": "python3",
      "display_name": "Python 3"
    }
  },
  "cells": [
    {
      "cell_type": "markdown",
      "metadata": {
        "id": "view-in-github",
        "colab_type": "text"
      },
      "source": [
        "<a href=\"https://colab.research.google.com/github/maskot1977/PythonCourse2019/blob/master/q30a.ipynb\" target=\"_parent\"><img src=\"https://colab.research.google.com/assets/colab-badge.svg\" alt=\"Open In Colab\"/></a>"
      ]
    },
    {
      "cell_type": "code",
      "metadata": {
        "id": "I46y4mdH-IE8",
        "colab_type": "code",
        "colab": {}
      },
      "source": [
        "import copy\n",
        "def question30(neighbor_matrix):\n",
        "    colors = {}\n",
        "    for i in range(len(neighbor_matrix)):\n",
        "        if i in colors.keys():\n",
        "            continue\n",
        "        colors[i] = 0\n",
        "        queue = []\n",
        "        for j in range(len(neighbor_matrix)):\n",
        "            if neighbor_matrix[i][j] == 1:\n",
        "                colors[j] = 1\n",
        "                queue.append([i, j])\n",
        "\n",
        "        while len(queue) > 0:\n",
        "            path = queue.pop(0)\n",
        "            #print(path)\n",
        "            for j in range(len(neighbor_matrix)):\n",
        "                if neighbor_matrix[path[-1]][j] == 1:\n",
        "                    if j in colors.keys(): #and path[-1] in colors.keys():\n",
        "                        if colors[path[-1]] == colors[j]:\n",
        "                            #print(path[-1], j)\n",
        "                            #print(colors)\n",
        "                            return False\n",
        "                    elif colors[path[-1]] == 1:\n",
        "                        colors[j] = 0\n",
        "                    else:\n",
        "                        colors[j] = 1\n",
        "                    path_new = copy.deepcopy(path)\n",
        "                    if j not in path_new:\n",
        "                        path_new.append(j)\n",
        "                        queue.append(path_new)\n",
        "            #print(path, path_new, queue)\n",
        "    #print(colors)\n",
        "    return True"
      ],
      "execution_count": 0,
      "outputs": []
    },
    {
      "cell_type": "code",
      "metadata": {
        "id": "lgH8T0Va9j6T",
        "colab_type": "code",
        "outputId": "0a7bb716-852c-4166-fb4a-5bab5f65443e",
        "colab": {
          "base_uri": "https://localhost:8080/",
          "height": 34
        }
      },
      "source": [
        "n =  5\n",
        "G = \\\n",
        "[[0, 0, 1, 0, 1],\n",
        " [0, 0, 0, 1, 0],\n",
        " [1, 0, 0, 0, 0],\n",
        " [0, 1, 0, 0, 1],\n",
        " [1, 0, 0, 1, 0]]\n",
        "\n",
        "question30(G)"
      ],
      "execution_count": 2,
      "outputs": [
        {
          "output_type": "execute_result",
          "data": {
            "text/plain": [
              "True"
            ]
          },
          "metadata": {
            "tags": []
          },
          "execution_count": 2
        }
      ]
    },
    {
      "cell_type": "code",
      "metadata": {
        "id": "ygYXmw4i-LY8",
        "colab_type": "code",
        "outputId": "9da79ad4-ca03-49b7-e248-ab8953452ddf",
        "colab": {
          "base_uri": "https://localhost:8080/",
          "height": 34
        }
      },
      "source": [
        "n =  5\n",
        "G = \\\n",
        "[[0, 1, 0, 0, 0],\n",
        " [1, 0, 0, 1, 1],\n",
        " [0, 0, 0, 0, 0],\n",
        " [0, 1, 0, 0, 1],\n",
        " [0, 1, 0, 1, 0]]\n",
        "\n",
        "question30(G)"
      ],
      "execution_count": 3,
      "outputs": [
        {
          "output_type": "execute_result",
          "data": {
            "text/plain": [
              "False"
            ]
          },
          "metadata": {
            "tags": []
          },
          "execution_count": 3
        }
      ]
    },
    {
      "cell_type": "code",
      "metadata": {
        "id": "lVKSHSob-YzT",
        "colab_type": "code",
        "outputId": "36c53d01-d35c-4c43-eed5-08d94fc2b547",
        "colab": {
          "base_uri": "https://localhost:8080/",
          "height": 34
        }
      },
      "source": [
        "n =  8\n",
        "G = \\\n",
        "[[0, 0, 0, 0, 0, 1, 0, 0],\n",
        " [0, 0, 0, 1, 0, 0, 0, 0],\n",
        " [0, 0, 0, 1, 0, 0, 0, 0],\n",
        " [0, 1, 1, 0, 0, 1, 0, 0],\n",
        " [0, 0, 0, 0, 0, 0, 1, 1],\n",
        " [1, 0, 0, 1, 0, 0, 1, 1],\n",
        " [0, 0, 0, 0, 1, 1, 0, 0],\n",
        " [0, 0, 0, 0, 1, 1, 0, 0]]\n",
        "\n",
        "question30(G)"
      ],
      "execution_count": 4,
      "outputs": [
        {
          "output_type": "execute_result",
          "data": {
            "text/plain": [
              "True"
            ]
          },
          "metadata": {
            "tags": []
          },
          "execution_count": 4
        }
      ]
    },
    {
      "cell_type": "code",
      "metadata": {
        "id": "-f_nBdWRjp61",
        "colab_type": "code",
        "outputId": "0280ce33-65a7-413d-cbfe-13032325a28e",
        "colab": {
          "base_uri": "https://localhost:8080/",
          "height": 34
        }
      },
      "source": [
        "n =  8\n",
        "G = \\\n",
        "[[0, 1, 1, 0, 1, 0, 0, 0],\n",
        " [1, 0, 1, 0, 0, 0, 0, 1],\n",
        " [1, 1, 0, 1, 0, 0, 0, 0],\n",
        " [0, 0, 1, 0, 0, 1, 1, 0],\n",
        " [1, 0, 0, 0, 0, 0, 1, 0],\n",
        " [0, 0, 0, 1, 0, 0, 0, 1],\n",
        " [0, 0, 0, 1, 1, 0, 0, 0],\n",
        " [0, 1, 0, 0, 0, 1, 0, 0]]\n",
        "\n",
        "question30(G)"
      ],
      "execution_count": 5,
      "outputs": [
        {
          "output_type": "execute_result",
          "data": {
            "text/plain": [
              "False"
            ]
          },
          "metadata": {
            "tags": []
          },
          "execution_count": 5
        }
      ]
    }
  ]
}