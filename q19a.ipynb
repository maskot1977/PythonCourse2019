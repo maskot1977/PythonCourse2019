{
  "nbformat": 4,
  "nbformat_minor": 0,
  "metadata": {
    "colab": {
      "name": "q19a",
      "provenance": [],
      "collapsed_sections": [],
      "include_colab_link": true
    },
    "kernelspec": {
      "name": "python3",
      "display_name": "Python 3"
    }
  },
  "cells": [
    {
      "cell_type": "markdown",
      "metadata": {
        "id": "view-in-github",
        "colab_type": "text"
      },
      "source": [
        "<a href=\"https://colab.research.google.com/github/maskot1977/PythonCourse2019/blob/master/q19a.ipynb\" target=\"_parent\"><img src=\"https://colab.research.google.com/assets/colab-badge.svg\" alt=\"Open In Colab\"/></a>"
      ]
    },
    {
      "cell_type": "code",
      "metadata": {
        "id": "254A1DnuP7f-",
        "colab_type": "code",
        "colab": {}
      },
      "source": [
        "def question19(s, t):\n",
        "    dp_table = [[0 for _ in range(len(t) + 1)] for _ in range(len(s) + 1)]\n",
        "    for i in range(len(s)):\n",
        "        for j in range(len(t)):\n",
        "            if s[i] == t[j]:\n",
        "                dp_table[i + 1][j + 1] = dp_table[i][j] + 1\n",
        "            else:\n",
        "                dp_table[i + 1][j + 1] = max(dp_table[i][j + 1], dp_table[i + 1][j])\n",
        "    return dp_table[len(s)][len(t)]"
      ],
      "execution_count": 0,
      "outputs": []
    },
    {
      "cell_type": "code",
      "metadata": {
        "id": "FoUrD6wwVXz_",
        "colab_type": "code",
        "outputId": "018106d4-3a72-481e-b590-34488f9f7f6a",
        "colab": {
          "base_uri": "https://localhost:8080/",
          "height": 34
        }
      },
      "source": [
        "s = \"pencil\"\n",
        "t = \"penguin\"\n",
        "question19(s, t)"
      ],
      "execution_count": 0,
      "outputs": [
        {
          "output_type": "execute_result",
          "data": {
            "text/plain": [
              "4"
            ]
          },
          "metadata": {
            "tags": []
          },
          "execution_count": 3
        }
      ]
    },
    {
      "cell_type": "code",
      "metadata": {
        "id": "uuB34lYLUQBX",
        "colab_type": "code",
        "outputId": "9dafd557-2ebe-4c2c-ca9d-325bcf6f9ad8",
        "colab": {
          "base_uri": "https://localhost:8080/",
          "height": 34
        }
      },
      "source": [
        "s = \"dreamingly\"\n",
        "t = \"dreadfully\"\n",
        "question19(s, t)"
      ],
      "execution_count": 0,
      "outputs": [
        {
          "output_type": "execute_result",
          "data": {
            "text/plain": [
              "6"
            ]
          },
          "metadata": {
            "tags": []
          },
          "execution_count": 4
        }
      ]
    },
    {
      "cell_type": "code",
      "metadata": {
        "id": "XVDgROMtUbgk",
        "colab_type": "code",
        "outputId": "d33b732e-c1aa-4ec7-c00d-babc964d961a",
        "colab": {
          "base_uri": "https://localhost:8080/",
          "height": 34
        }
      },
      "source": [
        "s = \"This is a pen. This is an apple.\"\n",
        "t = \"pen-pineapple-apple-pen\"\n",
        "question19(s, t)"
      ],
      "execution_count": 0,
      "outputs": [
        {
          "output_type": "execute_result",
          "data": {
            "text/plain": [
              "10"
            ]
          },
          "metadata": {
            "tags": []
          },
          "execution_count": 5
        }
      ]
    },
    {
      "cell_type": "code",
      "metadata": {
        "id": "MLJfhhA-QoaD",
        "colab_type": "code",
        "outputId": "3edc4499-11c8-4e0f-ee9b-fad816185213",
        "colab": {
          "base_uri": "https://localhost:8080/",
          "height": 34
        }
      },
      "source": [
        "s = \"There is more to life than increasing its speed. \"\\\n",
        "      \"(by Mahatma Gandhi)\"\n",
        "\n",
        "t = \"There is always light behind the clouds. \"\\\n",
        "      \"(by Louisa May Alcott)\"\n",
        "\n",
        "question19(s, t)"
      ],
      "execution_count": 0,
      "outputs": [
        {
          "output_type": "execute_result",
          "data": {
            "text/plain": [
              "31"
            ]
          },
          "metadata": {
            "tags": []
          },
          "execution_count": 6
        }
      ]
    },
    {
      "cell_type": "code",
      "metadata": {
        "id": "1Ch00JT7SMeE",
        "colab_type": "code",
        "outputId": "6d021633-3cd9-4320-9057-2ba5cac8a46e",
        "colab": {
          "base_uri": "https://localhost:8080/",
          "height": 34
        }
      },
      "source": [
        "s = \"If you want to be successful, it's just this simple: \"\\\n",
        "      \"Know what you are doing, love what you are doing, \"\\\n",
        "      \"and believe in what you are doing. \"\\\n",
        "      \"(by Will Rogers)\"\n",
        "\n",
        "t = \"Success is not the key to happiness. \"\\\n",
        "      \"Happiness is the key to success. \"\\\n",
        "      \"If you love what you are doing, \"\\\n",
        "      \"you will be successful. \"\\\n",
        "      \"(by Louisa May Alcott)\"\n",
        "\n",
        "question19(s, t)"
      ],
      "execution_count": 0,
      "outputs": [
        {
          "output_type": "execute_result",
          "data": {
            "text/plain": [
              "71"
            ]
          },
          "metadata": {
            "tags": []
          },
          "execution_count": 7
        }
      ]
    },
    {
      "cell_type": "code",
      "metadata": {
        "id": "dQJ_lzTJTwvN",
        "colab_type": "code",
        "colab": {}
      },
      "source": [
        ""
      ],
      "execution_count": 0,
      "outputs": []
    }
  ]
}