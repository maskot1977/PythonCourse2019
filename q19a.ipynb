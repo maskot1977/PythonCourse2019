{
  "nbformat": 4,
  "nbformat_minor": 0,
  "metadata": {
    "colab": {
      "name": "q19a",
      "provenance": [],
      "collapsed_sections": [],
      "include_colab_link": true
    },
    "kernelspec": {
      "name": "python3",
      "display_name": "Python 3"
    }
  },
  "cells": [
    {
      "cell_type": "markdown",
      "metadata": {
        "id": "view-in-github",
        "colab_type": "text"
      },
      "source": [
        "<a href=\"https://colab.research.google.com/github/maskot1977/PythonCourse2019/blob/master/q19a.ipynb\" target=\"_parent\"><img src=\"https://colab.research.google.com/assets/colab-badge.svg\" alt=\"Open In Colab\"/></a>"
      ]
    },
    {
      "cell_type": "code",
      "metadata": {
        "id": "1BysJRTZPcOr",
        "colab_type": "code",
        "colab": {}
      },
      "source": [
        "n = 4\n",
        "m = 4\n",
        "s = \"abcd\"\n",
        "t = \"becd\""
      ],
      "execution_count": 0,
      "outputs": []
    },
    {
      "cell_type": "code",
      "metadata": {
        "id": "ih2ricBtPl_K",
        "colab_type": "code",
        "colab": {}
      },
      "source": [
        "\n"
      ],
      "execution_count": 0,
      "outputs": []
    },
    {
      "cell_type": "code",
      "metadata": {
        "id": "KuZiwEPLPy0N",
        "colab_type": "code",
        "outputId": "55dec926-857d-41e7-fb52-58b335d5b519",
        "colab": {
          "base_uri": "https://localhost:8080/",
          "height": 107
        }
      },
      "source": [
        "dp_table"
      ],
      "execution_count": 0,
      "outputs": [
        {
          "output_type": "execute_result",
          "data": {
            "text/plain": [
              "[[0, 0, 0, 0, 0],\n",
              " [0, 0, 0, 0, 0],\n",
              " [0, 1, 1, 1, 1],\n",
              " [0, 1, 1, 2, 2],\n",
              " [0, 1, 1, 2, 3]]"
            ]
          },
          "metadata": {
            "tags": []
          },
          "execution_count": 23
        }
      ]
    },
    {
      "cell_type": "code",
      "metadata": {
        "id": "254A1DnuP7f-",
        "colab_type": "code",
        "colab": {}
      },
      "source": [
        "def question(s, t):\n",
        "    dp_table = [[0 for _ in range(len(t) + 1)] for _ in range(len(s) + 1)]\n",
        "    for i in range(len(s)):\n",
        "        for j in range(len(t)):\n",
        "            if s[i] == t[j]:\n",
        "                dp_table[i + 1][j + 1] = dp_table[i][j] + 1\n",
        "            else:\n",
        "                dp_table[i + 1][j + 1] = max(dp_table[i][j + 1], dp_table[i + 1][j])\n",
        "    return dp_table[len(s)][len(t)]"
      ],
      "execution_count": 0,
      "outputs": []
    },
    {
      "cell_type": "code",
      "metadata": {
        "id": "FoUrD6wwVXz_",
        "colab_type": "code",
        "outputId": "29cec4b4-03b3-4f90-9fde-1b17f451674a",
        "colab": {
          "base_uri": "https://localhost:8080/",
          "height": 35
        }
      },
      "source": [
        "s = \"pencil\"\n",
        "t = \"penguin\"\n",
        "question(s, t)"
      ],
      "execution_count": 0,
      "outputs": [
        {
          "output_type": "execute_result",
          "data": {
            "text/plain": [
              "4"
            ]
          },
          "metadata": {
            "tags": []
          },
          "execution_count": 45
        }
      ]
    },
    {
      "cell_type": "code",
      "metadata": {
        "id": "uuB34lYLUQBX",
        "colab_type": "code",
        "outputId": "f1fc82d1-96aa-4356-fa3d-877588cca9d6",
        "colab": {
          "base_uri": "https://localhost:8080/",
          "height": 35
        }
      },
      "source": [
        "s = \"dreamingly\"\n",
        "t = \"dreadfully\"\n",
        "question(s, t)"
      ],
      "execution_count": 0,
      "outputs": [
        {
          "output_type": "execute_result",
          "data": {
            "text/plain": [
              "6"
            ]
          },
          "metadata": {
            "tags": []
          },
          "execution_count": 42
        }
      ]
    },
    {
      "cell_type": "code",
      "metadata": {
        "id": "XVDgROMtUbgk",
        "colab_type": "code",
        "outputId": "e495328d-f060-4fa0-efda-7b1b97e623c8",
        "colab": {
          "base_uri": "https://localhost:8080/",
          "height": 35
        }
      },
      "source": [
        "s = \"This is a pen. This is an apple.\"\n",
        "t = \"pen-pineapple-apple-pen\"\n",
        "question(s, t)"
      ],
      "execution_count": 0,
      "outputs": [
        {
          "output_type": "execute_result",
          "data": {
            "text/plain": [
              "10"
            ]
          },
          "metadata": {
            "tags": []
          },
          "execution_count": 46
        }
      ]
    },
    {
      "cell_type": "code",
      "metadata": {
        "id": "MLJfhhA-QoaD",
        "colab_type": "code",
        "outputId": "e51f090f-ba01-461a-deb2-9865beb8eb9e",
        "colab": {
          "base_uri": "https://localhost:8080/",
          "height": 35
        }
      },
      "source": [
        "s = \"There is more to life than increasing its speed. \"\\\n",
        "      \"(by Mahatma Gandhi)\"\n",
        "\n",
        "t = \"There is always light behind the clouds. \"\\\n",
        "      \"(by Louisa May Alcott)\"\n",
        "\n",
        "question(s, t)"
      ],
      "execution_count": 0,
      "outputs": [
        {
          "output_type": "execute_result",
          "data": {
            "text/plain": [
              "31"
            ]
          },
          "metadata": {
            "tags": []
          },
          "execution_count": 52
        }
      ]
    },
    {
      "cell_type": "code",
      "metadata": {
        "id": "1Ch00JT7SMeE",
        "colab_type": "code",
        "outputId": "1ed37b34-2d78-4708-e917-6cd7663d283d",
        "colab": {
          "base_uri": "https://localhost:8080/",
          "height": 35
        }
      },
      "source": [
        "s = \"If you want to be successful, it's just this simple: \"\\\n",
        "      \"Know what you are doing, love what you are doing, \"\\\n",
        "      \"and believe in what you are doing. \"\\\n",
        "      \"(by Will Rogers)\"\n",
        "\n",
        "t = \"Success is not the key to happiness. \"\\\n",
        "      \"Happiness is the key to success. \"\\\n",
        "      \"If you love what you are doing, \"\\\n",
        "      \"you will be successful. \"\\\n",
        "      \"(by Louisa May Alcott)\"\n",
        "\n",
        "question(s, t)"
      ],
      "execution_count": 0,
      "outputs": [
        {
          "output_type": "execute_result",
          "data": {
            "text/plain": [
              "71"
            ]
          },
          "metadata": {
            "tags": []
          },
          "execution_count": 53
        }
      ]
    },
    {
      "cell_type": "code",
      "metadata": {
        "id": "dQJ_lzTJTwvN",
        "colab_type": "code",
        "colab": {}
      },
      "source": [
        ""
      ],
      "execution_count": 0,
      "outputs": []
    }
  ]
}