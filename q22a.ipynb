{
  "nbformat": 4,
  "nbformat_minor": 0,
  "metadata": {
    "colab": {
      "name": "q22a",
      "provenance": [],
      "collapsed_sections": [],
      "include_colab_link": true
    },
    "kernelspec": {
      "name": "python3",
      "display_name": "Python 3"
    }
  },
  "cells": [
    {
      "cell_type": "markdown",
      "metadata": {
        "id": "view-in-github",
        "colab_type": "text"
      },
      "source": [
        "<a href=\"https://colab.research.google.com/github/maskot1977/PythonCourse2019/blob/master/q22a.ipynb\" target=\"_parent\"><img src=\"https://colab.research.google.com/assets/colab-badge.svg\" alt=\"Open In Colab\"/></a>"
      ]
    },
    {
      "cell_type": "code",
      "metadata": {
        "id": "s174IqWg2GGv",
        "colab_type": "code",
        "colab": {}
      },
      "source": [
        "def dydx(x, y):\n",
        "    return 2 - y / x"
      ],
      "execution_count": 0,
      "outputs": []
    },
    {
      "cell_type": "code",
      "metadata": {
        "id": "PP7Lo71M1-oq",
        "colab_type": "code",
        "colab": {
          "base_uri": "https://localhost:8080/",
          "height": 34
        },
        "outputId": "0904f45b-249c-415f-be87-229b96fced95"
      },
      "source": [
        "x0 = 1\n",
        "y0 = 2\n",
        "xend = 2\n",
        "x = x0\n",
        "y = y0\n",
        "\n",
        "dt = 0.001\n",
        "t = (xend - x0) / dt\n",
        "\n",
        "for i in range(int(t)):\n",
        "    k1 = dt * dydx(x, y)\n",
        "    k2 = dt * dydx(x + dt / 2, y + k1 / 2)\n",
        "    k3 = dt * dydx(x + dt / 2, y + k2 / 2)\n",
        "    k4 = dt * dydx(x + dt, y + k3)\n",
        "    k = (k1 + 2 * k2 + 2 * k3 + k4) / 6\n",
        "    y = y + k\n",
        "    x = x + dt\n",
        "    \n",
        "print(y)"
      ],
      "execution_count": 4,
      "outputs": [
        {
          "output_type": "stream",
          "text": [
            "2.4999999999999565\n"
          ],
          "name": "stdout"
        }
      ]
    },
    {
      "cell_type": "code",
      "metadata": {
        "id": "gmdC9INQ2mWC",
        "colab_type": "code",
        "colab": {}
      },
      "source": [
        ""
      ],
      "execution_count": 0,
      "outputs": []
    }
  ]
}