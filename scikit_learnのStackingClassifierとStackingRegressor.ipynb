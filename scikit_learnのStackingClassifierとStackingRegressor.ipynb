{
  "nbformat": 4,
  "nbformat_minor": 0,
  "metadata": {
    "colab": {
      "name": "scikit-learnのStackingClassifierとStackingRegressor",
      "provenance": [],
      "collapsed_sections": [],
      "authorship_tag": "ABX9TyNAICHGESb14e3oo09zwaDP",
      "include_colab_link": true
    },
    "kernelspec": {
      "name": "python3",
      "display_name": "Python 3"
    }
  },
  "cells": [
    {
      "cell_type": "markdown",
      "metadata": {
        "id": "view-in-github",
        "colab_type": "text"
      },
      "source": [
        "<a href=\"https://colab.research.google.com/github/maskot1977/PythonCourse2019/blob/master/scikit_learn%E3%81%AEStackingClassifier%E3%81%A8StackingRegressor.ipynb\" target=\"_parent\"><img src=\"https://colab.research.google.com/assets/colab-badge.svg\" alt=\"Open In Colab\"/></a>"
      ]
    },
    {
      "cell_type": "markdown",
      "metadata": {
        "id": "-YPf6E0QvlVj",
        "colab_type": "text"
      },
      "source": [
        "複数の機械学習モデルを組み合わせる方法の一つとしてスタッキングがありますが、scikit-learnのStackingClassifierとStackingRegressorを使ってみました。\n",
        "\n",
        "# StackingClassifier\n",
        "\n",
        "分類モデルの性能を確認するため、乳がんデータを使ってみます。"
      ]
    },
    {
      "cell_type": "code",
      "metadata": {
        "id": "KpiPcSB3eGU7",
        "colab_type": "code",
        "colab": {}
      },
      "source": [
        "from sklearn.datasets import load_breast_cancer\n",
        "X, y = load_breast_cancer(return_X_y=True)"
      ],
      "execution_count": 16,
      "outputs": []
    },
    {
      "cell_type": "code",
      "metadata": {
        "id": "vF63mTeAdKi0",
        "colab_type": "code",
        "colab": {}
      },
      "source": [
        "from sklearn.model_selection import train_test_split\n",
        "X_train, X_test, y_train, y_test = train_test_split(X, y, stratify=y)"
      ],
      "execution_count": 50,
      "outputs": []
    },
    {
      "cell_type": "markdown",
      "metadata": {
        "id": "rn36JrCYnc3M",
        "colab_type": "text"
      },
      "source": [
        "ろくなパラメータチューニングもしてないので改良の余地はありますが、とりあえず"
      ]
    },
    {
      "cell_type": "code",
      "metadata": {
        "id": "AXmceZSIxkZo",
        "colab_type": "code",
        "colab": {
          "base_uri": "https://localhost:8080/",
          "height": 35
        },
        "outputId": "4ae15683-a00c-43b9-c318-d5858ff8a7ea"
      },
      "source": [
        "from sklearn.ensemble import RandomForestClassifier\n",
        "from sklearn.pipeline import make_pipeline\n",
        "from sklearn.preprocessing import StandardScaler\n",
        "from sklearn.svm import SVC\n",
        "from sklearn.ensemble import StackingClassifier\n",
        "from sklearn.neural_network import MLPClassifier\n",
        "from sklearn.linear_model import LogisticRegression\n",
        "\n",
        "estimators = [\n",
        "        ('svc', make_pipeline(StandardScaler(), SVC())),\n",
        "        ('rf', RandomForestClassifier()),\n",
        "        ('mlp', MLPClassifier(max_iter=10000))\n",
        "        ]\n",
        "clf = StackingClassifier(\n",
        "    estimators=estimators,\n",
        "    final_estimator=LogisticRegression(max_iter=10000)\n",
        ")\n",
        "clf.fit(X_train, y_train)\n",
        "clf.score(X_test, y_test)"
      ],
      "execution_count": 51,
      "outputs": [
        {
          "output_type": "stream",
          "text": [
            "正解率: 0.972027972027972\n"
          ],
          "name": "stdout"
        }
      ]
    },
    {
      "cell_type": "markdown",
      "metadata": {
        "id": "NbTvN_IrnmK1",
        "colab_type": "text"
      },
      "source": [
        "比較として、単独の分類モデルの正解率を計算してみます。"
      ]
    },
    {
      "cell_type": "code",
      "metadata": {
        "id": "OqFBag9Ex4-I",
        "colab_type": "code",
        "colab": {
          "base_uri": "https://localhost:8080/",
          "height": 35
        },
        "outputId": "22030166-0d9b-4bcf-96b1-de07c44ff9be"
      },
      "source": [
        "make_pipeline(StandardScaler(), SVC()).fit(X_train, y_train).score(X_test, y_test)"
      ],
      "execution_count": 52,
      "outputs": [
        {
          "output_type": "execute_result",
          "data": {
            "text/plain": [
              "0.965034965034965"
            ]
          },
          "metadata": {
            "tags": []
          },
          "execution_count": 52
        }
      ]
    },
    {
      "cell_type": "code",
      "metadata": {
        "id": "UGK1cbqaXh7P",
        "colab_type": "code",
        "colab": {
          "base_uri": "https://localhost:8080/",
          "height": 35
        },
        "outputId": "f067e935-cacc-45fb-9aa5-746712faec99"
      },
      "source": [
        "RandomForestClassifier().fit(X_train, y_train).score(X_test, y_test)"
      ],
      "execution_count": 53,
      "outputs": [
        {
          "output_type": "execute_result",
          "data": {
            "text/plain": [
              "0.951048951048951"
            ]
          },
          "metadata": {
            "tags": []
          },
          "execution_count": 53
        }
      ]
    },
    {
      "cell_type": "code",
      "metadata": {
        "id": "UDV91oPLnvch",
        "colab_type": "code",
        "colab": {
          "base_uri": "https://localhost:8080/",
          "height": 35
        },
        "outputId": "ce435490-5c48-4d8a-b403-ec53b87f6254"
      },
      "source": [
        "MLPClassifier(max_iter=10000).fit(X_train, y_train).score(X_test, y_test)"
      ],
      "execution_count": 54,
      "outputs": [
        {
          "output_type": "execute_result",
          "data": {
            "text/plain": [
              "0.9090909090909091"
            ]
          },
          "metadata": {
            "tags": []
          },
          "execution_count": 54
        }
      ]
    },
    {
      "cell_type": "code",
      "metadata": {
        "id": "ZVuUSiTcprN7",
        "colab_type": "code",
        "colab": {
          "base_uri": "https://localhost:8080/",
          "height": 35
        },
        "outputId": "c405ef61-a5c8-491f-8f3b-805a8f3f6036"
      },
      "source": [
        "LogisticRegression(max_iter=10000).fit(X_train, y_train).score(X_test, y_test)"
      ],
      "execution_count": 55,
      "outputs": [
        {
          "output_type": "execute_result",
          "data": {
            "text/plain": [
              "0.958041958041958"
            ]
          },
          "metadata": {
            "tags": []
          },
          "execution_count": 55
        }
      ]
    },
    {
      "cell_type": "markdown",
      "metadata": {
        "id": "KQ7odhvGr7kl",
        "colab_type": "text"
      },
      "source": [
        "単独で使うよりも、組み合わせた方が良いという結果になりました。\n",
        "\n",
        "ですが、train_test_split から計算し直すと、分割のされ方によっては単独の分類モデルのほうが性能が良くなったりします。性能比較には、ランダムシードを固定せずに、何度も計算を繰り返して、その性能がどのくらい安定なのかを確認した方がいいと思っています。\n",
        "\n",
        "# StackingRegressor\n",
        "\n",
        "回帰モデルの性能を確認するため、糖尿病データを使ってみます。"
      ]
    },
    {
      "cell_type": "code",
      "metadata": {
        "id": "0gUqwYOviEJ_",
        "colab_type": "code",
        "colab": {}
      },
      "source": [
        "from sklearn.datasets import load_diabetes\n",
        "X, y = load_diabetes(return_X_y=True)"
      ],
      "execution_count": 8,
      "outputs": []
    },
    {
      "cell_type": "code",
      "metadata": {
        "id": "X8TOVBDvlwR6",
        "colab_type": "code",
        "colab": {}
      },
      "source": [
        "from sklearn.model_selection import train_test_split\n",
        "X_train, X_test, y_train, y_test = train_test_split(X, y)"
      ],
      "execution_count": 9,
      "outputs": []
    },
    {
      "cell_type": "markdown",
      "metadata": {
        "id": "cO7GUpVUsqtZ",
        "colab_type": "text"
      },
      "source": [
        "こちらも、ろくなパラメータチューニングしてないので改良の余地はありますが、"
      ]
    },
    {
      "cell_type": "code",
      "metadata": {
        "id": "SakJMZ-9lw_x",
        "colab_type": "code",
        "colab": {
          "base_uri": "https://localhost:8080/",
          "height": 35
        },
        "outputId": "3bcbb711-f6fe-46c1-f753-d06abbfd1765"
      },
      "source": [
        "from sklearn.ensemble import RandomForestRegressor\n",
        "from sklearn.pipeline import make_pipeline\n",
        "from sklearn.preprocessing import StandardScaler\n",
        "from sklearn.svm import SVR\n",
        "from sklearn.ensemble import StackingRegressor\n",
        "from sklearn.neural_network import MLPRegressor\n",
        "from sklearn.cross_decomposition import PLSRegression\n",
        "\n",
        "estimators = [\n",
        "        ('svr', make_pipeline(StandardScaler(), SVR())),\n",
        "        ('rf', RandomForestRegressor()),\n",
        "        ('mlp', MLPRegressor(max_iter=10000))\n",
        "        ]\n",
        "clf = StackingRegressor(\n",
        "    estimators=estimators,\n",
        "    final_estimator=PLSRegression(),\n",
        ")\n",
        "clf.fit(X_train, y_train)\n",
        "clf.score(X_test, y_test)"
      ],
      "execution_count": 10,
      "outputs": [
        {
          "output_type": "stream",
          "text": [
            "正解率: 0.4940607294168183\n"
          ],
          "name": "stdout"
        }
      ]
    },
    {
      "cell_type": "markdown",
      "metadata": {
        "id": "5ITbkG2Us90M",
        "colab_type": "text"
      },
      "source": [
        "比較として、単独の回帰モデルののR2値を計算してみます。"
      ]
    },
    {
      "cell_type": "code",
      "metadata": {
        "id": "JrcW112xmAI5",
        "colab_type": "code",
        "colab": {
          "base_uri": "https://localhost:8080/",
          "height": 35
        },
        "outputId": "d14b8b6f-9b06-4625-dd41-3d9394842e54"
      },
      "source": [
        "make_pipeline(StandardScaler(), SVR()).fit(X_train, y_train).score(X_test, y_test)"
      ],
      "execution_count": 11,
      "outputs": [
        {
          "output_type": "execute_result",
          "data": {
            "text/plain": [
              "0.17571936903725216"
            ]
          },
          "metadata": {
            "tags": []
          },
          "execution_count": 11
        }
      ]
    },
    {
      "cell_type": "code",
      "metadata": {
        "id": "Ws1r390UmWll",
        "colab_type": "code",
        "colab": {
          "base_uri": "https://localhost:8080/",
          "height": 35
        },
        "outputId": "a3efb340-ec7a-45d2-f088-8552994cde75"
      },
      "source": [
        "RandomForestRegressor().fit(X_train, y_train).score(X_test, y_test)"
      ],
      "execution_count": 12,
      "outputs": [
        {
          "output_type": "execute_result",
          "data": {
            "text/plain": [
              "0.46261715392586217"
            ]
          },
          "metadata": {
            "tags": []
          },
          "execution_count": 12
        }
      ]
    },
    {
      "cell_type": "code",
      "metadata": {
        "id": "Iai6cHJnmbLh",
        "colab_type": "code",
        "colab": {
          "base_uri": "https://localhost:8080/",
          "height": 35
        },
        "outputId": "6f33ec98-92b9-4930-ba39-3e5fcdbdbc28"
      },
      "source": [
        "MLPRegressor(max_iter=10000).fit(X_train, y_train).score(X_test, y_test)"
      ],
      "execution_count": 13,
      "outputs": [
        {
          "output_type": "execute_result",
          "data": {
            "text/plain": [
              "0.4936782755875562"
            ]
          },
          "metadata": {
            "tags": []
          },
          "execution_count": 13
        }
      ]
    },
    {
      "cell_type": "code",
      "metadata": {
        "id": "PwIHiykqoX81",
        "colab_type": "code",
        "colab": {
          "base_uri": "https://localhost:8080/",
          "height": 35
        },
        "outputId": "c090d3bd-c861-4e6c-ec12-01afc140639c"
      },
      "source": [
        "PLSRegression().fit(X_train, y_train).score(X_test, y_test)"
      ],
      "execution_count": 14,
      "outputs": [
        {
          "output_type": "execute_result",
          "data": {
            "text/plain": [
              "0.4927059150604132"
            ]
          },
          "metadata": {
            "tags": []
          },
          "execution_count": 14
        }
      ]
    },
    {
      "cell_type": "markdown",
      "metadata": {
        "id": "UnvIB9UntEkg",
        "colab_type": "text"
      },
      "source": [
        "こちらも、単独で使うよりも、組み合わせた方が良いという結果になりました。\n",
        "\n",
        "ですが、train_test_split から計算し直すと、分割のされ方によっては単独の回帰モデルのほうが性能が良くなったりします。\n",
        "\n",
        "性能比較には、ランダムシードを固定せずに、何度も計算を繰り返して、その性能がどのくらい安定なのかを確認した方がいいと思っています。"
      ]
    },
    {
      "cell_type": "code",
      "metadata": {
        "id": "IZLy4iI9qjTn",
        "colab_type": "code",
        "colab": {}
      },
      "source": [
        ""
      ],
      "execution_count": 14,
      "outputs": []
    }
  ]
}