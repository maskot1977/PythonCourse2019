{
  "nbformat": 4,
  "nbformat_minor": 0,
  "metadata": {
    "colab": {
      "name": "第41回ケモインフォマティクス若手の回_RDKit_tutorial_ハンズオン資料",
      "provenance": [],
      "collapsed_sections": [],
      "include_colab_link": true
    },
    "kernelspec": {
      "name": "python3",
      "display_name": "Python 3"
    }
  },
  "cells": [
    {
      "cell_type": "markdown",
      "metadata": {
        "id": "view-in-github",
        "colab_type": "text"
      },
      "source": [
        "<a href=\"https://colab.research.google.com/github/maskot1977/PythonCourse2019/blob/master/%E7%AC%AC41%E5%9B%9E%E3%82%B1%E3%83%A2%E3%82%A4%E3%83%B3%E3%83%95%E3%82%A9%E3%83%9E%E3%83%86%E3%82%A3%E3%82%AF%E3%82%B9%E8%8B%A5%E6%89%8B%E3%81%AE%E5%9B%9E_RDKit_tutorial_%E3%83%8F%E3%83%B3%E3%82%BA%E3%82%AA%E3%83%B3%E8%B3%87%E6%96%99.ipynb\" target=\"_parent\"><img src=\"https://colab.research.google.com/assets/colab-badge.svg\" alt=\"Open In Colab\"/></a>"
      ]
    },
    {
      "cell_type": "code",
      "metadata": {
        "id": "lCdjmTrRzyYP"
      },
      "source": [
        "# 1\n",
        "# セル。左の三角や、Shift-Enterなどでセル内のコードを実行する\n",
        "print(\"Hello, world\")"
      ],
      "execution_count": null,
      "outputs": []
    },
    {
      "cell_type": "code",
      "metadata": {
        "id": "9N7DyJa8nM3i",
        "cellView": "code"
      },
      "source": [
        "# 2\n",
        "# rdkitをインストール\n",
        "!curl -Lo rdkit_installer.py https://git.io/fxiPZ\n",
        "import rdkit_installer\n",
        "%time rdkit_installer.install()\n",
        "\n",
        "# 3D表示のためのpy3Dmolをインストール\n",
        "!pip install py3Dmol\n",
        "\n",
        "# 使用するテスト用のsdfをダウンロード\n",
        "!curl -Lo example.sdf https://gist.githubusercontent.com/philopon/e32ac48058f9b96e16f04f65326154b5/raw/c205c8443f4826fe262de5669332076e16b12684/test.sdf\n",
        "# gzip圧縮版もつくる\n",
        "!cat example.sdf | gzip > example.sdf.gz\n",
        "\n",
        "# mordredのインストール\n",
        "!pip install mordred"
      ],
      "execution_count": null,
      "outputs": []
    },
    {
      "cell_type": "code",
      "metadata": {
        "id": "Rg5YhaGVrrtO"
      },
      "source": [
        "# 3\n",
        "# ライブラリをインポート\n",
        "from rdkit import Chem\n",
        "from rdkit.Chem.Draw import IPythonConsole\n",
        "from IPython.display import display"
      ],
      "execution_count": null,
      "outputs": []
    },
    {
      "cell_type": "code",
      "metadata": {
        "id": "0Z71c9P_TJcI"
      },
      "source": [
        "# 4 分子の読み込み\n",
        "benzene = Chem.MolFromSmiles(\"c1ccccc1\")\n",
        "display(benzene)"
      ],
      "execution_count": null,
      "outputs": []
    },
    {
      "cell_type": "code",
      "metadata": {
        "id": "XWzngcrzjApk"
      },
      "source": [
        "# 変な入力が入るとNoneが返る\n",
        "invalid = Chem.MolFromSmiles(\"c1ccccc\")\n",
        "display(invalid)"
      ],
      "execution_count": null,
      "outputs": []
    },
    {
      "cell_type": "code",
      "metadata": {
        "id": "k8fRABgOilOB"
      },
      "source": [
        "# 5 複数分子の読み込み\n",
        "for mol in Chem.SDMolSupplier('example.sdf'):\n",
        "    display(mol)"
      ],
      "execution_count": null,
      "outputs": []
    },
    {
      "cell_type": "code",
      "metadata": {
        "id": "A4xTW3umlIFn"
      },
      "source": [
        "# ForwardSDMolSupplierを使用すれば圧縮したままのファイルなども扱う事ができる\n",
        "import gzip\n",
        "\n",
        "for mol in Chem.ForwardSDMolSupplier(gzip.open('example.sdf.gz')):\n",
        "    display(mol)"
      ],
      "execution_count": null,
      "outputs": []
    },
    {
      "cell_type": "code",
      "metadata": {
        "id": "KqBYbLYSlws9"
      },
      "source": [
        "# 6 分子の書き出し\n",
        "print(Chem.MolToSmiles(benzene))"
      ],
      "execution_count": null,
      "outputs": []
    },
    {
      "cell_type": "code",
      "metadata": {
        "id": "pv7JxPpDmCHV"
      },
      "source": [
        "print(Chem.MolToMolBlock(benzene))"
      ],
      "execution_count": null,
      "outputs": []
    },
    {
      "cell_type": "code",
      "metadata": {
        "id": "SuJdnQCbmQu8"
      },
      "source": [
        "#7 複数分子の書き出し\n",
        "from contextlib import closing\n",
        "\n",
        "with closing(Chem.SDWriter('foo.sdf')) as out:\n",
        "    out.write(benzene)\n",
        "    out.write(Chem.MolFromSmiles(\"CCCCCC\"))"
      ],
      "execution_count": null,
      "outputs": []
    },
    {
      "cell_type": "code",
      "metadata": {
        "id": "1F54rYj5oSEJ"
      },
      "source": [
        "# 8 MolVS: 分子の標準化\n",
        "from rdkit.Chem import MolStandardize\n",
        "\n",
        "mol = Chem.MolFromSmiles('C[S+2]([O-])([O-])O')\n",
        "display(mol)\n",
        "normalizer = MolStandardize.normalize.Normalizer()\n",
        "normalizer.normalize(mol)"
      ],
      "execution_count": null,
      "outputs": []
    },
    {
      "cell_type": "code",
      "metadata": {
        "id": "9l3vuXxlo3Wh"
      },
      "source": [
        "# 9 MolVS: 一番大きいサイズのフラグメントのみ残す\n",
        "mol = Chem.MolFromSmiles(\"O=C(O)CCC.O=C(O)CCCC.O=C(O)CCCCC.O=C(O)CCCC\")\n",
        "display(mol)\n",
        "lfc = MolStandardize.fragment.LargestFragmentChooser()\n",
        "lfc.choose(mol)"
      ],
      "execution_count": null,
      "outputs": []
    },
    {
      "cell_type": "code",
      "metadata": {
        "id": "tQX0Oq-3pdU5"
      },
      "source": [
        "# 10 MolVS: 電荷の中和\n",
        "mol = Chem.MolFromSmiles(\"O=C([O-])CCCC\")\n",
        "display(mol)\n",
        "\n",
        "uc = MolStandardize.charge.Uncharger()\n",
        "mol = uc.uncharge(mol)\n",
        "mol"
      ],
      "execution_count": null,
      "outputs": []
    },
    {
      "cell_type": "code",
      "metadata": {
        "id": "8gxYhsc0sArt"
      },
      "source": [
        "# 11 トートマー列挙\n",
        "mol = Chem.MolFromSmiles(\"OC(C)=C(C)C\")\n",
        "te = MolStandardize.tautomer.TautomerEnumerator()\n",
        "mols = te.enumerate(mol)\n",
        "\n",
        "for mol in mols:\n",
        "    display(mol)"
      ],
      "execution_count": null,
      "outputs": []
    },
    {
      "cell_type": "code",
      "metadata": {
        "id": "FGs49tHSseLj"
      },
      "source": [
        "# 12 トートマーの正規化\n",
        "tc = MolStandardize.tautomer.TautomerCanonicalizer()\n",
        "for mol in mols:\n",
        "    display(tc.canonicalize(mol))"
      ],
      "execution_count": null,
      "outputs": []
    },
    {
      "cell_type": "code",
      "metadata": {
        "id": "lxGYnKKpsasm"
      },
      "source": [
        "# 13 立体構造の立ち上げ\n",
        "from rdkit.Chem import AllChem\n",
        "\n",
        "mol = Chem.AddHs(Chem.MolFromSmiles('OC(C)=C(C)C'))\n",
        "AllChem.EmbedMolecule(mol)\n",
        "IPythonConsole.drawMol3D(mol)"
      ],
      "execution_count": null,
      "outputs": []
    },
    {
      "cell_type": "code",
      "metadata": {
        "id": "vBu4203LXCaM"
      },
      "source": [
        "# m1\n",
        "from mordred.AtomCount import AtomCount\n",
        "\n",
        "carbon_count = AtomCount(\"C\")\n",
        "print(carbon_count)\n",
        "carbon_count(Chem.MolFromSmiles('c1ccccc1C(=O)O'))"
      ],
      "execution_count": null,
      "outputs": []
    },
    {
      "cell_type": "code",
      "metadata": {
        "id": "gHXawAKM28WW"
      },
      "source": [
        "# m2\n",
        "from mordred import Calculator\n",
        "\n",
        "calc = Calculator()\n",
        "calc.register(AtomCount(\"C\"))\n",
        "calc.register(AtomCount(\"O\"))\n",
        "\n",
        "calc(Chem.MolFromSmiles('c1ccccc1C(=O)O')).asdict()"
      ],
      "execution_count": null,
      "outputs": []
    },
    {
      "cell_type": "code",
      "metadata": {
        "id": "eL5fqjOr4_ge"
      },
      "source": [
        "# m3\n",
        "calc = Calculator(AtomCount)\n",
        "\n",
        "calc(Chem.MolFromSmiles('c1ccccc1C(=O)O')).asdict()"
      ],
      "execution_count": null,
      "outputs": []
    },
    {
      "cell_type": "code",
      "metadata": {
        "id": "Bid-Hdco6oLR"
      },
      "source": [
        "# m4\n",
        "from mordred import descriptors\n",
        "\n",
        "calc = Calculator(descriptors)\n",
        "\n",
        "len(calc(Chem.MolFromSmiles('c1ccccc1C(=O)O')))"
      ],
      "execution_count": null,
      "outputs": []
    },
    {
      "cell_type": "code",
      "metadata": {
        "id": "jq1DcdZdCFZP"
      },
      "source": [
        "# m5\n",
        "result = calc.pandas([Chem.MolFromSmiles('c1ccccc1'), Chem.MolFromSmiles('CCCCCC')])\n",
        "result"
      ],
      "execution_count": null,
      "outputs": []
    },
    {
      "cell_type": "code",
      "metadata": {
        "id": "OXTtQ043YC-E"
      },
      "source": [
        "# m6 記述子演算\n",
        "nC = AtomCount(\"C\")\n",
        "nN = AtomCount(\"N\")\n",
        "\n",
        "nCnN = nC * nN\n",
        "mol = Chem.MolFromSmiles(\"c1ccncc1N\")\n",
        "print(nC(mol), nN(mol), nCnN(mol))"
      ],
      "execution_count": null,
      "outputs": []
    },
    {
      "cell_type": "code",
      "metadata": {
        "id": "D_Sc4Cc7K6Mk"
      },
      "source": [
        "# e1 - データのダウンロード\n",
        "!curl -OL https://gist.githubusercontent.com/philopon/7dfae1175aa0788224ecbb961761990e/raw/839010eb0deed2308034f650ef82550f582069e7/test.sdf\n",
        "!curl -OL https://gist.githubusercontent.com/philopon/7dfae1175aa0788224ecbb961761990e/raw/839010eb0deed2308034f650ef82550f582069e7/train.sdf"
      ],
      "execution_count": null,
      "outputs": []
    },
    {
      "cell_type": "code",
      "metadata": {
        "id": "lt0rLN2CLtlm"
      },
      "source": [
        "# e1 - 読み込み\n",
        "train_mols = [mol for mol in Chem.SDMolSupplier('train.sdf', removeHs=False)]\n",
        "train_y = [mol.GetDoubleProp('hERG') for mol in train_mols]\n",
        "\n",
        "# 最大フラグメントの抽出\n",
        "lfc = MolStandardize.fragment.LargestFragmentChooser()\n",
        "train_mols = [lfc(mol) for mol in train_mols]\n",
        "\n",
        "for mol in train_mols:\n",
        "    display(mol)"
      ],
      "execution_count": null,
      "outputs": []
    },
    {
      "cell_type": "code",
      "metadata": {
        "id": "lwHPMH86MMI9"
      },
      "source": [
        "# e1 - 記述子計算\n",
        "calc = Calculator(descriptors)\n",
        "train_descs = calc.pandas(train_mols)"
      ],
      "execution_count": null,
      "outputs": []
    },
    {
      "cell_type": "code",
      "metadata": {
        "id": "4nsjOOE5C-DU"
      },
      "source": [
        "# e1 - 学習\n",
        "from sklearn import pipeline, preprocessing, linear_model\n",
        "\n",
        "model = pipeline.Pipeline([\n",
        "    ('imputer', preprocessing.Imputer()),  # 欠損値を補間\n",
        "    ('scaling', preprocessing.RobustScaler()),  # スケーリング\n",
        "    ('model', linear_model.LassoCV()),  # モデル\n",
        "])\n",
        "model.fit(train_descs.fill_missing(), train_y)"
      ],
      "execution_count": null,
      "outputs": []
    },
    {
      "cell_type": "code",
      "metadata": {
        "id": "H8YDlfuQNhCm"
      },
      "source": [
        "# e1 - テストの読み込み\n",
        "test_mols = [mol for mol in Chem.SDMolSupplier('test.sdf', removeHs=False)]\n",
        "test_y = [mol.GetDoubleProp('hERG') for mol in test_mols]\n",
        "\n",
        "# 最大フラグメントの抽出\n",
        "test_mols = [lfc(mol) for mol in test_mols]\n",
        "\n",
        "for mol in test_mols:\n",
        "    display(mol)"
      ],
      "execution_count": null,
      "outputs": []
    },
    {
      "cell_type": "code",
      "metadata": {
        "id": "cjrhOjblN0s9"
      },
      "source": [
        "# e1 - テストの記述子計算\n",
        "test_descs = calc.pandas(test_mols)"
      ],
      "execution_count": null,
      "outputs": []
    },
    {
      "cell_type": "code",
      "metadata": {
        "id": "AlUBP0joN9IA"
      },
      "source": [
        "# e1 - R2を計算\n",
        "model.score(test_descs.fill_missing(), test_y)"
      ],
      "execution_count": null,
      "outputs": []
    },
    {
      "cell_type": "code",
      "metadata": {
        "id": "W1L5kSGcRsq9"
      },
      "source": [
        "# 比較用のECFP4を使用したモデル\n",
        "from sklearn import feature_selection\n",
        "\n",
        "train_fps = [list(AllChem.GetMorganFingerprintAsBitVect(mol, 4)) for mol in train_mols]\n",
        "test_fps = [list(AllChem.GetMorganFingerprintAsBitVect(mol, 4)) for mol in test_mols]"
      ],
      "execution_count": null,
      "outputs": []
    },
    {
      "cell_type": "code",
      "metadata": {
        "id": "BUJaDT18Rt5D"
      },
      "source": [
        "fp_model = pipeline.Pipeline([\n",
        "    ('threshold', feature_selection.VarianceThreshold()),  # 分散が小さい特徴を除去\n",
        "    ('imputer', preprocessing.Imputer()),  # 欠損値を補間\n",
        "    ('scaling', preprocessing.RobustScaler()),  # スケーリング\n",
        "    ('model', linear_model.LassoCV(max_iter=10000)),  # モデル\n",
        "])\n",
        "\n",
        "fp_model.fit(train_fps, train_y)"
      ],
      "execution_count": null,
      "outputs": []
    },
    {
      "cell_type": "code",
      "metadata": {
        "id": "FcT45bDaRxzP"
      },
      "source": [
        "fp_model.score(test_fps, test_y)"
      ],
      "execution_count": null,
      "outputs": []
    },
    {
      "cell_type": "code",
      "metadata": {
        "id": "Dcl4RxiHiite",
        "cellView": "form"
      },
      "source": [
        "#@title リンク集\n",
        "#@markdown [公式サイト](https://www.rdkit.org)\n",
        "#@markdown [ソース](https://github.com/rdkit/rdkit)\n",
        "#@markdown [ブログ](https://rdkit.blogspot.com)\n",
        "#@markdown [ブログ](https://rdkit.blogspot.com)\n",
        "#@markdown [RDKit Users JPのSlack](https://slackin-ojhaoyxrak.now.sh)\n",
        "#@markdown [RDKit o-cha-kaiのconnpass](https://rdkit-users-jp.connpass.com/)\n",
        "#@markdown [Anaconda](https://www.anaconda.com)\n",
        "#@markdown [Miniconda](https://conda.io/miniconda.html)\n",
        "#@markdown [公式ドキュメント](http://www.rdkit.org/docs/index.html)\n",
        "#@markdown [github releases](https://github.com/rdkit/rdkit/releases)\n",
        "#@markdown [Contrib](https://github.com/rdkit/rdkit/tree/master/Contrib)\n",
        "#@markdown [scikit-learnのドキュメント](https://github.com/rdkit/rdkit/releases)\n"
      ],
      "execution_count": null,
      "outputs": []
    }
  ]
}