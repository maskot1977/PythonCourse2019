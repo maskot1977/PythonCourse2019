{
  "nbformat": 4,
  "nbformat_minor": 0,
  "metadata": {
    "colab": {
      "name": "q16a",
      "provenance": [],
      "collapsed_sections": [],
      "include_colab_link": true
    },
    "kernelspec": {
      "name": "python3",
      "display_name": "Python 3"
    }
  },
  "cells": [
    {
      "cell_type": "markdown",
      "metadata": {
        "id": "view-in-github",
        "colab_type": "text"
      },
      "source": [
        "<a href=\"https://colab.research.google.com/github/maskot1977/PythonCourse2019/blob/master/q16a.ipynb\" target=\"_parent\"><img src=\"https://colab.research.google.com/assets/colab-badge.svg\" alt=\"Open In Colab\"/></a>"
      ]
    },
    {
      "cell_type": "markdown",
      "metadata": {
        "id": "EB1B4B1CQ6vu",
        "colab_type": "text"
      },
      "source": [
        "# ガウスの消去法"
      ]
    },
    {
      "cell_type": "code",
      "metadata": {
        "id": "Wgf0B9E4Vtil",
        "colab_type": "code",
        "outputId": "a19d46ed-8031-4262-df15-a42d83594579",
        "colab": {
          "base_uri": "https://localhost:8080/",
          "height": 34
        }
      },
      "source": [
        "# 参考 https://qiita.com/python_walker/items/878b72a5215ee424c336\n",
        "import numpy as np\n",
        "\n",
        "mat = np.array([\n",
        "                [1., 5., 1., -1.], \n",
        "                [3., 2., 7., 1.], \n",
        "                [4., 1., 3., -2.], \n",
        "                [1., 6., 4., 3.]\n",
        "                ])\n",
        "b = np.array([5., 8., 7., 13.])\n",
        "\n",
        "for i in range(len(mat)-1):\n",
        "    for j in range(i+1, len(mat)):\n",
        "        coef = mat[j][i] / mat[i][i]\n",
        "        mat[j] -= mat[i] * coef\n",
        "        b[j] -= b[i] * coef\n",
        "\n",
        "for i in range(len(mat)-1, 0, -1):\n",
        "    b[i] /= mat[i][i]\n",
        "    mat[i] /= mat[i][i]\n",
        "    for j in range(i):\n",
        "        b[j] -= b[i] * mat[j][i]\n",
        "        mat[j][i] = 0\n",
        "\n",
        "b"
      ],
      "execution_count": 0,
      "outputs": [
        {
          "output_type": "execute_result",
          "data": {
            "text/plain": [
              "array([ 3.5,  1. , -1. ,  2.5])"
            ]
          },
          "metadata": {
            "tags": []
          },
          "execution_count": 59
        }
      ]
    },
    {
      "cell_type": "markdown",
      "metadata": {
        "id": "aoAmgBSOY8Be",
        "colab_type": "text"
      },
      "source": [
        "# 掃き出し法"
      ]
    },
    {
      "cell_type": "code",
      "metadata": {
        "id": "D2XoFm1QXccC",
        "colab_type": "code",
        "outputId": "15ca7d0c-0f12-4553-b7a8-fe035a1444dc",
        "colab": {
          "base_uri": "https://localhost:8080/",
          "height": 34
        }
      },
      "source": [
        "# 参考 http://d.hatena.ne.jp/aldente39/20110806/1312608456\n",
        "\n",
        "matrix = np.array([\n",
        "    [3.0, 2, 7, 1,8],\n",
        "    [1, 5, 1, -1,5],\n",
        "    [4, 1, 3, -2,7],\n",
        "    [1, 6, 4, 3,13]\n",
        "])\n",
        "\n",
        "dim=matrix.shape[0]\n",
        "for i in range(dim):\n",
        "    num = matrix[i][i]\n",
        "    for j in range(dim + 1):\n",
        "        matrix[i][j] = matrix[i][j] / num\n",
        "    for j in range(dim):\n",
        "        if i == j:\n",
        "            pass\n",
        "        else:\n",
        "            a = matrix[j][i]\n",
        "            for k in range(i, dim + 1):\n",
        "                matrix[j][k] = matrix[j][k]- a * matrix[i][k]\n",
        "matrix[:,dim]"
      ],
      "execution_count": 0,
      "outputs": [
        {
          "output_type": "execute_result",
          "data": {
            "text/plain": [
              "array([ 3.5,  1. , -1. ,  2.5])"
            ]
          },
          "metadata": {
            "tags": []
          },
          "execution_count": 58
        }
      ]
    },
    {
      "cell_type": "markdown",
      "metadata": {
        "id": "QWeNl65EbqXF",
        "colab_type": "text"
      },
      "source": [
        "# 共役勾配法"
      ]
    },
    {
      "cell_type": "code",
      "metadata": {
        "id": "ZhD3hp6rYlbe",
        "colab_type": "code",
        "outputId": "90eeebd5-f36e-475c-cac3-546ba2c623fd",
        "colab": {
          "base_uri": "https://localhost:8080/",
          "height": 86
        }
      },
      "source": [
        "# 参考 https://qiita.com/Dason08/items/4ee5ab1684421f0b6ec9\n",
        "\n",
        "def solve_CG(A,b,k):\n",
        "    alpha = 0\n",
        "    x = np.array([[0],[0],[0],[0]])\n",
        "    m = A.T * (A*x-b)\n",
        "    t = -(np.tensordot(m,A.T*(A*x-b)))/(np.tensordot(m,A.T*A*m))\n",
        "    x = x + t*m\n",
        "\n",
        "    for i in range(k):\n",
        "        alpha = - (np.tensordot(m,A.T * A * A.T*(A*x-b)))/(np.tensordot(m, A.T*A*m))\n",
        "        m = A.T * (A*x-b) + alpha*m\n",
        "        t = -(np.tensordot(m,A.T*(A*x-b)))/(np.tensordot(m,A.T*A*m))\n",
        "        x = x + t*m\n",
        "\n",
        "    return x\n",
        "\n",
        "A = np.matrix([[3,2,7,1],[1,5,1,-1],[4,1,3,-2],[1,6,4,3]])\n",
        "b = np.array([[8],[5],[7],[13]])\n",
        "solve_CG(A,b,3) "
      ],
      "execution_count": 0,
      "outputs": [
        {
          "output_type": "execute_result",
          "data": {
            "text/plain": [
              "matrix([[ 3.5],\n",
              "        [ 1. ],\n",
              "        [-1. ],\n",
              "        [ 2.5]])"
            ]
          },
          "metadata": {
            "tags": []
          },
          "execution_count": 57
        }
      ]
    },
    {
      "cell_type": "code",
      "metadata": {
        "id": "QL6REoNgb9FL",
        "colab_type": "code",
        "colab": {}
      },
      "source": [
        ""
      ],
      "execution_count": 0,
      "outputs": []
    }
  ]
}