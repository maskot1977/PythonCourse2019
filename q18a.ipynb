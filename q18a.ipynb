{
  "nbformat": 4,
  "nbformat_minor": 0,
  "metadata": {
    "colab": {
      "name": "q18a",
      "provenance": [],
      "include_colab_link": true
    },
    "kernelspec": {
      "name": "python3",
      "display_name": "Python 3"
    }
  },
  "cells": [
    {
      "cell_type": "markdown",
      "metadata": {
        "id": "view-in-github",
        "colab_type": "text"
      },
      "source": [
        "<a href=\"https://colab.research.google.com/github/maskot1977/PythonCourse2019/blob/master/q18a.ipynb\" target=\"_parent\"><img src=\"https://colab.research.google.com/assets/colab-badge.svg\" alt=\"Open In Colab\"/></a>"
      ]
    },
    {
      "cell_type": "markdown",
      "metadata": {
        "id": "bSlj2q_xkHL8",
        "colab_type": "text"
      },
      "source": [
        "# ナップザック問題 解法１"
      ]
    },
    {
      "cell_type": "code",
      "metadata": {
        "id": "Mkf3Kcizhgxz",
        "colab_type": "code",
        "colab": {}
      },
      "source": [
        "# 全n個の品物のうち、i番目以降の品物から、重さの総和が j 以下になるように選ぶ\n",
        "def question18(i, j):\n",
        "    if i == n:\n",
        "        return 0\n",
        "    elif j < W[i]:\n",
        "        return question18(i + 1, j)\n",
        "    else:\n",
        "        return max(question18(i + 1, j), question18(i + 1, j - W[i]) + V[i])"
      ],
      "execution_count": 0,
      "outputs": []
    },
    {
      "cell_type": "code",
      "metadata": {
        "id": "QpoKmoQZjCLE",
        "colab_type": "code",
        "outputId": "508d34ac-d0cc-48db-89f8-918c2932c7e6",
        "colab": {
          "base_uri": "https://localhost:8080/",
          "height": 34
        }
      },
      "source": [
        "n =  5\n",
        "x =  175\n",
        "W =  [95, 56, 65, 54, 32]\n",
        "V =  [79, 9, 57, 55, 27]\n",
        "\n",
        "question18(0, x)"
      ],
      "execution_count": 2,
      "outputs": [
        {
          "output_type": "execute_result",
          "data": {
            "text/plain": [
              "139"
            ]
          },
          "metadata": {
            "tags": []
          },
          "execution_count": 2
        }
      ]
    },
    {
      "cell_type": "code",
      "metadata": {
        "id": "WJS_61y3jjN3",
        "colab_type": "code",
        "outputId": "dc877bfe-4b4e-4865-a788-c725bb2725df",
        "colab": {
          "base_uri": "https://localhost:8080/",
          "height": 34
        }
      },
      "source": [
        "n =  10\n",
        "x =  492\n",
        "W =  [53, 64, 82, 93, 76, 67, 10, 6, 82, 91]\n",
        "V =  [80, 16, 30, 68, 31, 19, 50, 64, 20, 96]\n",
        "\n",
        "question18(0, x)"
      ],
      "execution_count": 3,
      "outputs": [
        {
          "output_type": "execute_result",
          "data": {
            "text/plain": [
              "438"
            ]
          },
          "metadata": {
            "tags": []
          },
          "execution_count": 3
        }
      ]
    },
    {
      "cell_type": "code",
      "metadata": {
        "id": "64Z8z7ZLjwCR",
        "colab_type": "code",
        "outputId": "0eea1e4d-79c8-4a2f-881a-2bd16699b05a",
        "colab": {
          "base_uri": "https://localhost:8080/",
          "height": 34
        }
      },
      "source": [
        "n =  20\n",
        "x =  1371\n",
        "W =  [30, 31, 100, 83, 52, 97, 34, 70, 96, 13, 70, 89, 79, 51, 31, 93, 73, 10, 77, 31]\n",
        "V =  [31, 58, 49, 75, 1, 57, 8, 1, 35, 22, 82, 28, 61, 46, 68, 10, 32, 84, 19, 16]\n",
        "\n",
        "question18(0, x)"
      ],
      "execution_count": 4,
      "outputs": [
        {
          "output_type": "execute_result",
          "data": {
            "text/plain": [
              "783"
            ]
          },
          "metadata": {
            "tags": []
          },
          "execution_count": 4
        }
      ]
    },
    {
      "cell_type": "code",
      "metadata": {
        "id": "l_pntfM2jzi6",
        "colab_type": "code",
        "colab": {}
      },
      "source": [
        "n =  40\n",
        "x =  2250\n",
        "W =  [96, 64, 21, 86, 49, 72, 4, 90, 91, 91, 43, 95, 89, 23, 38, 58, 29, 43, 27, 3, 47, 29, 5, 90, 46, 100, 94, 56, 49, 62, 46, 51, 41, 28, 47, 61, 28, 100, 91, 80]\n",
        "V =  [74, 83, 57, 64, 63, 58, 100, 59, 66, 66, 85, 55, 86, 25, 41, 64, 26, 1, 87, 88, 73, 98, 57, 63, 31, 69, 21, 79, 96, 13, 2, 50, 89, 10, 11, 93, 45, 31, 15, 67]\n",
        "\n",
        "# question18(0, x)"
      ],
      "execution_count": 0,
      "outputs": []
    },
    {
      "cell_type": "markdown",
      "metadata": {
        "id": "zKVXqlx6kOPP",
        "colab_type": "text"
      },
      "source": [
        "n = 40 になってくると、そろそろ計算時間的に無理になる"
      ]
    },
    {
      "cell_type": "markdown",
      "metadata": {
        "id": "Pp4ZE8I6kdMj",
        "colab_type": "text"
      },
      "source": [
        "# 解法２"
      ]
    },
    {
      "cell_type": "code",
      "metadata": {
        "id": "aCXzzKlyj7px",
        "colab_type": "code",
        "colab": {}
      },
      "source": [
        "dp_table = [[-1 for _ in range(x + 1)] for _ in range(len(W) + 1)]\n",
        "def question18(i, j):\n",
        "    if dp_table[i][j] >= 0:\n",
        "        return dp_table[i][j]\n",
        "    elif i == n:\n",
        "        ret = 0\n",
        "    elif j < W[i]:\n",
        "        ret = question18(i + 1, j)\n",
        "    else:\n",
        "        ret = max(question18(i + 1, j), question18(i + 1, j - W[i]) + V[i])\n",
        "\n",
        "    dp_table[i][j] = ret\n",
        "    return ret"
      ],
      "execution_count": 0,
      "outputs": []
    },
    {
      "cell_type": "code",
      "metadata": {
        "id": "bULMRA4BlD5A",
        "colab_type": "code",
        "colab": {
          "base_uri": "https://localhost:8080/",
          "height": 34
        },
        "outputId": "725a98d9-67b3-4e4b-e602-b09891ee8c8f"
      },
      "source": [
        "n =  5\n",
        "x =  175\n",
        "W =  [95, 56, 65, 54, 32]\n",
        "V =  [79, 9, 57, 55, 27]\n",
        "\n",
        "dp_table = [[-1 for _ in range(x + 1)] for _ in range(len(W) + 1)]\n",
        "question18(0, x)"
      ],
      "execution_count": 7,
      "outputs": [
        {
          "output_type": "execute_result",
          "data": {
            "text/plain": [
              "139"
            ]
          },
          "metadata": {
            "tags": []
          },
          "execution_count": 7
        }
      ]
    },
    {
      "cell_type": "code",
      "metadata": {
        "id": "Rtvh3891moR6",
        "colab_type": "code",
        "colab": {
          "base_uri": "https://localhost:8080/",
          "height": 34
        },
        "outputId": "ea10b811-c169-4a03-97aa-1252b5c83b09"
      },
      "source": [
        "n =  10\n",
        "x =  492\n",
        "W =  [53, 64, 82, 93, 76, 67, 10, 6, 82, 91]\n",
        "V =  [80, 16, 30, 68, 31, 19, 50, 64, 20, 96]\n",
        "\n",
        "dp_table = [[-1 for _ in range(x + 1)] for _ in range(len(W) + 1)]\n",
        "question18(0, x)"
      ],
      "execution_count": 8,
      "outputs": [
        {
          "output_type": "execute_result",
          "data": {
            "text/plain": [
              "438"
            ]
          },
          "metadata": {
            "tags": []
          },
          "execution_count": 8
        }
      ]
    },
    {
      "cell_type": "code",
      "metadata": {
        "id": "hGX9sBDwmu_k",
        "colab_type": "code",
        "colab": {
          "base_uri": "https://localhost:8080/",
          "height": 34
        },
        "outputId": "8a0bd5ba-1ced-4727-cc19-bdcbaeff22ac"
      },
      "source": [
        "n =  20\n",
        "x =  1371\n",
        "W =  [30, 31, 100, 83, 52, 97, 34, 70, 96, 13, 70, 89, 79, 51, 31, 93, 73, 10, 77, 31]\n",
        "V =  [31, 58, 49, 75, 1, 57, 8, 1, 35, 22, 82, 28, 61, 46, 68, 10, 32, 84, 19, 16]\n",
        "\n",
        "dp_table = [[-1 for _ in range(x + 1)] for _ in range(len(W) + 1)]\n",
        "question18(0, x)"
      ],
      "execution_count": 9,
      "outputs": [
        {
          "output_type": "execute_result",
          "data": {
            "text/plain": [
              "783"
            ]
          },
          "metadata": {
            "tags": []
          },
          "execution_count": 9
        }
      ]
    },
    {
      "cell_type": "code",
      "metadata": {
        "id": "4LeSt6ggmwfh",
        "colab_type": "code",
        "colab": {
          "base_uri": "https://localhost:8080/",
          "height": 34
        },
        "outputId": "1f7a1f47-3226-489e-f5f4-d88f46db1be4"
      },
      "source": [
        "n =  40\n",
        "x =  2250\n",
        "W =  [96, 64, 21, 86, 49, 72, 4, 90, 91, 91, 43, 95, 89, 23, 38, 58, 29, 43, 27, 3, 47, 29, 5, 90, 46, 100, 94, 56, 49, 62, 46, 51, 41, 28, 47, 61, 28, 100, 91, 80]\n",
        "V =  [74, 83, 57, 64, 63, 58, 100, 59, 66, 66, 85, 55, 86, 25, 41, 64, 26, 1, 87, 88, 73, 98, 57, 63, 31, 69, 21, 79, 96, 13, 2, 50, 89, 10, 11, 93, 45, 31, 15, 67]\n",
        "\n",
        "dp_table = [[-1 for _ in range(x + 1)] for _ in range(len(W) + 1)]\n",
        "question18(0, x)"
      ],
      "execution_count": 11,
      "outputs": [
        {
          "output_type": "execute_result",
          "data": {
            "text/plain": [
              "2260"
            ]
          },
          "metadata": {
            "tags": []
          },
          "execution_count": 11
        }
      ]
    },
    {
      "cell_type": "code",
      "metadata": {
        "id": "YKorC8qAnhMI",
        "colab_type": "code",
        "colab": {
          "base_uri": "https://localhost:8080/",
          "height": 34
        },
        "outputId": "efd74d4a-37ed-4bd9-b3c9-84a543fd8cfb"
      },
      "source": [
        "n =  80\n",
        "x =  2685\n",
        "W =  [7, 32, 92, 96, 96, 77, 49, 84, 80, 22, 14, 87, 4, 61, 27, 90, 23, 98, 59, 80, 25, 45, 14, 46, 41, 72, 86, 40, 27, 97, 96, 52, 86, 85, 55, 48, 92, 69, 57, 89, 2, 63, 20, 80, 98, 85, 31, 86, 65, 87, 94, 27, 95, 43, 27, 24, 65, 9, 81, 53, 36, 43, 14, 98, 85, 9, 66, 45, 49, 10, 68, 19, 5, 61, 53, 76, 75, 75, 55, 36]\n",
        "V =  [71, 6, 45, 90, 41, 89, 5, 57, 19, 78, 79, 100, 9, 45, 84, 41, 90, 18, 100, 34, 60, 6, 7, 82, 64, 40, 17, 44, 85, 94, 33, 90, 36, 50, 46, 66, 6, 57, 36, 4, 15, 50, 23, 94, 99, 26, 33, 95, 16, 45, 6, 93, 37, 89, 13, 52, 4, 92, 86, 10, 41, 12, 85, 43, 98, 92, 57, 38, 75, 61, 66, 1, 74, 61, 91, 33, 35, 96, 13, 17]\n",
        "\n",
        "dp_table = [[-1 for _ in range(x + 1)] for _ in range(len(W) + 1)]\n",
        "question18(0, x)"
      ],
      "execution_count": 12,
      "outputs": [
        {
          "output_type": "execute_result",
          "data": {
            "text/plain": [
              "3594"
            ]
          },
          "metadata": {
            "tags": []
          },
          "execution_count": 12
        }
      ]
    },
    {
      "cell_type": "code",
      "metadata": {
        "id": "0LiJDE2LoLqv",
        "colab_type": "code",
        "colab": {
          "base_uri": "https://localhost:8080/",
          "height": 34
        },
        "outputId": "6f4f3f25-7f03-432c-a62a-5830aaae387c"
      },
      "source": [
        "n =  100\n",
        "x =  1913\n",
        "W =  [17, 22, 91, 12, 12, 76, 56, 86, 63, 42, 26, 15, 8, 11, 99, 60, 30, 90, 35, 92, 10, 49, 39, 58, 60, 80, 28, 9, 47, 43, 87, 55, 54, 46, 33, 50, 67, 52, 2, 51, 6, 50, 1, 83, 64, 58, 47, 63, 99, 6, 65, 17, 11, 99, 94, 23, 75, 8, 87, 44, 40, 53, 60, 69, 2, 74, 73, 44, 77, 21, 30, 51, 50, 63, 64, 21, 72, 6, 28, 19, 78, 38, 71, 68, 84, 92, 60, 34, 63, 17, 86, 22, 79, 48, 98, 40, 39, 41, 72, 30]\n",
        "V =  [47, 44, 4, 11, 94, 44, 20, 2, 61, 59, 31, 20, 87, 18, 16, 79, 2, 2, 58, 31, 67, 35, 19, 39, 30, 15, 63, 31, 70, 13, 35, 50, 20, 18, 6, 8, 49, 13, 44, 60, 65, 5, 51, 15, 84, 74, 50, 34, 35, 91, 97, 18, 54, 27, 3, 29, 86, 44, 74, 94, 85, 75, 92, 66, 83, 34, 63, 74, 8, 62, 25, 68, 45, 59, 28, 54, 75, 98, 8, 35, 98, 42, 22, 51, 48, 43, 29, 73, 68, 41, 78, 62, 61, 4, 44, 91, 10, 35, 22, 51]\n",
        "\n",
        "dp_table = [[-1 for _ in range(x + 1)] for _ in range(len(W) + 1)]\n",
        "question18(0, x)"
      ],
      "execution_count": 13,
      "outputs": [
        {
          "output_type": "execute_result",
          "data": {
            "text/plain": [
              "3388"
            ]
          },
          "metadata": {
            "tags": []
          },
          "execution_count": 13
        }
      ]
    },
    {
      "cell_type": "code",
      "metadata": {
        "id": "fpFquEl-oQzp",
        "colab_type": "code",
        "colab": {}
      },
      "source": [
        ""
      ],
      "execution_count": 0,
      "outputs": []
    }
  ]
}