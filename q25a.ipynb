{
  "nbformat": 4,
  "nbformat_minor": 0,
  "metadata": {
    "colab": {
      "name": "q25a",
      "provenance": [],
      "collapsed_sections": [],
      "include_colab_link": true
    },
    "kernelspec": {
      "name": "python3",
      "display_name": "Python 3"
    }
  },
  "cells": [
    {
      "cell_type": "markdown",
      "metadata": {
        "id": "view-in-github",
        "colab_type": "text"
      },
      "source": [
        "<a href=\"https://colab.research.google.com/github/maskot1977/PythonCourse2019/blob/master/q25a.ipynb\" target=\"_parent\"><img src=\"https://colab.research.google.com/assets/colab-badge.svg\" alt=\"Open In Colab\"/></a>"
      ]
    },
    {
      "cell_type": "code",
      "metadata": {
        "id": "lgH8T0Va9j6T",
        "colab_type": "code",
        "outputId": "64723065-2ce4-4cd9-f167-ac254ac7e14a",
        "colab": {
          "base_uri": "https://localhost:8080/",
          "height": 185
        }
      },
      "source": [
        "import numpy as np\n",
        "n = 10\n",
        "G = np.where(np.random.rand(n, n) < 0.7, 0, 1).tolist()\n",
        "for i in range(len(G)):\n",
        "    for j in range(len(G)):\n",
        "        if i < j:\n",
        "            if G[i][j] != G[i][j]:\n",
        "                G[i][j] == G[i][j]\n",
        "        if i == j:\n",
        "            G[i][j] = 0\n",
        "G"
      ],
      "execution_count": 0,
      "outputs": [
        {
          "output_type": "execute_result",
          "data": {
            "text/plain": [
              "[[0, 0, 0, 0, 0, 0, 0, 0, 1, 0],\n",
              " [0, 0, 1, 0, 0, 1, 0, 0, 0, 0],\n",
              " [1, 0, 0, 0, 0, 0, 0, 0, 0, 0],\n",
              " [0, 0, 0, 0, 0, 1, 0, 0, 0, 0],\n",
              " [0, 0, 0, 0, 0, 1, 0, 0, 0, 0],\n",
              " [0, 0, 1, 1, 0, 0, 0, 1, 0, 0],\n",
              " [0, 0, 1, 0, 0, 0, 0, 0, 0, 0],\n",
              " [1, 0, 1, 0, 1, 0, 0, 0, 0, 0],\n",
              " [0, 0, 1, 0, 1, 1, 0, 0, 0, 0],\n",
              " [0, 0, 0, 0, 1, 0, 0, 1, 0, 0]]"
            ]
          },
          "metadata": {
            "tags": []
          },
          "execution_count": 42
        }
      ]
    },
    {
      "cell_type": "code",
      "metadata": {
        "id": "I46y4mdH-IE8",
        "colab_type": "code",
        "outputId": "b0f9cee4-bac7-4c2e-e2ca-99e80bfc0590",
        "colab": {
          "base_uri": "https://localhost:8080/",
          "height": 34
        }
      },
      "source": [
        "import copy\n",
        "def question25(neighbor_matrix):\n",
        "    cycle = []\n",
        "    for i in range(len(neighbor_matrix)):\n",
        "        queue = []\n",
        "        for j in range(len(neighbor_matrix)):\n",
        "            if neighbor_matrix[i][j] == 1:\n",
        "                queue.append([i, j])\n",
        "\n",
        "        while len(queue) > 0:\n",
        "            path = queue.pop()\n",
        "            for j in range(len(neighbor_matrix)):\n",
        "                if neighbor_matrix[path[-1]][j] == 1:\n",
        "                    path_new = copy.deepcopy(path)\n",
        "                    if j in path_new:\n",
        "                        #print(j, \" in \", path_new)\n",
        "                        if j == path_new[0] and len(path_new) > 2:\n",
        "                            #print(\"cycle=\", path_new)\n",
        "                            if len(cycle) < len(path_new):\n",
        "                                cycle = path_new\n",
        "                    else:\n",
        "                        path_new.append(j)\n",
        "                        queue.append(path_new)\n",
        "            #print(path, path_new, queue)\n",
        "    return cycle\n",
        "\n",
        "question25(neighbor_matrix)"
      ],
      "execution_count": 0,
      "outputs": [
        {
          "output_type": "execute_result",
          "data": {
            "text/plain": [
              "[0, 6, 8, 3, 1, 4, 5, 2]"
            ]
          },
          "metadata": {
            "tags": []
          },
          "execution_count": 38
        }
      ]
    },
    {
      "cell_type": "code",
      "metadata": {
        "id": "ygYXmw4i-LY8",
        "colab_type": "code",
        "outputId": "c67c50a1-2b8f-4284-8e79-3aba17b4d128",
        "colab": {
          "base_uri": "https://localhost:8080/",
          "height": 185
        }
      },
      "source": [
        "import numpy as np\n",
        "n = 10\n",
        "G = np.where(np.random.rand(n, n) < 0.7, 0, 1).tolist()\n",
        "for i in range(len(G)):\n",
        "    for j in range(len(G)):\n",
        "        if G[i][j] != G[j][i]:\n",
        "            G[i][j] = G[j][i]\n",
        "        if i == j:\n",
        "            G[i][j] = 0\n",
        "G"
      ],
      "execution_count": 0,
      "outputs": [
        {
          "output_type": "execute_result",
          "data": {
            "text/plain": [
              "[[0, 1, 0, 0, 0, 0, 0, 0, 0, 1],\n",
              " [1, 0, 0, 0, 0, 0, 0, 1, 1, 0],\n",
              " [0, 0, 0, 0, 0, 0, 0, 0, 1, 0],\n",
              " [0, 0, 0, 0, 0, 0, 0, 1, 0, 1],\n",
              " [0, 0, 0, 0, 0, 1, 0, 0, 0, 0],\n",
              " [0, 0, 0, 0, 1, 0, 1, 0, 0, 0],\n",
              " [0, 0, 0, 0, 0, 1, 0, 0, 0, 1],\n",
              " [0, 1, 0, 1, 0, 0, 0, 0, 1, 0],\n",
              " [0, 1, 1, 0, 0, 0, 0, 1, 0, 0],\n",
              " [1, 0, 0, 1, 0, 0, 1, 0, 0, 0]]"
            ]
          },
          "metadata": {
            "tags": []
          },
          "execution_count": 81
        }
      ]
    },
    {
      "cell_type": "code",
      "metadata": {
        "id": "lVKSHSob-YzT",
        "colab_type": "code",
        "outputId": "38cc1f67-20f5-4fdc-cd35-37d3d8d3b21e",
        "colab": {
          "base_uri": "https://localhost:8080/",
          "height": 34
        }
      },
      "source": [
        "question25(G)"
      ],
      "execution_count": 0,
      "outputs": [
        {
          "output_type": "execute_result",
          "data": {
            "text/plain": [
              "[0, 9, 3, 7, 8, 1]"
            ]
          },
          "metadata": {
            "tags": []
          },
          "execution_count": 83
        }
      ]
    },
    {
      "cell_type": "code",
      "metadata": {
        "id": "mfb60S5VOWMZ",
        "colab_type": "code",
        "colab": {}
      },
      "source": [
        "G = \\\n",
        "[[0, 0, 0, 0, 1],\n",
        " [0, 0, 0, 1, 1],\n",
        " [0, 0, 0, 1, 0],\n",
        " [0, 1, 1, 0, 1],\n",
        " [1, 1, 0, 1, 0]]"
      ],
      "execution_count": 0,
      "outputs": []
    },
    {
      "cell_type": "code",
      "metadata": {
        "id": "GVzevSvtPh8_",
        "colab_type": "code",
        "outputId": "85beb043-72a8-40ba-9a3d-7d019ecdcd7b",
        "colab": {
          "base_uri": "https://localhost:8080/",
          "height": 34
        }
      },
      "source": [
        "question25(G)"
      ],
      "execution_count": 0,
      "outputs": [
        {
          "output_type": "execute_result",
          "data": {
            "text/plain": [
              "[1, 4, 3]"
            ]
          },
          "metadata": {
            "tags": []
          },
          "execution_count": 62
        }
      ]
    },
    {
      "cell_type": "code",
      "metadata": {
        "id": "keLXjXmdPjGW",
        "colab_type": "code",
        "colab": {}
      },
      "source": [
        ""
      ],
      "execution_count": 0,
      "outputs": []
    }
  ]
}