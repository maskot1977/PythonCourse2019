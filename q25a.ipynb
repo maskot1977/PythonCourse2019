{
  "nbformat": 4,
  "nbformat_minor": 0,
  "metadata": {
    "colab": {
      "name": "q25a",
      "provenance": [],
      "collapsed_sections": [],
      "include_colab_link": true
    },
    "kernelspec": {
      "name": "python3",
      "display_name": "Python 3"
    }
  },
  "cells": [
    {
      "cell_type": "markdown",
      "metadata": {
        "id": "view-in-github",
        "colab_type": "text"
      },
      "source": [
        "<a href=\"https://colab.research.google.com/github/maskot1977/PythonCourse2019/blob/master/q25a.ipynb\" target=\"_parent\"><img src=\"https://colab.research.google.com/assets/colab-badge.svg\" alt=\"Open In Colab\"/></a>"
      ]
    },
    {
      "cell_type": "code",
      "metadata": {
        "id": "I46y4mdH-IE8",
        "colab_type": "code",
        "colab": {}
      },
      "source": [
        "import copy\n",
        "def question25(neighbor_matrix):\n",
        "    cycle = []\n",
        "    for i in range(len(neighbor_matrix)):\n",
        "        queue = []\n",
        "        for j in range(len(neighbor_matrix)):\n",
        "            if neighbor_matrix[i][j] == 1:\n",
        "                queue.append([i, j])\n",
        "\n",
        "        while len(queue) > 0:\n",
        "            path = queue.pop()\n",
        "            for j in range(len(neighbor_matrix)):\n",
        "                if neighbor_matrix[path[-1]][j] == 1:\n",
        "                    path_new = copy.deepcopy(path)\n",
        "                    if j in path_new:\n",
        "                        #print(j, \" in \", path_new)\n",
        "                        if j == path_new[0] and len(path_new) > 2:\n",
        "                            #print(\"cycle=\", path_new)\n",
        "                            if len(cycle) < len(path_new):\n",
        "                                cycle = path_new\n",
        "                    else:\n",
        "                        path_new.append(j)\n",
        "                        queue.append(path_new)\n",
        "            #print(path, path_new, queue)\n",
        "    return cycle"
      ],
      "execution_count": 0,
      "outputs": []
    },
    {
      "cell_type": "code",
      "metadata": {
        "id": "lgH8T0Va9j6T",
        "colab_type": "code",
        "outputId": "bf63146e-7948-4242-8908-beec3c451091",
        "colab": {
          "base_uri": "https://localhost:8080/",
          "height": 34
        }
      },
      "source": [
        "n =  5\n",
        "G = \\\n",
        "[[0, 0, 0, 0, 1],\n",
        " [0, 0, 0, 1, 1],\n",
        " [0, 0, 0, 1, 0],\n",
        " [0, 1, 1, 0, 1],\n",
        " [1, 1, 0, 1, 0]]\n",
        "\n",
        "question25(G)"
      ],
      "execution_count": 4,
      "outputs": [
        {
          "output_type": "execute_result",
          "data": {
            "text/plain": [
              "[1, 4, 3]"
            ]
          },
          "metadata": {
            "tags": []
          },
          "execution_count": 4
        }
      ]
    },
    {
      "cell_type": "code",
      "metadata": {
        "id": "ygYXmw4i-LY8",
        "colab_type": "code",
        "outputId": "fe34f363-9741-46dd-9096-b698fe776aff",
        "colab": {
          "base_uri": "https://localhost:8080/",
          "height": 34
        }
      },
      "source": [
        "n =  8\n",
        "G = \\\n",
        "[[0, 0, 1, 0, 0, 0, 0, 0],\n",
        " [0, 0, 0, 0, 0, 0, 1, 0],\n",
        " [1, 0, 0, 0, 0, 0, 1, 0],\n",
        " [0, 0, 0, 0, 0, 1, 0, 1],\n",
        " [0, 0, 0, 0, 0, 0, 1, 0],\n",
        " [0, 0, 0, 1, 0, 0, 1, 0],\n",
        " [0, 1, 1, 0, 1, 1, 0, 0],\n",
        " [0, 0, 0, 1, 0, 0, 0, 0]]\n",
        "\n",
        "question25(G)"
      ],
      "execution_count": 6,
      "outputs": [
        {
          "output_type": "execute_result",
          "data": {
            "text/plain": [
              "[]"
            ]
          },
          "metadata": {
            "tags": []
          },
          "execution_count": 6
        }
      ]
    },
    {
      "cell_type": "code",
      "metadata": {
        "id": "lVKSHSob-YzT",
        "colab_type": "code",
        "outputId": "2291d5c3-3c07-4c5e-aab0-888cf9b273b6",
        "colab": {
          "base_uri": "https://localhost:8080/",
          "height": 34
        }
      },
      "source": [
        "n =  10\n",
        "G = \\\n",
        "[[0, 1, 0, 0, 0, 0, 0, 0, 0, 1],\n",
        " [1, 0, 0, 0, 0, 0, 0, 1, 1, 0],\n",
        " [0, 0, 0, 0, 0, 0, 0, 0, 1, 0],\n",
        " [0, 0, 0, 0, 0, 0, 0, 1, 0, 1],\n",
        " [0, 0, 0, 0, 0, 1, 0, 0, 0, 0],\n",
        " [0, 0, 0, 0, 1, 0, 1, 0, 0, 0],\n",
        " [0, 0, 0, 0, 0, 1, 0, 0, 0, 1],\n",
        " [0, 1, 0, 1, 0, 0, 0, 0, 1, 0],\n",
        " [0, 1, 1, 0, 0, 0, 0, 1, 0, 0],\n",
        " [1, 0, 0, 1, 0, 0, 1, 0, 0, 0]]\n",
        "\n",
        "question25(G)"
      ],
      "execution_count": 7,
      "outputs": [
        {
          "output_type": "execute_result",
          "data": {
            "text/plain": [
              "[0, 9, 3, 7, 8, 1]"
            ]
          },
          "metadata": {
            "tags": []
          },
          "execution_count": 7
        }
      ]
    },
    {
      "cell_type": "code",
      "metadata": {
        "id": "keLXjXmdPjGW",
        "colab_type": "code",
        "colab": {}
      },
      "source": [
        ""
      ],
      "execution_count": 0,
      "outputs": []
    }
  ]
}