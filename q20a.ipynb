{
  "nbformat": 4,
  "nbformat_minor": 0,
  "metadata": {
    "colab": {
      "name": "q20a",
      "provenance": [],
      "include_colab_link": true
    },
    "kernelspec": {
      "name": "python3",
      "display_name": "Python 3"
    }
  },
  "cells": [
    {
      "cell_type": "markdown",
      "metadata": {
        "id": "view-in-github",
        "colab_type": "text"
      },
      "source": [
        "<a href=\"https://colab.research.google.com/github/maskot1977/PythonCourse2019/blob/master/q20a.ipynb\" target=\"_parent\"><img src=\"https://colab.research.google.com/assets/colab-badge.svg\" alt=\"Open In Colab\"/></a>"
      ]
    },
    {
      "cell_type": "code",
      "metadata": {
        "id": "Aud0pFdJg_Pi",
        "colab_type": "code",
        "outputId": "3d4c33be-35fb-4dfb-e992-78103e32478b",
        "colab": {
          "base_uri": "https://localhost:8080/",
          "height": 89
        }
      },
      "source": [
        "import random\n",
        "n = 10\n",
        "x = random.randint(n * 10, n * 100)\n",
        "W = [random.randint(1, 100) for _ in range(n)]\n",
        "V = [random.randint(1, 100) for _ in range(n)]\n",
        "\n",
        "print(\"n = \", n)\n",
        "print(\"x = \", x)\n",
        "print(\"W = \", W)\n",
        "print(\"V = \", V)"
      ],
      "execution_count": 0,
      "outputs": [
        {
          "output_type": "stream",
          "text": [
            "n =  10\n",
            "x =  309\n",
            "W =  [11, 56, 55, 6, 83, 89, 2, 81, 97, 86]\n",
            "V =  [26, 84, 5, 19, 53, 7, 31, 68, 32, 26]\n"
          ],
          "name": "stdout"
        }
      ]
    },
    {
      "cell_type": "code",
      "metadata": {
        "id": "W2YwAtOwhFzT",
        "colab_type": "code",
        "colab": {}
      },
      "source": [
        "def question(x, W, V):\n",
        "    dp_table = [[0 for _ in range(x + 1)] for _ in range(len(W) + 1)]\n",
        "    for i in range(len(W)):\n",
        "        for j in range(x + 1):\n",
        "            if j < W[i]:\n",
        "                dp_table[i + 1][j] = dp_table[i][j]\n",
        "            else:\n",
        "                dp_table[i + 1][j] = max(dp_table[i][j], dp_table[i + 1][j - W[i]] + V[i])\n",
        "    return dp_table[len(W)][x]"
      ],
      "execution_count": 0,
      "outputs": []
    },
    {
      "cell_type": "code",
      "metadata": {
        "id": "5w46pQ_pi2jQ",
        "colab_type": "code",
        "outputId": "312dd179-51fd-474a-dbaf-b67a72eee2d8",
        "colab": {
          "base_uri": "https://localhost:8080/",
          "height": 35
        }
      },
      "source": [
        "n = 3\n",
        "W = [3, 4, 2]\n",
        "V = [4, 5, 3]\n",
        "x = 7\n",
        "question(x, W, V)"
      ],
      "execution_count": 0,
      "outputs": [
        {
          "output_type": "execute_result",
          "data": {
            "text/plain": [
              "10"
            ]
          },
          "metadata": {
            "tags": []
          },
          "execution_count": 10
        }
      ]
    },
    {
      "cell_type": "code",
      "metadata": {
        "id": "9lQsI9Hzi_es",
        "colab_type": "code",
        "outputId": "a9fc98f1-8483-49d4-f89b-52c2d0d48eee",
        "colab": {
          "base_uri": "https://localhost:8080/",
          "height": 107
        }
      },
      "source": [
        "import random\n",
        "n = 10\n",
        "x = random.randint(n * 10, n * 100)\n",
        "W = [random.randint(1, 100) for _ in range(n)]\n",
        "V = [random.randint(1, 100) for _ in range(n)]\n",
        "\n",
        "print(\"n = \", n)\n",
        "print(\"x = \", x)\n",
        "print(\"W = \", W)\n",
        "print(\"V = \", V)\n",
        "question(x, W, V)"
      ],
      "execution_count": 0,
      "outputs": [
        {
          "output_type": "stream",
          "text": [
            "n =  10\n",
            "x =  867\n",
            "W =  [28, 92, 30, 1, 40, 33, 96, 30, 38, 86]\n",
            "V =  [6, 77, 53, 91, 47, 33, 28, 28, 78, 36]\n"
          ],
          "name": "stdout"
        },
        {
          "output_type": "execute_result",
          "data": {
            "text/plain": [
              "78897"
            ]
          },
          "metadata": {
            "tags": []
          },
          "execution_count": 11
        }
      ]
    },
    {
      "cell_type": "code",
      "metadata": {
        "id": "xr8wE3wGjXcD",
        "colab_type": "code",
        "outputId": "20e14f3a-f3d4-4776-daab-b36eec3adee6",
        "colab": {
          "base_uri": "https://localhost:8080/",
          "height": 107
        }
      },
      "source": [
        "import random\n",
        "n = 20\n",
        "x = random.randint(n * 10, n * 100)\n",
        "W = [random.randint(1, 100) for _ in range(n)]\n",
        "V = [random.randint(1, 100) for _ in range(n)]\n",
        "\n",
        "print(\"n = \", n)\n",
        "print(\"x = \", x)\n",
        "print(\"W = \", W)\n",
        "print(\"V = \", V)\n",
        "question(x, W, V)"
      ],
      "execution_count": 0,
      "outputs": [
        {
          "output_type": "stream",
          "text": [
            "n =  20\n",
            "x =  1272\n",
            "W =  [10, 87, 38, 74, 19, 93, 34, 24, 63, 12, 31, 99, 45, 4, 22, 81, 50, 75, 36, 20]\n",
            "V =  [1, 96, 33, 97, 58, 31, 68, 60, 23, 60, 27, 7, 24, 70, 60, 73, 11, 88, 87, 71]\n"
          ],
          "name": "stdout"
        },
        {
          "output_type": "execute_result",
          "data": {
            "text/plain": [
              "22260"
            ]
          },
          "metadata": {
            "tags": []
          },
          "execution_count": 12
        }
      ]
    },
    {
      "cell_type": "code",
      "metadata": {
        "id": "7linuIW3jkq6",
        "colab_type": "code",
        "outputId": "1f9d4c15-3201-40e6-afd8-88abf6bea78f",
        "colab": {
          "base_uri": "https://localhost:8080/",
          "height": 127
        }
      },
      "source": [
        "import random\n",
        "n = 40\n",
        "x = random.randint(n * 10, n * 100)\n",
        "W = [random.randint(1, 100) for _ in range(n)]\n",
        "V = [random.randint(1, 100) for _ in range(n)]\n",
        "\n",
        "print(\"n = \", n)\n",
        "print(\"x = \", x)\n",
        "print(\"W = \", W)\n",
        "print(\"V = \", V)\n",
        "question(x, W, V)"
      ],
      "execution_count": 0,
      "outputs": [
        {
          "output_type": "stream",
          "text": [
            "n =  40\n",
            "x =  3309\n",
            "W =  [20, 5, 85, 84, 10, 15, 80, 24, 48, 96, 33, 18, 22, 58, 62, 24, 12, 73, 76, 9, 53, 7, 47, 82, 69, 82, 57, 33, 60, 10, 84, 16, 97, 9, 57, 92, 22, 1, 70, 26]\n",
            "V =  [83, 17, 72, 71, 40, 16, 94, 78, 41, 43, 38, 21, 3, 35, 58, 59, 63, 75, 5, 64, 75, 30, 48, 45, 69, 7, 25, 37, 80, 70, 93, 68, 41, 34, 60, 39, 8, 86, 64, 27]\n"
          ],
          "name": "stdout"
        },
        {
          "output_type": "execute_result",
          "data": {
            "text/plain": [
              "284574"
            ]
          },
          "metadata": {
            "tags": []
          },
          "execution_count": 13
        }
      ]
    },
    {
      "cell_type": "code",
      "metadata": {
        "id": "ZdzIdmi3jpUh",
        "colab_type": "code",
        "outputId": "29ab3ed9-fd7c-4bdf-fa35-e431ddacc302",
        "colab": {
          "base_uri": "https://localhost:8080/",
          "height": 127
        }
      },
      "source": [
        "import random\n",
        "n = 40\n",
        "x = random.randint(n * 10, n * 100)\n",
        "W = [random.randint(1, 100) for _ in range(n)]\n",
        "V = [random.randint(1, 100) for _ in range(n)]\n",
        "\n",
        "print(\"n = \", n)\n",
        "print(\"x = \", x)\n",
        "print(\"W = \", W)\n",
        "print(\"V = \", V)\n",
        "question(x, W, V)"
      ],
      "execution_count": 0,
      "outputs": [
        {
          "output_type": "stream",
          "text": [
            "n =  40\n",
            "x =  1747\n",
            "W =  [60, 76, 2, 14, 89, 88, 83, 27, 55, 10, 53, 58, 60, 45, 90, 73, 32, 54, 90, 97, 28, 54, 10, 70, 73, 61, 5, 14, 35, 65, 57, 12, 9, 85, 98, 51, 49, 13, 98, 16]\n",
            "V =  [23, 25, 14, 1, 39, 18, 16, 81, 67, 75, 14, 23, 95, 58, 47, 99, 33, 100, 9, 19, 57, 52, 36, 16, 30, 83, 99, 61, 97, 74, 16, 27, 70, 81, 84, 13, 28, 14, 12, 27]\n"
          ],
          "name": "stdout"
        },
        {
          "output_type": "execute_result",
          "data": {
            "text/plain": [
              "34565"
            ]
          },
          "metadata": {
            "tags": []
          },
          "execution_count": 14
        }
      ]
    },
    {
      "cell_type": "code",
      "metadata": {
        "id": "Vf7r0aM3jufM",
        "colab_type": "code",
        "colab": {}
      },
      "source": [
        ""
      ],
      "execution_count": 0,
      "outputs": []
    }
  ]
}