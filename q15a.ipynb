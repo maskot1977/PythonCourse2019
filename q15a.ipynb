{
  "nbformat": 4,
  "nbformat_minor": 0,
  "metadata": {
    "colab": {
      "name": "q15a",
      "provenance": [],
      "include_colab_link": true
    },
    "kernelspec": {
      "name": "python3",
      "display_name": "Python 3"
    }
  },
  "cells": [
    {
      "cell_type": "markdown",
      "metadata": {
        "id": "view-in-github",
        "colab_type": "text"
      },
      "source": [
        "<a href=\"https://colab.research.google.com/github/maskot1977/PythonCourse2019/blob/master/q15a.ipynb\" target=\"_parent\"><img src=\"https://colab.research.google.com/assets/colab-badge.svg\" alt=\"Open In Colab\"/></a>"
      ]
    },
    {
      "cell_type": "code",
      "metadata": {
        "id": "2JYK6muF04n7",
        "colab_type": "code",
        "colab": {}
      },
      "source": [
        "# ユークリッドの互除法で最大公約数を求める関数\n",
        "\n",
        "def gcd(a, b):\n",
        "    if b == 0:\n",
        "        return a\n",
        "    return gcd(b, a % b)"
      ],
      "execution_count": 0,
      "outputs": []
    },
    {
      "cell_type": "code",
      "metadata": {
        "id": "4w2zQcY12EhY",
        "colab_type": "code",
        "outputId": "dec480f6-f4f4-4899-c390-10c6aff476a9",
        "colab": {
          "base_uri": "https://localhost:8080/",
          "height": 34
        }
      },
      "source": [
        "gcd(10, 8)"
      ],
      "execution_count": 0,
      "outputs": [
        {
          "output_type": "execute_result",
          "data": {
            "text/plain": [
              "2"
            ]
          },
          "metadata": {
            "tags": []
          },
          "execution_count": 2
        }
      ]
    },
    {
      "cell_type": "code",
      "metadata": {
        "id": "8kOnvofd2Yt2",
        "colab_type": "code",
        "outputId": "dc9fb874-30a4-4e89-e272-aaf835b5b1c4",
        "colab": {
          "base_uri": "https://localhost:8080/",
          "height": 34
        }
      },
      "source": [
        "gcd(8, 10)"
      ],
      "execution_count": 0,
      "outputs": [
        {
          "output_type": "execute_result",
          "data": {
            "text/plain": [
              "2"
            ]
          },
          "metadata": {
            "tags": []
          },
          "execution_count": 3
        }
      ]
    },
    {
      "cell_type": "code",
      "metadata": {
        "id": "AvVIitZX2a0W",
        "colab_type": "code",
        "colab": {}
      },
      "source": [
        "p1 = [1, 11]\n",
        "p2 = [5, 3]"
      ],
      "execution_count": 0,
      "outputs": []
    },
    {
      "cell_type": "code",
      "metadata": {
        "id": "20FfiOiQ2oUb",
        "colab_type": "code",
        "outputId": "6b0883c6-2d86-486f-f00e-0fe4c9bbc7bb",
        "colab": {
          "base_uri": "https://localhost:8080/",
          "height": 34
        }
      },
      "source": [
        "gcd(abs(p1[0] - p2[0]), abs(p1[1] - p2[1]))"
      ],
      "execution_count": 0,
      "outputs": [
        {
          "output_type": "execute_result",
          "data": {
            "text/plain": [
              "4"
            ]
          },
          "metadata": {
            "tags": []
          },
          "execution_count": 8
        }
      ]
    },
    {
      "cell_type": "code",
      "metadata": {
        "id": "yLFUUyT625Yr",
        "colab_type": "code",
        "outputId": "83d4021c-a04f-46dd-de53-29b7db89e8dc",
        "colab": {
          "base_uri": "https://localhost:8080/",
          "height": 34
        }
      },
      "source": [
        "gcd(-8, 10)"
      ],
      "execution_count": 0,
      "outputs": [
        {
          "output_type": "execute_result",
          "data": {
            "text/plain": [
              "2"
            ]
          },
          "metadata": {
            "tags": []
          },
          "execution_count": 10
        }
      ]
    },
    {
      "cell_type": "code",
      "metadata": {
        "id": "GHVkirUH3J7y",
        "colab_type": "code",
        "colab": {}
      },
      "source": [
        "def question9(p1, p2):\n",
        "    return gcd(abs(p1[0] - p2[0]), abs(p1[1] - p2[1])) - 1"
      ],
      "execution_count": 0,
      "outputs": []
    },
    {
      "cell_type": "code",
      "metadata": {
        "id": "65rylMpL3_yf",
        "colab_type": "code",
        "outputId": "6b9caa53-7c64-41e3-893e-8a148a64f245",
        "colab": {
          "base_uri": "https://localhost:8080/",
          "height": 34
        }
      },
      "source": [
        "question9(p1, p2)"
      ],
      "execution_count": 0,
      "outputs": [
        {
          "output_type": "execute_result",
          "data": {
            "text/plain": [
              "3"
            ]
          },
          "metadata": {
            "tags": []
          },
          "execution_count": 12
        }
      ]
    },
    {
      "cell_type": "code",
      "metadata": {
        "id": "m_GcZ1Ow4CL6",
        "colab_type": "code",
        "outputId": "d1000961-68c3-4df1-a6d3-4ce56a948988",
        "colab": {
          "base_uri": "https://localhost:8080/",
          "height": 104
        }
      },
      "source": [
        "import random\n",
        "x1 = random.randint(-10, 10)\n",
        "y1 = random.randint(-10, 10)\n",
        "x2 = random.randint(-10, 10)\n",
        "y2 = random.randint(-10, 10)\n",
        "\n",
        "print(\"x1 = \", x1)\n",
        "print(\"y1 = \", y1)\n",
        "\n",
        "print(\"x2 = \", x2)\n",
        "print(\"y2 = \", y2)\n",
        "\n",
        "question9([x1, y1], [x2, y2])"
      ],
      "execution_count": 0,
      "outputs": [
        {
          "output_type": "stream",
          "text": [
            "x1 =  -2\n",
            "y1 =  -9\n",
            "x2 =  6\n",
            "y2 =  7\n"
          ],
          "name": "stdout"
        },
        {
          "output_type": "execute_result",
          "data": {
            "text/plain": [
              "7"
            ]
          },
          "metadata": {
            "tags": []
          },
          "execution_count": 26
        }
      ]
    },
    {
      "cell_type": "code",
      "metadata": {
        "id": "2uRz4PZq4HlE",
        "colab_type": "code",
        "outputId": "4b34fb42-f713-4e54-e443-dd4567d8e2d6",
        "colab": {
          "base_uri": "https://localhost:8080/",
          "height": 282
        }
      },
      "source": [
        "%matplotlib inline\n",
        "import matplotlib.pyplot as plt\n",
        "fig = plt.figure()\n",
        "ax = fig.add_subplot(111)\n",
        "ax.plot([x1, x2], [y1, y2])\n",
        "ax.set_xticks(range(x1, x2 + 1, 1))\n",
        "ax.set_yticks(range(y1, y2 + 1, 1))\n",
        "ax.set_xlabel(\"x\")\n",
        "ax.set_ylabel(\"y\")\n",
        "ax.grid()"
      ],
      "execution_count": 0,
      "outputs": [
        {
          "output_type": "display_data",
          "data": {
            "image/png": "[encoded data removed]",
            "text/plain": [
              "<Figure size 432x288 with 1 Axes>"
            ]
          },
          "metadata": {
            "tags": []
          }
        }
      ]
    },
    {
      "cell_type": "code",
      "metadata": {
        "id": "peuuBxBd4gxz",
        "colab_type": "code",
        "outputId": "bb4e036a-c04e-454a-9970-df9a4709bd26",
        "colab": {
          "base_uri": "https://localhost:8080/",
          "height": 104
        }
      },
      "source": [
        "import random\n",
        "x1 = random.randint(-100, 100)\n",
        "y1 = random.randint(-100, 100)\n",
        "x2 = random.randint(-100, 100)\n",
        "y2 = random.randint(-100, 100)\n",
        "\n",
        "print(\"x1 = \", x1)\n",
        "print(\"y1 = \", y1)\n",
        "\n",
        "print(\"x2 = \", x2)\n",
        "print(\"y2 = \", y2)\n",
        "\n",
        "question9([x1, y1], [x2, y2])"
      ],
      "execution_count": 0,
      "outputs": [
        {
          "output_type": "stream",
          "text": [
            "x1 =  -42\n",
            "y1 =  -65\n",
            "x2 =  62\n",
            "y2 =  -91\n"
          ],
          "name": "stdout"
        },
        {
          "output_type": "execute_result",
          "data": {
            "text/plain": [
              "25"
            ]
          },
          "metadata": {
            "tags": []
          },
          "execution_count": 37
        }
      ]
    },
    {
      "cell_type": "code",
      "metadata": {
        "id": "XieTxS6b7CQv",
        "colab_type": "code",
        "outputId": "e8381229-74a8-4273-ca38-1338224a27b1",
        "colab": {
          "base_uri": "https://localhost:8080/",
          "height": 104
        }
      },
      "source": [
        "import random\n",
        "x1 = random.randint(-1000, 1000)\n",
        "y1 = random.randint(-1000, 1000)\n",
        "x2 = random.randint(-1000, 1000)\n",
        "y2 = random.randint(-1000, 1000)\n",
        "\n",
        "print(\"x1 = \", x1)\n",
        "print(\"y1 = \", y1)\n",
        "\n",
        "print(\"x2 = \", x2)\n",
        "print(\"y2 = \", y2)\n",
        "\n",
        "question9([x1, y1], [x2, y2])"
      ],
      "execution_count": 0,
      "outputs": [
        {
          "output_type": "stream",
          "text": [
            "x1 =  908\n",
            "y1 =  -307\n",
            "x2 =  -86\n",
            "y2 =  -679\n"
          ],
          "name": "stdout"
        },
        {
          "output_type": "execute_result",
          "data": {
            "text/plain": [
              "1"
            ]
          },
          "metadata": {
            "tags": []
          },
          "execution_count": 38
        }
      ]
    },
    {
      "cell_type": "code",
      "metadata": {
        "id": "wFB-sqg47Gbd",
        "colab_type": "code",
        "outputId": "dbabc941-d781-4fd6-d36d-e88c4625f65d",
        "colab": {
          "base_uri": "https://localhost:8080/",
          "height": 104
        }
      },
      "source": [
        "import random\n",
        "x1 = random.randint(-10000, 10000)\n",
        "y1 = random.randint(-10000, 10000)\n",
        "x2 = random.randint(-10000, 10000)\n",
        "y2 = random.randint(-10000, 10000)\n",
        "\n",
        "print(\"x1 = \", x1)\n",
        "print(\"y1 = \", y1)\n",
        "\n",
        "print(\"x2 = \", x2)\n",
        "print(\"y2 = \", y2)\n",
        "\n",
        "question9([x1, y1], [x2, y2])"
      ],
      "execution_count": 0,
      "outputs": [
        {
          "output_type": "stream",
          "text": [
            "x1 =  -6326\n",
            "y1 =  3211\n",
            "x2 =  7048\n",
            "y2 =  5822\n"
          ],
          "name": "stdout"
        },
        {
          "output_type": "execute_result",
          "data": {
            "text/plain": [
              "0"
            ]
          },
          "metadata": {
            "tags": []
          },
          "execution_count": 39
        }
      ]
    },
    {
      "cell_type": "code",
      "metadata": {
        "id": "C15vvN9z7XZo",
        "colab_type": "code",
        "outputId": "b4508494-6b19-4932-91e0-1788ff9efb1e",
        "colab": {
          "base_uri": "https://localhost:8080/",
          "height": 104
        }
      },
      "source": [
        "import random\n",
        "x1 = random.randint(-10000, 10000)\n",
        "y1 = random.randint(-10000, 10000)\n",
        "x2 = random.randint(-10000, 10000)\n",
        "y2 = random.randint(-10000, 10000)\n",
        "\n",
        "print(\"x1 = \", x1)\n",
        "print(\"y1 = \", y1)\n",
        "\n",
        "print(\"x2 = \", x2)\n",
        "print(\"y2 = \", y2)\n",
        "\n",
        "question9([x1, y1], [x2, y2])"
      ],
      "execution_count": 0,
      "outputs": [
        {
          "output_type": "stream",
          "text": [
            "x1 =  -9675\n",
            "y1 =  -2803\n",
            "x2 =  3828\n",
            "y2 =  -6349\n"
          ],
          "name": "stdout"
        },
        {
          "output_type": "execute_result",
          "data": {
            "text/plain": [
              "2"
            ]
          },
          "metadata": {
            "tags": []
          },
          "execution_count": 46
        }
      ]
    },
    {
      "cell_type": "code",
      "metadata": {
        "id": "BHtUmC527Zg3",
        "colab_type": "code",
        "outputId": "07416905-0b4d-4ae7-803d-83b989a4356f",
        "colab": {
          "base_uri": "https://localhost:8080/",
          "height": 104
        }
      },
      "source": [
        "import random\n",
        "x1 = random.randint(-100000, 100000)\n",
        "y1 = random.randint(-100000, 100000)\n",
        "x2 = random.randint(-100000, 100000)\n",
        "y2 = random.randint(-100000, 100000)\n",
        "\n",
        "print(\"x1 = \", x1)\n",
        "print(\"y1 = \", y1)\n",
        "\n",
        "print(\"x2 = \", x2)\n",
        "print(\"y2 = \", y2)\n",
        "\n",
        "question9([x1, y1], [x2, y2])"
      ],
      "execution_count": 0,
      "outputs": [
        {
          "output_type": "stream",
          "text": [
            "x1 =  28753\n",
            "y1 =  -81123\n",
            "x2 =  -80642\n",
            "y2 =  -68454\n"
          ],
          "name": "stdout"
        },
        {
          "output_type": "execute_result",
          "data": {
            "text/plain": [
              "2"
            ]
          },
          "metadata": {
            "tags": []
          },
          "execution_count": 51
        }
      ]
    },
    {
      "cell_type": "code",
      "metadata": {
        "id": "06gn9iUy7fnN",
        "colab_type": "code",
        "outputId": "ff4d63db-3ccb-4049-c1b7-084973b2f114",
        "colab": {
          "base_uri": "https://localhost:8080/",
          "height": 104
        }
      },
      "source": [
        "import random\n",
        "x1 = random.randint(-1000000, 1000000)\n",
        "y1 = random.randint(-1000000, 1000000)\n",
        "x2 = random.randint(-1000000, 1000000)\n",
        "y2 = random.randint(-1000000, 1000000)\n",
        "\n",
        "print(\"x1 = \", x1)\n",
        "print(\"y1 = \", y1)\n",
        "\n",
        "print(\"x2 = \", x2)\n",
        "print(\"y2 = \", y2)\n",
        "\n",
        "question9([x1, y1], [x2, y2])"
      ],
      "execution_count": 0,
      "outputs": [
        {
          "output_type": "stream",
          "text": [
            "x1 =  -280256\n",
            "y1 =  -530045\n",
            "x2 =  -491831\n",
            "y2 =  -108533\n"
          ],
          "name": "stdout"
        },
        {
          "output_type": "execute_result",
          "data": {
            "text/plain": [
              "272"
            ]
          },
          "metadata": {
            "tags": []
          },
          "execution_count": 61
        }
      ]
    },
    {
      "cell_type": "code",
      "metadata": {
        "id": "bdssfwZw7rEM",
        "colab_type": "code",
        "colab": {}
      },
      "source": [
        ""
      ],
      "execution_count": 0,
      "outputs": []
    }
  ]
}