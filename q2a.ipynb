{
  "nbformat": 4,
  "nbformat_minor": 0,
  "metadata": {
    "colab": {
      "name": "q2a",
      "provenance": [],
      "collapsed_sections": [],
      "include_colab_link": true
    },
    "kernelspec": {
      "name": "python3",
      "display_name": "Python 3"
    }
  },
  "cells": [
    {
      "cell_type": "markdown",
      "metadata": {
        "id": "view-in-github",
        "colab_type": "text"
      },
      "source": [
        "<a href=\"https://colab.research.google.com/github/maskot1977/PythonCourse2019/blob/master/q2a.ipynb\" target=\"_parent\"><img src=\"https://colab.research.google.com/assets/colab-badge.svg\" alt=\"Open In Colab\"/></a>"
      ]
    },
    {
      "cell_type": "markdown",
      "metadata": {
        "id": "VIjRrrT_7VOq",
        "colab_type": "text"
      },
      "source": [
        "# プログラミング問題集　問２解答例\n",
        "\n",
        "https://qiita.com/maskot1977/items/85772c1e457c42eea089\n",
        "\n",
        "* 他にも解答例があれば追加の可能性があります。\n"
      ]
    },
    {
      "cell_type": "code",
      "metadata": {
        "id": "4DBFr-877gkJ",
        "colab_type": "code",
        "colab": {}
      },
      "source": [
        "import random\n",
        "\n",
        "n = random.randint(3, 100)\n",
        "\n",
        "a = [round(random.random() * 1000, 2) for _ in range(n)]"
      ],
      "execution_count": 0,
      "outputs": []
    },
    {
      "cell_type": "code",
      "metadata": {
        "id": "55it6USC8epK",
        "colab_type": "code",
        "outputId": "cfd81c41-2bfc-4b6a-976a-fa0684337bf6",
        "colab": {
          "base_uri": "https://localhost:8080/",
          "height": 1000
        }
      },
      "source": [
        "n, a"
      ],
      "execution_count": 0,
      "outputs": [
        {
          "output_type": "execute_result",
          "data": {
            "text/plain": [
              "(94,\n",
              " [909.24,\n",
              "  639.46,\n",
              "  853.93,\n",
              "  970.42,\n",
              "  761.73,\n",
              "  975.83,\n",
              "  329.5,\n",
              "  786.4,\n",
              "  773.85,\n",
              "  821.74,\n",
              "  722.08,\n",
              "  831.36,\n",
              "  342.96,\n",
              "  662.21,\n",
              "  719.19,\n",
              "  765.01,\n",
              "  553.56,\n",
              "  450.25,\n",
              "  3.88,\n",
              "  278.15,\n",
              "  490.41,\n",
              "  859.43,\n",
              "  27.47,\n",
              "  515.3,\n",
              "  480.0,\n",
              "  820.61,\n",
              "  945.13,\n",
              "  171.1,\n",
              "  448.67,\n",
              "  39.37,\n",
              "  271.55,\n",
              "  498.61,\n",
              "  655.22,\n",
              "  133.18,\n",
              "  375.63,\n",
              "  581.67,\n",
              "  98.96,\n",
              "  869.7,\n",
              "  444.85,\n",
              "  755.03,\n",
              "  869.68,\n",
              "  859.5,\n",
              "  211.2,\n",
              "  452.54,\n",
              "  869.86,\n",
              "  298.84,\n",
              "  6.59,\n",
              "  421.13,\n",
              "  546.82,\n",
              "  659.5,\n",
              "  755.86,\n",
              "  572.05,\n",
              "  460.99,\n",
              "  787.44,\n",
              "  54.08,\n",
              "  136.02,\n",
              "  870.92,\n",
              "  581.4,\n",
              "  877.61,\n",
              "  718.25,\n",
              "  274.25,\n",
              "  265.64,\n",
              "  30.07,\n",
              "  240.92,\n",
              "  46.84,\n",
              "  243.14,\n",
              "  86.56,\n",
              "  153.71,\n",
              "  603.83,\n",
              "  548.29,\n",
              "  628.55,\n",
              "  729.29,\n",
              "  857.0,\n",
              "  725.84,\n",
              "  979.29,\n",
              "  461.69,\n",
              "  433.13,\n",
              "  653.5,\n",
              "  100.31,\n",
              "  284.43,\n",
              "  713.12,\n",
              "  60.62,\n",
              "  923.08,\n",
              "  751.23,\n",
              "  222.68,\n",
              "  855.21,\n",
              "  465.46,\n",
              "  342.78,\n",
              "  637.9,\n",
              "  256.22,\n",
              "  84.01,\n",
              "  540.76,\n",
              "  373.89,\n",
              "  716.21])"
            ]
          },
          "metadata": {
            "tags": []
          },
          "execution_count": 4
        }
      ]
    },
    {
      "cell_type": "code",
      "metadata": {
        "id": "Dss0X7xT8gEI",
        "colab_type": "code",
        "colab": {}
      },
      "source": [
        "def max_triangle(a):\n",
        "  ans = 0\n",
        "  for i in range(len(a)):\n",
        "    for j in range(len(a)):\n",
        "      if i >= j:\n",
        "        continue\n",
        "      for k in range(len(a)):\n",
        "        if j >= k:\n",
        "          continue\n",
        "        \n",
        "        sum_edge = a[i] + a[j] + a[k]\n",
        "        max_edge = max(a[i], a[k], a[j]) \n",
        "        rest_edge = sum_edge - max_edge\n",
        "        if max_edge < rest_edge:\n",
        "          ans = max(ans, sum_edge)\n",
        "    return ans"
      ],
      "execution_count": 0,
      "outputs": []
    },
    {
      "cell_type": "code",
      "metadata": {
        "id": "3BvBg3T-9TkS",
        "colab_type": "code",
        "outputId": "51bff4bb-39d3-4ea0-aada-1f922acdaeb4",
        "colab": {
          "base_uri": "https://localhost:8080/",
          "height": 35
        }
      },
      "source": [
        "max_triangle(a)"
      ],
      "execution_count": 0,
      "outputs": [
        {
          "output_type": "execute_result",
          "data": {
            "text/plain": [
              "2864.36"
            ]
          },
          "metadata": {
            "tags": []
          },
          "execution_count": 7
        }
      ]
    },
    {
      "cell_type": "code",
      "metadata": {
        "id": "BPuJDsui-Wx4",
        "colab_type": "code",
        "outputId": "5ed30e3e-affc-41d1-cbc8-16b4e19ddc83",
        "colab": {
          "base_uri": "https://localhost:8080/",
          "height": 73
        }
      },
      "source": [
        "import random\n",
        "\n",
        "n = random.randint(3, 100)\n",
        "a = [round(random.random() * 1000, 2) for _ in range(n)]\n",
        "\n",
        "print(\"n = \", n)\n",
        "print(\"a = \", a)"
      ],
      "execution_count": 0,
      "outputs": [
        {
          "output_type": "stream",
          "text": [
            "n =  93\n",
            "a =  [5.12, 37.92, 423.29, 512.46, 801.74, 391.6, 149.55, 430.43, 310.78, 562.61, 11.39, 662.88, 872.17, 501.71, 187.24, 575.35, 512.01, 367.66, 196.64, 679.75, 174.56, 276.71, 737.98, 221.59, 734.84, 53.9, 125.24, 261.69, 780.83, 376.43, 985.84, 240.3, 256.35, 324.72, 964.01, 279.76, 13.02, 15.32, 307.18, 465.25, 291.69, 713.49, 125.53, 765.65, 38.57, 567.78, 402.4, 131.54, 288.23, 705.4, 351.75, 818.57, 176.69, 473.8, 598.14, 711.17, 576.65, 198.87, 52.31, 588.76, 722.02, 710.96, 119.23, 846.55, 595.7, 80.1, 307.05, 750.6, 485.46, 787.75, 474.98, 428.54, 369.85, 740.59, 262.23, 983.04, 808.89, 916.89, 753.5, 7.45, 716.17, 632.46, 217.93, 376.37, 15.16, 27.05, 321.26, 815.79, 514.78, 333.77, 394.86, 963.88, 824.96]\n"
          ],
          "name": "stdout"
        }
      ]
    },
    {
      "cell_type": "code",
      "metadata": {
        "id": "rm3aPyQTRqZp",
        "colab_type": "code",
        "outputId": "5f72f216-edb8-444a-bef6-d1067050c6d1",
        "colab": {
          "base_uri": "https://localhost:8080/",
          "height": 35
        }
      },
      "source": [
        "max_triangle(a)"
      ],
      "execution_count": 0,
      "outputs": [
        {
          "output_type": "execute_result",
          "data": {
            "text/plain": [
              "1974.0"
            ]
          },
          "metadata": {
            "tags": []
          },
          "execution_count": 85
        }
      ]
    },
    {
      "cell_type": "code",
      "metadata": {
        "id": "uSe3thI_Rxy8",
        "colab_type": "code",
        "colab": {}
      },
      "source": [
        ""
      ],
      "execution_count": 0,
      "outputs": []
    }
  ]
}